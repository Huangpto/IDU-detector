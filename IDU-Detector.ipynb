{
  "cells": [
    {
      "cell_type": "markdown",
      "metadata": {
        "id": "Ox4RojhzF26z"
      },
      "source": [
        "# 挂载文件"
      ]
    },
    {
      "cell_type": "code",
      "execution_count": 2,
      "metadata": {
        "colab": {
          "base_uri": "https://localhost:8080/"
        },
        "id": "dimyrxaQ7JyA",
        "outputId": "ba919e87-deec-4046-a99e-292aa6a09334"
      },
      "outputs": [
        {
          "output_type": "stream",
          "name": "stdout",
          "text": [
            "Requirement already satisfied: google-api-python-client in /usr/local/lib/python3.10/dist-packages (2.84.0)\n",
            "Requirement already satisfied: httplib2<1dev,>=0.15.0 in /usr/local/lib/python3.10/dist-packages (from google-api-python-client) (0.22.0)\n",
            "Requirement already satisfied: google-auth<3.0.0dev,>=1.19.0 in /usr/local/lib/python3.10/dist-packages (from google-api-python-client) (2.27.0)\n",
            "Requirement already satisfied: google-auth-httplib2>=0.1.0 in /usr/local/lib/python3.10/dist-packages (from google-api-python-client) (0.1.1)\n",
            "Requirement already satisfied: google-api-core!=2.0.*,!=2.1.*,!=2.2.*,!=2.3.0,<3.0.0dev,>=1.31.5 in /usr/local/lib/python3.10/dist-packages (from google-api-python-client) (2.11.1)\n",
            "Requirement already satisfied: uritemplate<5,>=3.0.1 in /usr/local/lib/python3.10/dist-packages (from google-api-python-client) (4.1.1)\n",
            "Requirement already satisfied: googleapis-common-protos<2.0.dev0,>=1.56.2 in /usr/local/lib/python3.10/dist-packages (from google-api-core!=2.0.*,!=2.1.*,!=2.2.*,!=2.3.0,<3.0.0dev,>=1.31.5->google-api-python-client) (1.63.0)\n",
            "Requirement already satisfied: protobuf!=3.20.0,!=3.20.1,!=4.21.0,!=4.21.1,!=4.21.2,!=4.21.3,!=4.21.4,!=4.21.5,<5.0.0.dev0,>=3.19.5 in /usr/local/lib/python3.10/dist-packages (from google-api-core!=2.0.*,!=2.1.*,!=2.2.*,!=2.3.0,<3.0.0dev,>=1.31.5->google-api-python-client) (3.20.3)\n",
            "Requirement already satisfied: requests<3.0.0.dev0,>=2.18.0 in /usr/local/lib/python3.10/dist-packages (from google-api-core!=2.0.*,!=2.1.*,!=2.2.*,!=2.3.0,<3.0.0dev,>=1.31.5->google-api-python-client) (2.31.0)\n",
            "Requirement already satisfied: cachetools<6.0,>=2.0.0 in /usr/local/lib/python3.10/dist-packages (from google-auth<3.0.0dev,>=1.19.0->google-api-python-client) (5.3.3)\n",
            "Requirement already satisfied: pyasn1-modules>=0.2.1 in /usr/local/lib/python3.10/dist-packages (from google-auth<3.0.0dev,>=1.19.0->google-api-python-client) (0.3.0)\n",
            "Requirement already satisfied: rsa<5,>=3.1.4 in /usr/local/lib/python3.10/dist-packages (from google-auth<3.0.0dev,>=1.19.0->google-api-python-client) (4.9)\n",
            "Requirement already satisfied: pyparsing!=3.0.0,!=3.0.1,!=3.0.2,!=3.0.3,<4,>=2.4.2 in /usr/local/lib/python3.10/dist-packages (from httplib2<1dev,>=0.15.0->google-api-python-client) (3.1.2)\n",
            "Requirement already satisfied: pyasn1<0.6.0,>=0.4.6 in /usr/local/lib/python3.10/dist-packages (from pyasn1-modules>=0.2.1->google-auth<3.0.0dev,>=1.19.0->google-api-python-client) (0.5.1)\n",
            "Requirement already satisfied: charset-normalizer<4,>=2 in /usr/local/lib/python3.10/dist-packages (from requests<3.0.0.dev0,>=2.18.0->google-api-core!=2.0.*,!=2.1.*,!=2.2.*,!=2.3.0,<3.0.0dev,>=1.31.5->google-api-python-client) (3.3.2)\n",
            "Requirement already satisfied: idna<4,>=2.5 in /usr/local/lib/python3.10/dist-packages (from requests<3.0.0.dev0,>=2.18.0->google-api-core!=2.0.*,!=2.1.*,!=2.2.*,!=2.3.0,<3.0.0dev,>=1.31.5->google-api-python-client) (3.6)\n",
            "Requirement already satisfied: urllib3<3,>=1.21.1 in /usr/local/lib/python3.10/dist-packages (from requests<3.0.0.dev0,>=2.18.0->google-api-core!=2.0.*,!=2.1.*,!=2.2.*,!=2.3.0,<3.0.0dev,>=1.31.5->google-api-python-client) (2.0.7)\n",
            "Requirement already satisfied: certifi>=2017.4.17 in /usr/local/lib/python3.10/dist-packages (from requests<3.0.0.dev0,>=2.18.0->google-api-core!=2.0.*,!=2.1.*,!=2.2.*,!=2.3.0,<3.0.0dev,>=1.31.5->google-api-python-client) (2024.2.2)\n",
            "Requirement already satisfied: google-auth-httplib2 in /usr/local/lib/python3.10/dist-packages (0.1.1)\n",
            "Requirement already satisfied: google-auth in /usr/local/lib/python3.10/dist-packages (from google-auth-httplib2) (2.27.0)\n",
            "Requirement already satisfied: httplib2>=0.19.0 in /usr/local/lib/python3.10/dist-packages (from google-auth-httplib2) (0.22.0)\n",
            "Requirement already satisfied: pyparsing!=3.0.0,!=3.0.1,!=3.0.2,!=3.0.3,<4,>=2.4.2 in /usr/local/lib/python3.10/dist-packages (from httplib2>=0.19.0->google-auth-httplib2) (3.1.2)\n",
            "Requirement already satisfied: cachetools<6.0,>=2.0.0 in /usr/local/lib/python3.10/dist-packages (from google-auth->google-auth-httplib2) (5.3.3)\n",
            "Requirement already satisfied: pyasn1-modules>=0.2.1 in /usr/local/lib/python3.10/dist-packages (from google-auth->google-auth-httplib2) (0.3.0)\n",
            "Requirement already satisfied: rsa<5,>=3.1.4 in /usr/local/lib/python3.10/dist-packages (from google-auth->google-auth-httplib2) (4.9)\n",
            "Requirement already satisfied: pyasn1<0.6.0,>=0.4.6 in /usr/local/lib/python3.10/dist-packages (from pyasn1-modules>=0.2.1->google-auth->google-auth-httplib2) (0.5.1)\n",
            "Requirement already satisfied: google-auth-oauthlib in /usr/local/lib/python3.10/dist-packages (1.2.0)\n",
            "Requirement already satisfied: google-auth>=2.15.0 in /usr/local/lib/python3.10/dist-packages (from google-auth-oauthlib) (2.27.0)\n",
            "Requirement already satisfied: requests-oauthlib>=0.7.0 in /usr/local/lib/python3.10/dist-packages (from google-auth-oauthlib) (1.4.0)\n",
            "Requirement already satisfied: cachetools<6.0,>=2.0.0 in /usr/local/lib/python3.10/dist-packages (from google-auth>=2.15.0->google-auth-oauthlib) (5.3.3)\n",
            "Requirement already satisfied: pyasn1-modules>=0.2.1 in /usr/local/lib/python3.10/dist-packages (from google-auth>=2.15.0->google-auth-oauthlib) (0.3.0)\n",
            "Requirement already satisfied: rsa<5,>=3.1.4 in /usr/local/lib/python3.10/dist-packages (from google-auth>=2.15.0->google-auth-oauthlib) (4.9)\n",
            "Requirement already satisfied: oauthlib>=3.0.0 in /usr/local/lib/python3.10/dist-packages (from requests-oauthlib>=0.7.0->google-auth-oauthlib) (3.2.2)\n",
            "Requirement already satisfied: requests>=2.0.0 in /usr/local/lib/python3.10/dist-packages (from requests-oauthlib>=0.7.0->google-auth-oauthlib) (2.31.0)\n",
            "Requirement already satisfied: pyasn1<0.6.0,>=0.4.6 in /usr/local/lib/python3.10/dist-packages (from pyasn1-modules>=0.2.1->google-auth>=2.15.0->google-auth-oauthlib) (0.5.1)\n",
            "Requirement already satisfied: charset-normalizer<4,>=2 in /usr/local/lib/python3.10/dist-packages (from requests>=2.0.0->requests-oauthlib>=0.7.0->google-auth-oauthlib) (3.3.2)\n",
            "Requirement already satisfied: idna<4,>=2.5 in /usr/local/lib/python3.10/dist-packages (from requests>=2.0.0->requests-oauthlib>=0.7.0->google-auth-oauthlib) (3.6)\n",
            "Requirement already satisfied: urllib3<3,>=1.21.1 in /usr/local/lib/python3.10/dist-packages (from requests>=2.0.0->requests-oauthlib>=0.7.0->google-auth-oauthlib) (2.0.7)\n",
            "Requirement already satisfied: certifi>=2017.4.17 in /usr/local/lib/python3.10/dist-packages (from requests>=2.0.0->requests-oauthlib>=0.7.0->google-auth-oauthlib) (2024.2.2)\n",
            "Mounted at /content/drive\n"
          ]
        }
      ],
      "source": [
        "!pip install google-api-python-client\n",
        "!pip install google-auth-httplib2\n",
        "!pip install google-auth-oauthlib\n",
        "\n",
        "from google.colab import drive\n",
        "drive.mount('/content/drive')"
      ]
    },
    {
      "cell_type": "markdown",
      "metadata": {
        "id": "-MlTHCUs3xYD"
      },
      "source": [
        "# KDDCup99"
      ]
    },
    {
      "cell_type": "markdown",
      "metadata": {
        "id": "XNKitHkEFE1l"
      },
      "source": [
        "## 数据预处理"
      ]
    },
    {
      "cell_type": "code",
      "execution_count": 3,
      "metadata": {
        "colab": {
          "base_uri": "https://localhost:8080/"
        },
        "id": "bKTI6HDP32so",
        "outputId": "bce438e2-d53a-412e-946b-81cfbc1e1c83"
      },
      "outputs": [
        {
          "output_type": "stream",
          "name": "stdout",
          "text": [
            "(array([0., 1., 2., 3., 4., 5., 6.]), array([ 97277, 391458,   1377,  23681,  78058,  46166,  41652]))\n"
          ]
        }
      ],
      "source": [
        "import pandas as pd\n",
        "import numpy as np\n",
        "from sklearn.model_selection import train_test_split\n",
        "from sklearn.preprocessing import OrdinalEncoder\n",
        "from sklearn.impute import SimpleImputer\n",
        "from sklearn.pipeline import Pipeline\n",
        "from sklearn.compose import ColumnTransformer\n",
        "from sklearn.preprocessing import StandardScaler\n",
        "from sklearn.preprocessing import LabelEncoder\n",
        "\n",
        "\n",
        "kddcup99 = pd.read_csv('/content/drive/MyDrive/kddcup99(raw).csv',encoding='gbk')\n",
        "kddcup99.columns = kddcup99.columns.str.strip()\n",
        "kddcup99.replace([np.inf, -np.inf], np.nan, inplace=True)\n",
        "kddcup99.dropna(inplace=True)\n",
        "\n",
        "def map_label_to_category(label):\n",
        "    probe_attacks = ['ipsweep', 'nmap', 'portsweep']\n",
        "    dos_attacks = ['smurf', 'neptune', 'back','teardrop','pod','land']\n",
        "    u2r_attacks = ['buffer_overflow','rootkit','loadmodule','perl']\n",
        "    r2l_attacks = ['ftp_write', 'imap', 'multihop','phf', 'spy', 'warezclient','warezmaster','guess_passwd']\n",
        "\n",
        "    if label in probe_attacks:\n",
        "        return 'Probe'\n",
        "    elif label in dos_attacks:\n",
        "        return 'DoS'\n",
        "    elif label in u2r_attacks:\n",
        "        return 'U2R'\n",
        "    elif label in r2l_attacks:\n",
        "        return 'R2L'\n",
        "    elif label == 'normal':\n",
        "        return 'BENIGN'\n",
        "\n",
        "\n",
        "kddcup99['label'] = kddcup99['label'].apply(map_label_to_category)\n",
        "# 检查新的类别分布\n",
        "category_counts = kddcup99['label'].value_counts()\n",
        "kddcup99['label'].value_counts()\n",
        "\n",
        "values_list = ['BENIGN','Probe', 'DoS', 'U2R','R2L']\n",
        "filtered_df = kddcup99[kddcup99['label'].isin(values_list)]\n",
        "\n",
        "\n",
        "pd_train_v1 = pd.read_csv('/content/drive/MyDrive/CVUEBA.csv',encoding='gbk')\n",
        "pd_train_v1 = pd_train_v1.rename(columns={'attack': 'label'})\n",
        "\n",
        "\n",
        "def get_label(Label):\n",
        "    if Label == 0:\n",
        "        return 'Normal'\n",
        "    else:\n",
        "        return 'Malicious'\n",
        "\n",
        "pd_train_v1['label'] = pd_train_v1['label'].apply(get_label)\n",
        "\n",
        "all_columns = set(filtered_df.columns) | set(pd_train_v1.columns)\n",
        "filtered_df_v1 = filtered_df.reindex(columns=all_columns)\n",
        "df_train_v2 = pd_train_v1.reindex(columns=all_columns)\n",
        "pd_final = pd.concat([filtered_df_v1, df_train_v2], ignore_index=True)\n",
        "\n",
        "nb_class = len(list(pd_final['label'].value_counts()))\n",
        "pd_mini = pd_final.sample(n=len(pd_final))\n",
        "\n",
        "object_cols = pd_mini.select_dtypes(include=['object']).columns.tolist()\n",
        "object_cols.remove('label')\n",
        "\n",
        "cat_si_step = ('si', SimpleImputer(strategy='constant', fill_value=-99))\n",
        "cat_ohe_step = ('ohe', OrdinalEncoder()) #离散数据整数化处理\n",
        "cat_steps = [cat_si_step, cat_ohe_step]\n",
        "\n",
        "cat_pipe = Pipeline(cat_steps)\n",
        "cat_cols = object_cols\n",
        "cat_transformers = [('cat', cat_pipe, cat_cols)]\n",
        "\n",
        "ct = ColumnTransformer(transformers=cat_transformers)\n",
        "\n",
        "\n",
        "for column_name in cat_cols:\n",
        "  pd_mini[column_name] = pd_mini[column_name].astype('str')\n",
        "X_kdd_transformed = ct.fit_transform(pd_mini)\n",
        "non_object_cols = pd_mini.select_dtypes(exclude=['object']).columns.tolist()\n",
        "num_cols = non_object_cols\n",
        "num_si_step = ('si', SimpleImputer(strategy='median'))\n",
        "num_ss_step = ('ss', StandardScaler()) #均值-标准差归一化\n",
        "num_steps = [num_si_step, num_ss_step]\n",
        "num_pipe = Pipeline(num_steps)\n",
        "num_transformers = [('num', num_pipe, num_cols)]\n",
        "ct = ColumnTransformer(transformers=num_transformers)\n",
        "X_num_transformed = ct.fit_transform(pd_mini)\n",
        "\n",
        "transformers = [('cat', cat_pipe, cat_cols),\n",
        "                ('num', num_pipe, num_cols)]\n",
        "\n",
        "ct = ColumnTransformer(transformers=transformers)\n",
        "datax = pd_mini.drop(columns=['label'])\n",
        "x_all = ct.fit_transform(datax)\n",
        "le = LabelEncoder()\n",
        "y_all = le.fit_transform(pd_mini['label'])\n",
        "y_all = y_all.reshape(-1,1)\n",
        "data = np.concatenate((y_all.reshape(-1,1),x_all),axis=1)\n",
        "c = []\n",
        "#重采样\n",
        "# for i in range(len(pd_final)):\n",
        "for i in range(516129):\n",
        "    if data[i,0] == 2:\n",
        "        data = np.concatenate((data,np.tile(data[i,:],(80,1))))\n",
        "    if data[i, 0] == 4:\n",
        "        data = np.concatenate((data, np.tile(data[i, :], (30, 1))))\n",
        "    if data[i, 0] == 5:\n",
        "        data = np.concatenate((data, np.tile(data[i, :], (40, 1))))\n",
        "    if data[i,0] == 6:\n",
        "        data = np.concatenate((data,np.tile(data[i,:],(800,1))))\n",
        "print(np.unique(data[:,0], return_counts=True))\n",
        "#转化为独热编码\n",
        "def one_hot_encode(labels, num_classes):\n",
        "    num_samples = len(labels)\n",
        "    one_hot_labels = np.zeros((num_samples, num_classes))\n",
        "    for i in range(num_samples):\n",
        "        one_hot_labels[i, labels[i]] = 1\n",
        "    return one_hot_labels\n",
        "\n",
        "num_classes = 7\n",
        "one_hot_labels = one_hot_encode(data[:,0].astype(int), num_classes)\n",
        "\n",
        "x_train_1, x_test_1, y_train_1, y_test_1 = train_test_split(data[:,1:], one_hot_labels,stratify=one_hot_labels, test_size=0.1, random_state=1)\n"
      ]
    },
    {
      "cell_type": "code",
      "execution_count": 4,
      "metadata": {
        "colab": {
          "base_uri": "https://localhost:8080/"
        },
        "id": "YOUgWOn9xJiB",
        "outputId": "cff8852e-5890-48ea-d95e-1a70993d628c"
      },
      "outputs": [
        {
          "output_type": "stream",
          "name": "stdout",
          "text": [
            "516129\n"
          ]
        }
      ],
      "source": [
        "print(len(pd_final))"
      ]
    },
    {
      "cell_type": "markdown",
      "metadata": {
        "id": "Hzlg1umo5i8a"
      },
      "source": [
        "## 降维"
      ]
    },
    {
      "cell_type": "code",
      "execution_count": 5,
      "metadata": {
        "colab": {
          "base_uri": "https://localhost:8080/"
        },
        "id": "fnL9Ef915ej2",
        "outputId": "f5bc54d7-0be1-46e0-9643-349bd9e2e37c"
      },
      "outputs": [
        {
          "output_type": "stream",
          "name": "stdout",
          "text": [
            "x_train features: 68\n",
            "x_test features: 68\n",
            "y_train features: 7\n",
            "y_test features: 7\n"
          ]
        }
      ],
      "source": [
        "import numpy as np\n",
        "\n",
        "# 打印特征数量\n",
        "print('x_train features:', x_train_1.shape[1] if x_train_1.ndim > 1 else 1)\n",
        "print('x_test features:', x_test_1.shape[1] if x_test_1.ndim > 1 else 1)\n",
        "print('y_train features:', y_train_1.shape[1] if y_train_1.ndim > 1 else 1)\n",
        "print('y_test features:', y_test_1.shape[1] if y_test_1.ndim > 1 else 1)"
      ]
    },
    {
      "cell_type": "code",
      "execution_count": 6,
      "metadata": {
        "colab": {
          "base_uri": "https://localhost:8080/"
        },
        "id": "rwlWaQAT5mZl",
        "outputId": "a757ae9b-d0ff-46b4-ce84-d05b47f58a63"
      },
      "outputs": [
        {
          "output_type": "stream",
          "name": "stdout",
          "text": [
            "Feature ranking:\n",
            "1. feature 17 (importance: 0.42492304979663087)\n",
            "2. feature 48 (importance: 0.15148169611153942)\n",
            "3. feature 32 (importance: 0.10062423984783105)\n",
            "4. feature 0 (importance: 0.0944315957374873)\n",
            "5. feature 40 (importance: 0.043457567575707144)\n",
            "6. feature 3 (importance: 0.039419324811696625)\n",
            "7. feature 4 (importance: 0.03531554561777775)\n",
            "8. feature 1 (importance: 0.02960620440524538)\n",
            "9. feature 51 (importance: 0.015445300330943634)\n",
            "10. feature 34 (importance: 0.012202823564504646)\n",
            "11. feature 67 (importance: 0.011363853646341661)\n",
            "12. feature 61 (importance: 0.005841637648687907)\n",
            "13. feature 50 (importance: 0.0055433346769149855)\n",
            "14. feature 43 (importance: 0.003745560118905575)\n",
            "15. feature 20 (importance: 0.0035273646942286397)\n",
            "16. feature 53 (importance: 0.003466819513821704)\n",
            "17. feature 56 (importance: 0.0032782225836130007)\n",
            "18. feature 7 (importance: 0.0026963038914842715)\n",
            "19. feature 23 (importance: 0.0020300857106746437)\n",
            "20. feature 11 (importance: 0.0017984863167802667)\n",
            "21. feature 37 (importance: 0.001790322775460526)\n",
            "22. feature 52 (importance: 0.0015291388366552297)\n",
            "23. feature 62 (importance: 0.0014161508184537363)\n",
            "24. feature 39 (importance: 0.0012034629646243207)\n",
            "25. feature 21 (importance: 0.0005482007110589753)\n",
            "26. feature 35 (importance: 0.000513561913389938)\n",
            "27. feature 26 (importance: 0.00038462173366830935)\n",
            "28. feature 2 (importance: 0.0003680839026380786)\n",
            "29. feature 66 (importance: 0.0003357281227305231)\n",
            "30. feature 14 (importance: 0.0003179824399816424)\n",
            "31. feature 42 (importance: 0.0002757528517044759)\n",
            "32. feature 41 (importance: 0.00018589414174381198)\n",
            "33. feature 10 (importance: 0.0001856539337416814)\n",
            "34. feature 9 (importance: 0.00015024942866296076)\n",
            "35. feature 8 (importance: 0.00013820469574295417)\n",
            "36. feature 59 (importance: 0.00012937155230843443)\n",
            "37. feature 27 (importance: 9.315690361201835e-05)\n",
            "38. feature 64 (importance: 6.453553329196997e-05)\n",
            "39. feature 58 (importance: 5.152466893812309e-05)\n",
            "40. feature 33 (importance: 4.2673004435292624e-05)\n",
            "41. feature 49 (importance: 2.6814215670410192e-05)\n",
            "42. feature 46 (importance: 1.5751320095334206e-05)\n",
            "43. feature 6 (importance: 1.0356948974128122e-05)\n",
            "44. feature 57 (importance: 7.899456073819419e-06)\n",
            "45. feature 47 (importance: 5.220579759189077e-06)\n",
            "46. feature 36 (importance: 4.888385758884126e-06)\n",
            "47. feature 28 (importance: 1.4979359029313236e-06)\n",
            "48. feature 24 (importance: 1.266931726390821e-06)\n",
            "49. feature 13 (importance: 7.130988164916406e-07)\n",
            "50. feature 25 (importance: 5.859900199340631e-07)\n",
            "51. feature 54 (importance: 5.57771257598345e-07)\n",
            "52. feature 22 (importance: 5.047828702212999e-07)\n",
            "53. feature 60 (importance: 2.442013107587845e-07)\n",
            "54. feature 15 (importance: 1.5345117766896507e-07)\n",
            "55. feature 12 (importance: 5.1540943268959295e-08)\n",
            "56. feature 55 (importance: 5.153045715493569e-08)\n",
            "57. feature 16 (importance: 5.1454403278590504e-08)\n",
            "58. feature 65 (importance: 5.144511885075296e-08)\n",
            "59. feature 5 (importance: 5.142600424721196e-08)\n",
            "60. feature 63 (importance: 0.0)\n",
            "61. feature 45 (importance: 0.0)\n",
            "62. feature 44 (importance: 0.0)\n",
            "63. feature 31 (importance: 0.0)\n",
            "64. feature 30 (importance: 0.0)\n",
            "65. feature 29 (importance: 0.0)\n",
            "66. feature 38 (importance: 0.0)\n",
            "67. feature 18 (importance: 0.0)\n",
            "68. feature 19 (importance: 0.0)\n"
          ]
        }
      ],
      "source": [
        "from sklearn.ensemble import RandomForestRegressor\n",
        "# 使用随机森林评估特征重要性\n",
        "rf = RandomForestRegressor(n_estimators=100)\n",
        "rf.fit(x_train_1, y_train_1)\n",
        "importances = rf.feature_importances_\n",
        "indices = np.argsort(importances)[::-1]\n",
        "print(\"Feature ranking:\")\n",
        "for f in range(x_train_1.shape[1]):\n",
        "    print(f\"{f+1}. feature {indices[f]} (importance: {importances[indices[f]]})\")\n",
        "\n",
        "# 选择重要性最高的N个特征（这里N根据需要调整）\n",
        "N = 67\n",
        "selected_features_indices = indices[:N]"
      ]
    },
    {
      "cell_type": "code",
      "execution_count": null,
      "metadata": {
        "id": "KXCQ32ja6t38"
      },
      "outputs": [],
      "source": [
        "# 从 x_train 中选择重要性最高的 N 个特征\n",
        "x_test_KDD = x_test_1[:, selected_features_indices]\n",
        "\n",
        "# 保存筛选出来的特征到新的文件\n",
        "np.save('/content/drive/MyDrive/x_test_KDD.npy', x_test_KDD)\n",
        "selected_features = np.load('/content/drive/MyDrive/x_test_KDD.npy')\n",
        "print('x_test_KDD features:', x_test_KDD.shape[1] if x_test_KDD.ndim > 1 else 1)"
      ]
    },
    {
      "cell_type": "code",
      "execution_count": null,
      "metadata": {
        "id": "lkNCa-XlfF-i"
      },
      "outputs": [],
      "source": [
        "# 从 x_train 中选择重要性最高的 N 个特征\n",
        "x_train_KDD = x_train_1[:, selected_features_indices]\n",
        "\n",
        "# 保存筛选出来的特征到新的文件\n",
        "np.save('/content/drive/MyDrive/x_train_KDD.npy', x_train_KDD)\n",
        "selected_features = np.load('/content/drive/MyDrive/x_train_KDD.npy')\n",
        "print('x_train_KDD features:', x_train_KDD.shape[1] if x_train_KDD.ndim > 1 else 1)"
      ]
    },
    {
      "cell_type": "code",
      "execution_count": null,
      "metadata": {
        "id": "vzdY0GNzoJg2"
      },
      "outputs": [],
      "source": [
        "!pip install torch"
      ]
    },
    {
      "cell_type": "code",
      "execution_count": 10,
      "metadata": {
        "id": "dniDEX2ioK4D"
      },
      "outputs": [],
      "source": [
        "import torch\n",
        "from torch.utils.data import TensorDataset, DataLoader\n",
        "import torch.nn as nn\n",
        "import torch.nn.functional as F"
      ]
    },
    {
      "cell_type": "code",
      "execution_count": null,
      "metadata": {
        "id": "amccNMsomwBI"
      },
      "outputs": [],
      "source": []
    },
    {
      "cell_type": "code",
      "execution_count": null,
      "metadata": {
        "id": "3x7LgLm2xwWi"
      },
      "outputs": [],
      "source": [
        "x_train_KDD = np.load('/content/drive/MyDrive/x_train_KDD.npy')\n",
        "x_test_KDD = np.load('/content/drive/MyDrive/x_test_KDD.npy')"
      ]
    },
    {
      "cell_type": "code",
      "execution_count": null,
      "metadata": {
        "id": "_lWVyWnsoGWu"
      },
      "outputs": [],
      "source": [
        "train_ds = TensorDataset(torch.tensor(x_train_KDD).float(), torch.tensor(y_train_1).long())\n",
        "test_ds = TensorDataset(torch.tensor(x_test_KDD).float(), torch.tensor(y_test_1).long())\n"
      ]
    },
    {
      "cell_type": "markdown",
      "metadata": {
        "id": "zujEp8DejOR_"
      },
      "source": [
        "## 模型"
      ]
    },
    {
      "cell_type": "code",
      "execution_count": 13,
      "metadata": {
        "id": "Nxhp_Lc07nXf",
        "colab": {
          "base_uri": "https://localhost:8080/"
        },
        "outputId": "88c83b9b-9937-4451-c2e6-fff449ebdd21"
      },
      "outputs": [
        {
          "output_type": "stream",
          "name": "stdout",
          "text": [
            "Using cuda device\n",
            "[ 0.7945631   0.19744829 56.13123768  3.2639126  30.69607398  3.26874373\n",
            " 70.78087389]\n",
            "Epoch 1\n",
            "-------------------------------\n",
            "train 4.305019882034557 acc 30.447015049811835\n",
            "test 17.260124289899842 acc 75.66318948901673\n",
            "Higher accuracy found (75.66%). Model saved.\n",
            "Epoch 2\n",
            "-------------------------------\n",
            "train 0.5767448151336055 acc 88.11594534593642\n",
            "test 23.835339116198675 acc 90.87939735459855\n",
            "Higher accuracy found (90.88%). Model saved.\n",
            "Epoch 3\n",
            "-------------------------------\n",
            "train 0.2648877374547296 acc 95.352312073526\n",
            "test 77.11946911829754 acc 94.74745096885253\n",
            "Higher accuracy found (94.75%). Model saved.\n",
            "Epoch 4\n",
            "-------------------------------\n",
            "train 0.17685512475762907 acc 96.8912967425315\n",
            "test 302.8575375408382 acc 93.47477452293025\n",
            "Epoch 5\n",
            "-------------------------------\n",
            "train 0.13632868522287164 acc 97.5339299201245\n",
            "test 28.66089126086773 acc 96.1510733149911\n",
            "Higher accuracy found (96.15%). Model saved.\n",
            "Epoch 6\n",
            "-------------------------------\n",
            "train 0.11038314246545276 acc 97.90927608541413\n",
            "test 79.14155281648824 acc 96.73370900584106\n",
            "Higher accuracy found (96.73%). Model saved.\n",
            "Epoch 7\n",
            "-------------------------------\n",
            "train 0.09615928666299856 acc 98.11999960765209\n",
            "test 42.079230950066915 acc 96.83817146556417\n",
            "Higher accuracy found (96.84%). Model saved.\n",
            "Epoch 8\n",
            "-------------------------------\n",
            "train 0.08243192387238207 acc 98.28740138171855\n",
            "test 249.3504045561404 acc 96.19962628922859\n",
            "Epoch 9\n",
            "-------------------------------\n",
            "train 0.07534144625114472 acc 98.41687619134808\n",
            "test 169.69390795525527 acc 95.66848617711537\n",
            "Epoch 10\n",
            "-------------------------------\n",
            "train 0.07041245071162863 acc 98.5326188241987\n",
            "test 144.2981872249927 acc 96.95587564553387\n",
            "Higher accuracy found (96.96%). Model saved.\n",
            "Epoch 11\n",
            "-------------------------------\n",
            "train 0.06419147725789866 acc 98.62449362598127\n",
            "test 379.02454379053887 acc 95.7199817558521\n",
            "Epoch 12\n",
            "-------------------------------\n",
            "train 0.06120456707348198 acc 98.72454234251319\n",
            "test 2069.794360568733 acc 95.87446849206232\n",
            "Epoch 13\n",
            "-------------------------------\n",
            "train 0.05736300133472644 acc 98.78192322405354\n",
            "test 130.10698478425243 acc 97.35165595068194\n",
            "Higher accuracy found (97.35%). Model saved.\n",
            "Epoch 14\n",
            "-------------------------------\n",
            "train 0.05333435162629106 acc 98.87706759173585\n",
            "test 132.134586560799 acc 94.48408786617034\n",
            "Epoch 15\n",
            "-------------------------------\n",
            "train 0.050463918581893315 acc 98.94638238881024\n",
            "test 77.60306322989159 acc 96.72782379684259\n",
            "Epoch 16\n",
            "-------------------------------\n",
            "train 0.048488747952194204 acc 99.00180153081075\n",
            "test 164.82469333958974 acc 96.18197066223314\n",
            "Epoch 17\n",
            "-------------------------------\n",
            "train 0.04632099048355322 acc 99.06408676120071\n",
            "test 121.24754511893384 acc 96.88083923080319\n",
            "Epoch 18\n",
            "-------------------------------\n",
            "train 0.045391788365607734 acc 99.10234068222762\n",
            "test 174.8418419475254 acc 97.30310297644445\n",
            "Epoch 19\n",
            "-------------------------------\n",
            "train 0.046438905840864304 acc 99.13748851564978\n",
            "test 2313.999461074731 acc 96.13488899024527\n",
            "Epoch 20\n",
            "-------------------------------\n",
            "train 0.042960750396951845 acc 99.17394417543183\n",
            "test 125.33586420836558 acc 96.79697500257478\n",
            "Epoch 21\n",
            "-------------------------------\n",
            "train 0.04240968096348609 acc 99.2113807049838\n",
            "test 179.21595020923428 acc 95.31095973045743\n",
            "Epoch 22\n",
            "-------------------------------\n",
            "train 0.04059926493231706 acc 99.23295983992206\n",
            "test 269.822216621383 acc 96.42473553342063\n",
            "Epoch 23\n",
            "-------------------------------\n",
            "train 0.040279838152202506 acc 99.2558468012202\n",
            "test 452.12603061153953 acc 96.78373328232819\n",
            "Epoch 24\n",
            "-------------------------------\n",
            "train 0.039293303703265774 acc 99.28788854703761\n",
            "test 191.87109442246393 acc 96.68956993835243\n",
            "Epoch 25\n",
            "-------------------------------\n",
            "train 0.03886179100672391 acc 99.30554420289619\n",
            "test 88.9948197866657 acc 96.53214059764298\n",
            "Epoch 26\n",
            "-------------------------------\n",
            "train 0.03729148099956855 acc 99.32009377115\n",
            "test 213.25301047409638 acc 96.27024879721041\n",
            "Epoch 27\n",
            "-------------------------------\n",
            "train 0.03762874319179132 acc 99.33856681848351\n",
            "test 211.29606491980087 acc 97.27661953595127\n",
            "Epoch 28\n",
            "-------------------------------\n",
            "train 0.03601872574949099 acc 99.36308856273152\n",
            "test 25.216704085035097 acc 97.53704003413421\n",
            "Higher accuracy found (97.54%). Model saved.\n",
            "Epoch 29\n",
            "-------------------------------\n",
            "train 0.03663485339637183 acc 99.3621076929616\n",
            "test 101.78955773795303 acc 97.69152677034444\n",
            "Higher accuracy found (97.69%). Model saved.\n",
            "Epoch 30\n",
            "-------------------------------\n",
            "train 0.03568942455168634 acc 99.38368682789987\n",
            "test 658.3422917185309 acc 96.01865611252519\n",
            "Epoch 31\n",
            "-------------------------------\n",
            "train 0.03366840788894859 acc 99.39905378762862\n",
            "test 71.28776885326812 acc 97.30457427869408\n",
            "Epoch 32\n",
            "-------------------------------\n",
            "train 0.03493520793764147 acc 99.41474770394734\n",
            "test 181.5925949237439 acc 97.0000147130225\n",
            "Epoch 33\n",
            "-------------------------------\n",
            "train 0.03438512421082549 acc 99.41670944348719\n",
            "test 485.6399633257293 acc 96.4983006459017\n",
            "Epoch 34\n",
            "-------------------------------\n",
            "train 0.036906962959991116 acc 99.42586422800645\n",
            "test 7175.607540198526 acc 94.57383730339724\n",
            "Epoch 35\n",
            "-------------------------------\n",
            "train 0.032917456529015544 acc 99.43567292570566\n",
            "test 108.95293250868947 acc 97.24277958420998\n",
            "Epoch 36\n",
            "-------------------------------\n",
            "train 0.032717944906657234 acc 99.45267466838428\n",
            "test 635.2599863641566 acc 96.54685362013919\n",
            "Epoch 37\n",
            "-------------------------------\n",
            "train 0.03368803315983976 acc 99.45937727847874\n",
            "test 331.9157290257044 acc 97.1956979122221\n",
            "Epoch 38\n",
            "-------------------------------\n",
            "train 0.032826028357938936 acc 99.46215640949352\n",
            "test 161.82548322890275 acc 96.99854341077288\n",
            "Epoch 39\n",
            "-------------------------------\n",
            "train 0.03173120322843787 acc 99.47245554207768\n",
            "test 480.92639458778444 acc 96.4159077199229\n",
            "Epoch 40\n",
            "-------------------------------\n",
            "train 0.030323663343861506 acc 99.48994771964126\n",
            "test 121.65200959279069 acc 96.61159091912252\n",
            "Epoch 41\n",
            "-------------------------------\n",
            "train 0.03135448160045975 acc 99.47817728240221\n",
            "test 176.1411346827189 acc 97.29133255844748\n",
            "Epoch 42\n",
            "-------------------------------\n",
            "train 0.03202726049095424 acc 99.48553380567662\n",
            "test 171.13513043370182 acc 96.9029087645475\n",
            "Epoch 43\n",
            "-------------------------------\n",
            "train 0.03085678068650146 acc 99.4982851126856\n",
            "test 147.63219042911274 acc 97.49584357114482\n",
            "Epoch 44\n",
            "-------------------------------\n",
            "train 0.032237848599790106 acc 99.49730424291567\n",
            "test 228.3715648071357 acc 96.90585136904674\n",
            "Epoch 45\n",
            "-------------------------------\n",
            "train 0.030665873490842877 acc 99.50482424448506\n",
            "test 256.30726735035825 acc 97.49142966439595\n",
            "Epoch 46\n",
            "-------------------------------\n",
            "train 0.030106807663251557 acc 99.51495989877424\n",
            "test 96.28380082693315 acc 97.70182588609178\n",
            "Higher accuracy found (97.70%). Model saved.\n",
            "Epoch 47\n",
            "-------------------------------\n",
            "train 0.028096854577287174 acc 99.52934598873307\n",
            "test 131.63750219157427 acc 96.92056439154295\n",
            "Epoch 48\n",
            "-------------------------------\n",
            "train 0.029746776595848096 acc 99.52378772670353\n",
            "test 177.05417131905836 acc 97.13096061323878\n",
            "Epoch 49\n",
            "-------------------------------\n",
            "train 0.029329451331240416 acc 99.53114424997793\n",
            "test 91.07859027610665 acc 97.89750908529139\n",
            "Higher accuracy found (97.90%). Model saved.\n",
            "Epoch 50\n",
            "-------------------------------\n",
            "train 0.028873034115007856 acc 99.53621207712251\n",
            "test 221.43870054234932 acc 97.12213279974105\n",
            "Epoch 51\n",
            "-------------------------------\n",
            "train 0.028319059294759526 acc 99.53621207712251\n",
            "test 3634.7743553535915 acc 96.57480836288198\n",
            "Epoch 52\n",
            "-------------------------------\n",
            "train 0.02740720803978479 acc 99.54618425311672\n",
            "test 288.9136163483346 acc 97.74155104683155\n",
            "Epoch 53\n",
            "-------------------------------\n",
            "train 0.02734047278241161 acc 99.55468512445603\n",
            "test 138.83862490018416 acc 97.16332926273044\n",
            "Epoch 54\n",
            "-------------------------------\n",
            "train 0.027548350869601487 acc 99.57332165008452\n",
            "test 251.51198550338307 acc 97.47524533965013\n",
            "Epoch 55\n",
            "-------------------------------\n",
            "train 0.02658051201342079 acc 99.57250425860958\n",
            "test 3510.1254600892894 acc 97.07799373225242\n",
            "Epoch 56\n",
            "-------------------------------\n",
            "train 0.027700646342534305 acc 99.57201382372462\n",
            "test 1908.7135640441693 acc 96.03484043727103\n",
            "Epoch 57\n",
            "-------------------------------\n",
            "train 0.027757602846069714 acc 99.57789904234414\n",
            "test 245.21228774327827 acc 96.88525313755204\n",
            "Epoch 58\n",
            "-------------------------------\n",
            "train 0.030172319217206554 acc 99.56187816943545\n",
            "test 1609.842805227937 acc 96.93969132078803\n",
            "Epoch 59\n",
            "-------------------------------\n",
            "train 0.027597153230514728 acc 99.579697303589\n",
            "test 90.9918670971126 acc 96.67191431135699\n",
            "Epoch 60\n",
            "-------------------------------\n",
            "train 0.0284020461576794 acc 99.579697303589\n",
            "test 91.9057709598 acc 97.48848705989671\n",
            "Epoch 61\n",
            "-------------------------------\n",
            "train 0.027337605526834476 acc 99.58574600050352\n",
            "test 1579.9615166625813 acc 96.42032162667176\n",
            "Epoch 62\n",
            "-------------------------------\n",
            "train 0.026376049480815983 acc 99.59195817571302\n",
            "test 169.54140450907923 acc 97.98284461576942\n",
            "Higher accuracy found (97.98%). Model saved.\n",
            "Epoch 63\n",
            "-------------------------------\n",
            "train 0.030712299041460254 acc 99.58917904469824\n",
            "test 464.5078635529792 acc 97.12948931098916\n",
            "Epoch 64\n",
            "-------------------------------\n",
            "train 0.02876558229926327 acc 99.58901556640325\n",
            "test 243.89404389388943 acc 97.22512395721454\n",
            "Epoch 65\n",
            "-------------------------------\n",
            "train 0.027008608946986846 acc 99.59767991603755\n",
            "test 335.3179392718458 acc 97.16185796048082\n",
            "Epoch 66\n",
            "-------------------------------\n",
            "train 0.027081898328332837 acc 99.60601730908188\n",
            "test 3822.6804753895326 acc 96.58510747862934\n",
            "Epoch 67\n",
            "-------------------------------\n",
            "train 0.027435571673057317 acc 99.6081425269167\n",
            "test 90.35625742650039 acc 97.85778392455163\n",
            "Epoch 68\n",
            "-------------------------------\n",
            "train 0.02713989251390417 acc 99.59735295944758\n",
            "test 2554.878335824077 acc 97.0147277355187\n",
            "Epoch 69\n",
            "-------------------------------\n",
            "train 0.024704977321678628 acc 99.61010426645655\n",
            "test 110.08497087880303 acc 97.62237556461224\n",
            "Epoch 70\n",
            "-------------------------------\n",
            "train 0.027649189203672663 acc 99.6094503532766\n",
            "test 122.79579375782295 acc 97.4531758059058\n",
            "Epoch 71\n",
            "-------------------------------\n",
            "train 0.025977874643852004 acc 99.6181147029109\n",
            "test 2466.4565016350084 acc 97.09712066149748\n",
            "Epoch 72\n",
            "-------------------------------\n",
            "train 0.02677283882289257 acc 99.61386426724124\n",
            "test 1278.0989704653866 acc 97.0353259670134\n",
            "Epoch 73\n",
            "-------------------------------\n",
            "train 0.025101658704094677 acc 99.61517209360113\n",
            "test 152.4556547825783 acc 98.04169670575426\n",
            "Higher accuracy found (98.04%). Model saved.\n",
            "Epoch 74\n",
            "-------------------------------\n",
            "train 0.02634067283004423 acc 99.62710600913516\n",
            "test 3029.097802231877 acc 97.7032971883414\n",
            "Epoch 75\n",
            "-------------------------------\n",
            "train 0.025359788744649014 acc 99.63511644558952\n",
            "test 1130.6437290039516 acc 96.96617476128121\n",
            "Epoch 76\n",
            "-------------------------------\n",
            "train 0.026041039618944543 acc 99.62972166185496\n",
            "test 436.20689511904493 acc 95.63023231862522\n",
            "Epoch 77\n",
            "-------------------------------\n",
            "train 0.025618321319630908 acc 99.63331818434466\n",
            "test 870.6797722314373 acc 96.32027307369754\n",
            "Epoch 78\n",
            "-------------------------------\n",
            "train 0.026060370187352803 acc 99.63478948899954\n",
            "test 126.16740435735792 acc 95.90389453705475\n",
            "Epoch 79\n",
            "-------------------------------\n",
            "train 0.02442822162150581 acc 99.6514642750882\n",
            "test 1247.9360948705694 acc 95.93920579104565\n",
            "Epoch 80\n",
            "-------------------------------\n",
            "train 0.023959178320468535 acc 99.64557905646868\n",
            "test 2566.599513973915 acc 94.45613312342755\n",
            "Epoch 81\n",
            "-------------------------------\n",
            "train 0.027049934104580342 acc 99.63299122775469\n",
            "test 136.26699319802648 acc 97.30751688319332\n",
            "Epoch 82\n",
            "-------------------------------\n",
            "train 0.025451351639049453 acc 99.65211818826815\n",
            "test 408.9514253176924 acc 96.61600482587139\n",
            "Epoch 83\n",
            "-------------------------------\n",
            "train 0.025422715654384313 acc 99.64378079522382\n",
            "test 320.10549022583376 acc 93.0333838480439\n",
            "Epoch 84\n",
            "-------------------------------\n",
            "train 0.02389664721730502 acc 99.65571471075785\n",
            "test 1725.462181073267 acc 95.89212411905778\n",
            "Epoch 85\n",
            "-------------------------------\n",
            "train 0.025154145853679186 acc 99.64492514328873\n",
            "test 536.5780667088089 acc 95.59197846013507\n",
            "Epoch 86\n",
            "-------------------------------\n",
            "train 0.023224160635716497 acc 99.66290775573727\n",
            "test 409.10325565527864 acc 96.71016816984714\n",
            "Epoch 87\n",
            "-------------------------------\n",
            "train 0.025425909230285607 acc 99.65424340610298\n",
            "test 166.6887532949353 acc 97.01619903776833\n",
            "Epoch 88\n",
            "-------------------------------\n",
            "train 0.02574002607724343 acc 99.6490121006634\n",
            "test 574.536725750347 acc 95.78766165933467\n",
            "Epoch 89\n",
            "-------------------------------\n",
            "train 0.025902052421369257 acc 99.65702253711774\n",
            "test 69.9686797948106 acc 97.91516471228684\n",
            "Epoch 90\n",
            "-------------------------------\n",
            "train 0.024765055819738962 acc 99.65195470997315\n",
            "test 2084.8842496718453 acc 96.85582709255962\n",
            "Epoch 91\n",
            "-------------------------------\n",
            "train 0.024638441700593542 acc 99.67173558366656\n",
            "test 79.2982689938788 acc 97.77097709182398\n",
            "Epoch 92\n",
            "-------------------------------\n",
            "train 0.027875469724886862 acc 99.6527721014481\n",
            "test 1492.9979367444005 acc 95.32420145070402\n",
            "Epoch 93\n",
            "-------------------------------\n",
            "train 0.023017106956456958 acc 99.66225384255732\n",
            "test 394.9552142872839 acc 96.00100048552974\n",
            "Epoch 94\n",
            "-------------------------------\n",
            "train 0.022693396552236192 acc 99.68268862943067\n",
            "test 284.19888806210383 acc 97.71359630408875\n",
            "Epoch 95\n",
            "-------------------------------\n",
            "train 0.023841352400272645 acc 99.67320688832143\n",
            "test 243.5612871713194 acc 97.67239984109936\n",
            "Epoch 96\n",
            "-------------------------------\n",
            "train 0.022645689371872692 acc 99.68170775966075\n",
            "test 270.40251449927604 acc 97.48848705989671\n",
            "Epoch 97\n",
            "-------------------------------\n",
            "train 0.024154433925384286 acc 99.66846601776682\n",
            "test 1006.098531946876 acc 95.17854252799152\n",
            "Epoch 98\n",
            "-------------------------------\n",
            "train 0.02525939002784885 acc 99.66699471311195\n",
            "test 129.20663024589578 acc 96.94116262303766\n",
            "Epoch 99\n",
            "-------------------------------\n",
            "train 0.0235717023905183 acc 99.68056341159584\n",
            "test 630.927886130416 acc 95.21973899098091\n",
            "Epoch 100\n",
            "-------------------------------\n",
            "train 0.02253860616764842 acc 99.68350602090561\n",
            "test 192.29220221486096 acc 95.95980402254035\n",
            "Epoch 101\n",
            "-------------------------------\n",
            "train 0.022503105324463358 acc 99.69298776201484\n",
            "test 3442.559549560547 acc 92.83770064884429\n",
            "Epoch 102\n",
            "-------------------------------\n",
            "train 0.022660763852916137 acc 99.69200689224492\n",
            "test 304.23180750315254 acc 95.97304574278694\n",
            "Epoch 103\n",
            "-------------------------------\n",
            "train 0.021598634749412766 acc 99.69674776279953\n",
            "test 229.3567198394164 acc 94.59296423264232\n",
            "Epoch 104\n",
            "-------------------------------\n",
            "train 0.025277077635152512 acc 99.68105384648081\n",
            "test 299.41135276441594 acc 94.5444112584048\n",
            "Epoch 105\n",
            "-------------------------------\n",
            "train 0.02425755137804395 acc 99.67549558445126\n",
            "test 524.73591449542 acc 94.80630305883737\n",
            "Epoch 106\n",
            "-------------------------------\n",
            "train 0.02448281817226237 acc 99.66961036583173\n",
            "test 229.71101116576526 acc 94.66800064737299\n",
            "Epoch 107\n",
            "-------------------------------\n",
            "train 0.024869629311396996 acc 99.68105384648081\n",
            "test 461.3195836171858 acc 95.87299718981271\n",
            "Epoch 108\n",
            "-------------------------------\n",
            "train 0.02355499529388999 acc 99.678601672056\n",
            "test 174.36760486904583 acc 96.1157620610002\n",
            "Epoch 109\n",
            "-------------------------------\n",
            "train 0.02375190529259819 acc 99.69642080620956\n",
            "test 2536.225267010461 acc 97.0279694557653\n",
            "Epoch 110\n",
            "-------------------------------\n",
            "train 0.023889797324747983 acc 99.69429558837473\n",
            "test 129.49561524561332 acc 95.31243103270705\n",
            "Epoch 111\n",
            "-------------------------------\n",
            "train 0.02644638452388124 acc 99.68383297749558\n",
            "test 1315.508570513042 acc 94.6194476731355\n",
            "Epoch 112\n",
            "-------------------------------\n",
            "train 0.022855078330922655 acc 99.6946225449647\n",
            "test 185.32324328887867 acc 95.92302146629982\n",
            "Epoch 113\n",
            "-------------------------------\n",
            "train 0.024341204187134525 acc 99.6946225449647\n",
            "test 252.85385705434885 acc 96.23346624096989\n",
            "Epoch 114\n",
            "-------------------------------\n",
            "train 0.021127839029344554 acc 99.70770080856364\n",
            "test 310.10267701575225 acc 97.85337001780276\n",
            "Epoch 115\n",
            "-------------------------------\n",
            "train 0.022920088618941396 acc 99.7057390690238\n",
            "test 185.99767013149042 acc 96.69986905409978\n",
            "Epoch 116\n",
            "-------------------------------\n",
            "train 0.022481206340039934 acc 99.70246950312406\n",
            "test 333.6763834812279 acc 95.74205128959642\n",
            "Epoch 117\n",
            "-------------------------------\n",
            "train 0.022534533507911788 acc 99.69854602404439\n",
            "test 207.79802380196043 acc 96.38206776818161\n",
            "Epoch 118\n",
            "-------------------------------\n",
            "train 0.02242951885590434 acc 99.7132590705932\n",
            "test 447.8208665151772 acc 94.89310989156502\n",
            "Epoch 119\n",
            "-------------------------------\n",
            "train 0.02125489623656021 acc 99.71391298377314\n",
            "test 3252.86887198729 acc 96.77931937557932\n",
            "Epoch 120\n",
            "-------------------------------\n",
            "train 0.020764082446045322 acc 99.71865385432775\n",
            "test 12594.962281844362 acc 94.31488810746391\n",
            "Epoch 121\n",
            "-------------------------------\n",
            "train 0.023024493691837927 acc 99.70410428607394\n",
            "test 288.854426197768 acc 96.68809863610281\n",
            "Epoch 122\n",
            "-------------------------------\n",
            "train 0.022354176535755034 acc 99.70116167676417\n",
            "test 575.6059843143028 acc 95.07849397501728\n",
            "Epoch 123\n",
            "-------------------------------\n",
            "train 0.02101057929283792 acc 99.72143298534253\n",
            "test 1213.8024757918167 acc 93.51155707917077\n",
            "Epoch 124\n",
            "-------------------------------\n",
            "train 0.01989442389731647 acc 99.7366364667763\n",
            "test 522.4475832993647 acc 96.42179292892139\n",
            "Epoch 125\n",
            "-------------------------------\n",
            "train 0.023842189452219043 acc 99.70835472174359\n",
            "test 377.34199316049154 acc 95.54342548589757\n",
            "Epoch 126\n",
            "-------------------------------\n",
            "train 0.022953984696143084 acc 99.7132590705932\n",
            "test 205.25308252422357 acc 92.1697294275163\n",
            "Epoch 127\n",
            "-------------------------------\n",
            "train 0.02191934060833488 acc 99.71538428842803\n",
            "test 115.35655881708341 acc 96.88525313755204\n",
            "Epoch 128\n",
            "-------------------------------\n",
            "train 0.022863585178138274 acc 99.71750950626286\n",
            "test 5009.199531344453 acc 93.69105595362456\n",
            "Epoch 129\n",
            "-------------------------------\n",
            "train 0.020977549115500305 acc 99.71849037603278\n",
            "test 181.64491121323002 acc 96.06573778451308\n",
            "Epoch 130\n",
            "-------------------------------\n",
            "train 0.021310354879459124 acc 99.71522081013303\n",
            "test 889.1831810853297 acc 92.89361013432989\n",
            "Epoch 131\n",
            "-------------------------------\n",
            "train 0.021880954191856213 acc 99.72306776829241\n",
            "test 61.86306164104884 acc 96.25112186796534\n",
            "Epoch 132\n",
            "-------------------------------\n",
            "train 0.02098314281679431 acc 99.71750950626286\n",
            "test 508.97691825134604 acc 96.45416157841305\n",
            "Epoch 133\n",
            "-------------------------------\n",
            "train 0.02021243679839823 acc 99.7268277690771\n",
            "test 174.4935626937129 acc 94.36049847720217\n",
            "Epoch 134\n",
            "-------------------------------\n",
            "train 0.022615709138533543 acc 99.72878950861694\n",
            "test 163.63866462181429 acc 95.15647299424721\n",
            "Epoch 135\n",
            "-------------------------------\n",
            "train 0.02193980173217683 acc 99.72568342101219\n",
            "test 2749.141404283 acc 95.74940780084452\n",
            "Epoch 136\n",
            "-------------------------------\n",
            "train 0.020622745923368917 acc 99.73156863963172\n",
            "test 619.4270215222044 acc 96.32321567819677\n",
            "Epoch 137\n",
            "-------------------------------\n",
            "train 0.021105950302413957 acc 99.72208689852248\n",
            "test 2537.2771374887534 acc 94.16334397575294\n",
            "Epoch 138\n",
            "-------------------------------\n",
            "train 0.023094310441445175 acc 99.71031646128344\n",
            "test 746.7182049668828 acc 94.17364309150028\n",
            "Epoch 139\n",
            "-------------------------------\n",
            "train 0.01895375616921411 acc 99.72633733419214\n",
            "test 400.67235926904846 acc 94.11331969926582\n",
            "Epoch 140\n",
            "-------------------------------\n",
            "train 0.02161532825703643 acc 99.73254950940164\n",
            "test 354.87179205026405 acc 91.27517765974665\n",
            "Epoch 141\n",
            "-------------------------------\n",
            "train 0.021853298841679476 acc 99.73238603110666\n",
            "test 689.6431766965644 acc 94.58413641914458\n",
            "Epoch 142\n",
            "-------------------------------\n",
            "train 0.024599889808548246 acc 99.73026081327183\n",
            "test 457.34708886481894 acc 96.14813071049186\n",
            "Epoch 143\n",
            "-------------------------------\n",
            "train 0.021783015781586843 acc 99.72829907373197\n",
            "test 455.3092787107558 acc 93.28644783497874\n",
            "Epoch 144\n",
            "-------------------------------\n",
            "train 0.018909763969146055 acc 99.73974255438105\n",
            "test 2139.689561343041 acc 93.51744228816926\n",
            "Epoch 145\n",
            "-------------------------------\n",
            "train 0.021561295157847035 acc 99.7379442931362\n",
            "test 143.01585910554547 acc 95.27564847646651\n",
            "Epoch 146\n",
            "-------------------------------\n",
            "train 0.01986951295395526 acc 99.74219472880586\n",
            "test 136.58715029760907 acc 96.1510733149911\n",
            "Epoch 147\n",
            "-------------------------------\n",
            "train 0.020051358914397077 acc 99.74677212106549\n",
            "test 224.33971938789873 acc 96.09369252725587\n",
            "Epoch 148\n",
            "-------------------------------\n",
            "train 0.020256202486926368 acc 99.73729037995625\n",
            "test 340.7076786928285 acc 95.36981182044228\n",
            "Epoch 149\n",
            "-------------------------------\n",
            "train 0.02001687797630256 acc 99.74105038074094\n",
            "test 949.1097431404129 acc 95.10203481101122\n",
            "Epoch 150\n",
            "-------------------------------\n",
            "train 0.019399667606571767 acc 99.73892516290613\n",
            "test 662.3851359673405 acc 93.77933408860183\n",
            "Epoch 151\n",
            "-------------------------------\n",
            "train 0.021081476286342868 acc 99.74252168539583\n",
            "test 281.9708095733444 acc 93.05692468403784\n",
            "Epoch 152\n",
            "-------------------------------\n",
            "train 0.019649696327767467 acc 99.7492242954903\n",
            "test 203.22872973356354 acc 95.69496961760855\n",
            "Epoch 153\n",
            "-------------------------------\n",
            "train 0.023742775805096632 acc 99.7181634194428\n",
            "test 1985.09738856209 acc 93.37619727220563\n",
            "Epoch 154\n",
            "-------------------------------\n",
            "train 0.02016886006839813 acc 99.73385733576153\n",
            "test 2063.885404989535 acc 94.74009445760443\n",
            "Epoch 155\n",
            "-------------------------------\n",
            "train 0.019020570541121808 acc 99.74709907765546\n",
            "test 286.0984091085147 acc 94.33990024570747\n",
            "Epoch 156\n",
            "-------------------------------\n",
            "train 0.02053117202438702 acc 99.73565559700639\n",
            "test 183.84254319229535 acc 95.1697147144938\n",
            "Epoch 157\n",
            "-------------------------------\n",
            "train 0.02136733544653169 acc 99.74448342493567\n",
            "test 157.146100120134 acc 93.32323039121927\n",
            "Epoch 158\n",
            "-------------------------------\n",
            "train 0.01871145362662547 acc 99.74742603424544\n",
            "test 2958.833033421747 acc 94.91812202980859\n",
            "Epoch 159\n",
            "-------------------------------\n",
            "train 0.019801207493010873 acc 99.74775299083541\n",
            "test 262.3906717386755 acc 94.6547589271264\n",
            "Epoch 160\n",
            "-------------------------------\n",
            "train 0.021438935350891076 acc 99.73532864041641\n",
            "test 268.574691191622 acc 96.01718481027558\n",
            "Epoch 161\n",
            "-------------------------------\n",
            "train 0.018069507631569566 acc 99.75200342650507\n",
            "test 458.46749469762864 acc 95.58903585563583\n",
            "Epoch 162\n",
            "-------------------------------\n",
            "train 0.01966176297859397 acc 99.75085907844016\n",
            "test 163.54626669880716 acc 97.0000147130225\n",
            "Epoch 163\n",
            "-------------------------------\n",
            "train 0.0205332928052816 acc 99.74791646913039\n",
            "test 2835.5149008544736 acc 93.81023143584386\n",
            "Epoch 164\n",
            "-------------------------------\n",
            "train 0.019688833787572493 acc 99.75069560014516\n",
            "test 612.8377320420153 acc 94.66358674062413\n",
            "Epoch 165\n",
            "-------------------------------\n",
            "train 0.02017903957456225 acc 99.76262951567921\n",
            "test 780.2704420388507 acc 91.20896905851369\n",
            "Epoch 166\n",
            "-------------------------------\n",
            "train 0.01982786843857497 acc 99.74709907765546\n",
            "test 779.2121460571643 acc 93.58365088940221\n",
            "Epoch 167\n",
            "-------------------------------\n",
            "train 0.019010295801832916 acc 99.75494603581483\n",
            "test 825.3208113995161 acc 92.45221945944355\n",
            "Epoch 168\n",
            "-------------------------------\n",
            "train 0.01860320106723703 acc 99.74595472959055\n",
            "test 825.2453353280977 acc 95.36834051819265\n",
            "Epoch 169\n",
            "-------------------------------\n",
            "train 0.019144149941003056 acc 99.75821560171455\n",
            "test 188.26025166109213 acc 94.7871761295923\n",
            "Epoch 170\n",
            "-------------------------------\n",
            "train 0.021295492657115715 acc 99.73254950940164\n",
            "test 378.9933767009166 acc 96.25847837921344\n",
            "Epoch 171\n",
            "-------------------------------\n",
            "train 0.019081003007241068 acc 99.75085907844016\n",
            "test 162.2667006119382 acc 94.69301278561655\n",
            "Epoch 172\n",
            "-------------------------------\n",
            "train 0.02326442931663227 acc 99.73941559779108\n",
            "test 2651.8473726076713 acc 93.61749084114349\n",
            "Epoch 173\n",
            "-------------------------------\n",
            "train 0.02046597419178713 acc 99.75004168696522\n",
            "test 858.1445631351454 acc 94.67977106536996\n",
            "Epoch 174\n",
            "-------------------------------\n",
            "train 0.021137615284338402 acc 99.75903299318949\n",
            "test 160.886953803673 acc 94.38992452219459\n",
            "Epoch 175\n",
            "-------------------------------\n",
            "train 0.018142541733001838 acc 99.77652517075308\n",
            "test 556.1982365923503 acc 96.05985257551458\n",
            "Epoch 176\n",
            "-------------------------------\n",
            "train 0.019834021686755434 acc 99.7539651660449\n",
            "test 464.98468228429556 acc 94.69154148336693\n",
            "Epoch 177\n",
            "-------------------------------\n",
            "train 0.01708285392005526 acc 99.777506040523\n",
            "test 239.63934818661204 acc 94.34284285020672\n",
            "Epoch 178\n",
            "-------------------------------\n",
            "train 0.020914980103652357 acc 99.7763616924581\n",
            "test 347.7842060967193 acc 94.53264084040785\n",
            "Epoch 179\n",
            "-------------------------------\n",
            "train 0.017492707007303765 acc 99.78322778084754\n",
            "test 269.49208014712343 acc 94.65328762487678\n",
            "Epoch 180\n",
            "-------------------------------\n",
            "train 0.018264553967587385 acc 99.77292864826337\n",
            "test 342.85214462820124 acc 92.78620507010756\n",
            "Epoch 181\n",
            "-------------------------------\n",
            "train 0.018923443480831702 acc 99.77734256222801\n",
            "test 237.45610136735513 acc 95.93332058204717\n",
            "Epoch 182\n",
            "-------------------------------\n",
            "train 0.019830011151644313 acc 99.7763616924581\n",
            "test 132.2455772357298 acc 96.22610972972177\n",
            "Epoch 183\n",
            "-------------------------------\n",
            "train 0.019733757768538085 acc 99.76900516918369\n",
            "test 2629.725316636035 acc 96.95734694778348\n",
            "Epoch 184\n",
            "-------------------------------\n",
            "train 0.020097400085522844 acc 99.7577251668296\n",
            "test 397.48643674698474 acc 94.64593111362868\n",
            "Epoch 185\n",
            "-------------------------------\n",
            "train 0.019509588708106436 acc 99.75886951489451\n",
            "test 278.31163521716724 acc 96.82051583856872\n",
            "Epoch 186\n",
            "-------------------------------\n",
            "train 0.01858972033125199 acc 99.76328342885915\n",
            "test 167.4307307042549 acc 93.56158135565789\n",
            "Epoch 187\n",
            "-------------------------------\n",
            "train 0.02249100970904205 acc 99.75641734046971\n",
            "test 674.3659486400666 acc 94.10743449026734\n",
            "Epoch 188\n",
            "-------------------------------\n",
            "train 0.018732971207468092 acc 99.76835125600374\n",
            "test 2760.4213093399967 acc 92.86859799608634\n",
            "Epoch 189\n",
            "-------------------------------\n",
            "train 0.018633771074974943 acc 99.76213908079424\n",
            "test 369.65798640766536 acc 96.45269027616344\n",
            "Epoch 190\n",
            "-------------------------------\n",
            "train 0.02019933787297727 acc 99.77979473665282\n",
            "test 137.58149546271284 acc 94.97108891079495\n",
            "Epoch 191\n",
            "-------------------------------\n",
            "train 0.01689211202407997 acc 99.78273734596257\n",
            "test 932.468407292688 acc 91.84751423484927\n",
            "Epoch 192\n",
            "-------------------------------\n",
            "train 0.020465655184394017 acc 99.76213908079424\n",
            "test 307.1671995600927 acc 94.71213971486162\n",
            "Epoch 193\n",
            "-------------------------------\n",
            "train 0.015719615369989202 acc 99.78731473822221\n",
            "test 2692.910180193853 acc 96.03484043727103\n",
            "Epoch 194\n",
            "-------------------------------\n",
            "train 0.019094581586673733 acc 99.79614256615149\n",
            "test 213.09878345750295 acc 95.5110568364059\n",
            "Epoch 195\n",
            "-------------------------------\n",
            "train 0.017741649125119507 acc 99.78355473743751\n",
            "test 129.6074179543823 acc 95.80678858857975\n",
            "Epoch 196\n",
            "-------------------------------\n",
            "train 0.014913957321314762 acc 99.79189213048184\n",
            "test 1223.3544912832076 acc 93.46741801168214\n",
            "Epoch 197\n",
            "-------------------------------\n",
            "train 0.019487003308876635 acc 99.777506040523\n",
            "test 589.3700063539935 acc 94.75775008459988\n",
            "Epoch 198\n",
            "-------------------------------\n",
            "train 0.01780576265045661 acc 99.77766951881799\n",
            "test 218.06439494558512 acc 95.19914075948623\n",
            "Epoch 199\n",
            "-------------------------------\n",
            "train 0.017202756735732464 acc 99.78567995527234\n",
            "test 940.5640400961388 acc 94.09419277002074\n",
            "Epoch 200\n",
            "-------------------------------\n",
            "train 0.01801727635958064 acc 99.777506040523\n",
            "test 156.61282724077566 acc 95.65818706136801\n"
          ]
        }
      ],
      "source": [
        "\n",
        "# if isinstance(x_train_1, pd.DataFrame):\n",
        "#     x_train_1 = x_train_1.values\n",
        "#     x_test_1 = x_test_1.values\n",
        "\n",
        "# if isinstance(y_train_1, pd.DataFrame):\n",
        "#     y_train_1 = y_train_1.values\n",
        "#     y_test_1 = y_test_1.values\n",
        "\n",
        "class SelfAttention(nn.Module):\n",
        "    def __init__(self, dim):\n",
        "        super(SelfAttention, self).__init__()\n",
        "        self.query = nn.Linear(dim, dim)\n",
        "        self.key = nn.Linear(dim, dim)\n",
        "        self.value = nn.Linear(dim, dim)\n",
        "\n",
        "    def forward(self, x):\n",
        "        q = self.query(x)\n",
        "        k = self.key(x)\n",
        "        v = self.value(x)\n",
        "        attention = F.softmax(q @ k.transpose(-2, -1) / x.size(-1)**0.5, dim=-1)\n",
        "        return attention @ v\n",
        "class DNNModel(nn.Module):\n",
        "    def __init__(self, dim_num, nb_class, dropout_num, dropout_p):\n",
        "        super().__init__()\n",
        "        self.nor = nn.BatchNorm1d(dim_num)\n",
        "        self.attention = SelfAttention(dim_num)\n",
        "        self.lin1 = nn.Linear(dim_num, 512)  # Increase size\n",
        "        self.lin2 = nn.Linear(dim_num + 512, 256)  # Adjust accordingly\n",
        "        self.lin3 = nn.Linear(dim_num + 512 + 256, 128)  # Adjust accordingly\n",
        "        self.lin4 = nn.Linear(dim_num + 512 + 256 + 128, 64)  # Adjust accordingly\n",
        "        self.lin5 = nn.Linear(dim_num + 512 + 256 + 128 + 64, 32)  # Adjust accordingly\n",
        "        self.lin6 = nn.Linear(dim_num + 512 + 256 + 128 + 64 + 32, 16)  # New layer\n",
        "        self.lin7 = nn.Linear(dim_num + 512 + 256 + 128 + 64 + 32 + 16, 8)  # New layer\n",
        "        # Adjust final layer to include input from all previous layers\n",
        "        self.fc = nn.Linear(dim_num + 512 + 256 + 128 + 64 + 32 + 16 + 8, nb_class)\n",
        "        self.flatten = nn.Flatten()\n",
        "        self.dropouts = nn.ModuleList([nn.Dropout(dropout_p) for _ in range(dropout_num)])\n",
        "\n",
        "    def forward(self, x):\n",
        "        x = self.nor(x)\n",
        "        attention_out = self.attention(x) + x\n",
        "\n",
        "        out1 = F.relu(self.lin1(attention_out))\n",
        "        concat1 = torch.cat([attention_out, out1], dim=1)\n",
        "\n",
        "        out2 = F.relu(self.lin2(concat1))\n",
        "        concat2 = torch.cat([concat1, out2], dim=1)\n",
        "\n",
        "        out3 = F.relu(self.lin3(concat2))\n",
        "        concat3 = torch.cat([concat2, out3], dim=1)\n",
        "\n",
        "        out4 = F.relu(self.lin4(concat3))\n",
        "        concat4 = torch.cat([concat3, out4], dim=1)\n",
        "\n",
        "        out5 = F.relu(self.lin5(concat4))\n",
        "        concat5 = torch.cat([concat4, out5], dim=1)\n",
        "\n",
        "        out6 = F.relu(self.lin6(concat5))\n",
        "        concat6 = torch.cat([concat5, out6], dim=1)\n",
        "\n",
        "        out7 = F.relu(self.lin7(concat6))\n",
        "        concat7 = torch.cat([concat6, out7], dim=1)\n",
        "\n",
        "        flat_out = self.flatten(concat7)\n",
        "\n",
        "        if len(self.dropouts) == 0:\n",
        "            return self.fc(flat_out)\n",
        "        else:\n",
        "            out = None\n",
        "            for i, dropout in enumerate(self.dropouts):\n",
        "                if i == 0:\n",
        "                    out = dropout(flat_out)\n",
        "                    out = self.fc(out)\n",
        "                else:\n",
        "                    temp_out = dropout(flat_out)\n",
        "                    out += self.fc(temp_out)\n",
        "            return out / len(self.dropouts)\n",
        "\n",
        "batch_size = 512\n",
        "train_dl = DataLoader(train_ds, batch_size=batch_size, shuffle=True)\n",
        "test_dl = DataLoader(test_ds, batch_size=batch_size, shuffle=False)\n",
        "\n",
        "\n",
        "def train(dataloader, model, loss_fn, optimizer):\n",
        "    model.train()\n",
        "    total_loss = 0.0\n",
        "    correct = 0\n",
        "    total = 0\n",
        "\n",
        "    for inputs, labels in dataloader:\n",
        "        inputs, labels = inputs.to(device), labels.to(device)\n",
        "        optimizer.zero_grad()\n",
        "        outputs = model(inputs)\n",
        "        labels = labels.to(torch.float32)\n",
        "        loss = loss_fn(outputs, labels)  # 使用交叉熵损失函数计算损失\n",
        "        loss.backward()\n",
        "        optimizer.step()\n",
        "\n",
        "        total_loss += loss.item()\n",
        "        _, predicted = outputs.max(1)\n",
        "        total += labels.size(0)\n",
        "        correct += predicted.eq(labels.argmax(dim=1)).sum().item()\n",
        "\n",
        "    train_loss = total_loss / len(dataloader)\n",
        "    train_acc = 100. * correct / total\n",
        "    print('train', train_loss, 'acc', train_acc)\n",
        "    return train_loss, train_acc\n",
        "\n",
        "def test(dataloader, model, loss_fn):\n",
        "    model.eval()\n",
        "    total_loss = 0.0\n",
        "    correct = 0\n",
        "    total = 0\n",
        "\n",
        "    with torch.no_grad():\n",
        "        for inputs, labels in dataloader:\n",
        "            inputs, labels = inputs.to(device), labels.to(device)\n",
        "            outputs = model(inputs)\n",
        "            labels = labels.to(torch.float32)\n",
        "            loss = loss_fn(outputs, labels)\n",
        "\n",
        "            total_loss += loss.item()\n",
        "            _, predicted = outputs.max(1)\n",
        "            total += labels.size(0)\n",
        "            correct += predicted.eq(labels.argmax(dim=1)).sum().item()\n",
        "\n",
        "    test_loss = total_loss / len(dataloader)\n",
        "    test_acc = 100. * correct / total\n",
        "    print('test', test_loss, 'acc', test_acc)\n",
        "    return test_loss, test_acc\n",
        "\n",
        "\n",
        "device = \"cuda\" if torch.cuda.is_available() else \"mps\" if torch.backends.mps.is_available() else \"cpu\"\n",
        "print(f\"Using {device} device\")\n",
        "\n",
        "dnn_model = DNNModel(dim_num=67, nb_class=7, dropout_num=8, dropout_p=0.5).to(device)\n",
        "\n",
        "# [ 97277, 391458,   1377,  23681,   2518,   1126,    572]\n",
        "samples_per_class = np.array([ 97277, 391458,   1377,  23681,   2518,  23646,   1092])\n",
        "total_samples = samples_per_class.sum()\n",
        "weights = total_samples / (len(samples_per_class) * samples_per_class)\n",
        "print(weights)\n",
        "loss_fn = nn.CrossEntropyLoss(weight=torch.tensor(weights, dtype=torch.float).to(device))\n",
        "# loss_fn = nn.CrossEntropyLoss()\n",
        "optimizer = torch.optim.Adam(dnn_model.parameters(), lr= 1e-5, betas = (0.88, 0.98), weight_decay = 1e-6)\n",
        "\n",
        "\n",
        "epochs = 200\n",
        "train_loss_list = []\n",
        "train_acc_list = []\n",
        "test_loss_list = []\n",
        "test_acc_list = []\n",
        "\n",
        "best_accuracy = 0.0\n",
        "#\n",
        "for t in range(epochs):\n",
        "    print(f\"Epoch {t+1}\\n-------------------------------\")\n",
        "    train_loss, train_correct = train(train_dl, dnn_model, loss_fn, optimizer)\n",
        "    test_loss, test_correct = test(test_dl, dnn_model, loss_fn)\n",
        "\n",
        "    if test_correct > best_accuracy:\n",
        "        best_accuracy = test_correct\n",
        "        torch.save(dnn_model.state_dict(), '/content/drive/MyDrive/best_dnn_model_KDD.pth')\n",
        "        print(f\"Higher accuracy found ({best_accuracy:.2f}%). Model saved.\")\n",
        "\n",
        "    train_loss_list.append(train_loss)\n",
        "    train_acc_list.append(train_correct)\n",
        "    test_loss_list.append(test_loss)\n",
        "    test_acc_list.append(test_correct)\n",
        "\n",
        "acc = train_acc_list\n",
        "val_acc = test_acc_list\n",
        "\n",
        "loss = train_loss_list\n",
        "val_loss = test_loss_list\n",
        "epochs_range = range(epochs)\n",
        "\n"
      ]
    },
    {
      "cell_type": "markdown",
      "metadata": {
        "id": "1WudL1FS1Mgh"
      },
      "source": [
        "## 分类报告"
      ]
    },
    {
      "cell_type": "code",
      "execution_count": 23,
      "metadata": {
        "id": "Bwyodu1DvTjQ",
        "colab": {
          "base_uri": "https://localhost:8080/"
        },
        "outputId": "0c843c17-4fdb-496c-c11e-d35f36447524"
      },
      "outputs": [
        {
          "output_type": "stream",
          "name": "stdout",
          "text": [
            "预测正确率: 0.9804169670575427\n"
          ]
        }
      ],
      "source": [
        "predict_list = []  # 存储预测结果\n",
        "label_list = []  # 存储真实标签\n",
        "predict_pro_list = []  # 存储预测概率\n",
        "\n",
        "# 创建模型实例\n",
        "\n",
        "# 加载最优模型参数\n",
        "dnn_model.load_state_dict(torch.load('/content/drive/MyDrive/best_dnn_model_KDD.pth'))\n",
        "dnn_model.eval()\n",
        "m_softmax = nn.Softmax(dim=1)  # 定义softmax函数用于计算概率\n",
        "\n",
        "\n",
        "# 遍历测试集\n",
        "for (x, y) in test_dl:\n",
        "    x = x.to(device)\n",
        "    y = y.to(device)\n",
        "\n",
        "    # 使用最优模型进行预测\n",
        "    predict_score = dnn_model(x)\n",
        "    predict_pro = m_softmax(predict_score)\n",
        "    predict_label = torch.argmax(predict_score, dim=1)\n",
        "    y = y.argmax(dim=1)\n",
        "    # 将预测结果和真实标签添加到相应的列表中\n",
        "    predict_list.append(predict_label.cpu().numpy())\n",
        "    label_list.append(y.cpu().numpy())\n",
        "\n",
        "# 将列表转换为数组\n",
        "predict_array = np.concatenate(predict_list)\n",
        "label_array = np.concatenate(label_list)\n",
        "\n",
        "# 将独热编码转换为位置索引\n",
        "\n",
        "# # 计算正确预测的样本数\n",
        "correct_predictions = (predict_array == label_array).sum()\n",
        "# # 计算总样本数\n",
        "total_samples = len(label_array)  # 使用 label_index 的长度\n",
        "# # 计算正确率\n",
        "accuracy = correct_predictions / total_samples\n",
        "#\n",
        "print(\"预测正确率:\", accuracy)\n",
        "#"
      ]
    },
    {
      "cell_type": "code",
      "execution_count": 15,
      "metadata": {
        "id": "mu3MQ17VgesH",
        "colab": {
          "base_uri": "https://localhost:8080/"
        },
        "outputId": "4d82b3db-2161-4a05-8d57-88c1a7f51218"
      },
      "outputs": [
        {
          "output_type": "stream",
          "name": "stdout",
          "text": [
            "预测正确率: 0.9804\n",
            "分类报告:\n",
            "              precision    recall  f1-score   support\n",
            "\n",
            "           0     0.9693    0.9805    0.9749      9728\n",
            "           1     0.9999    0.9912    0.9955     39146\n",
            "           2     0.9926    0.9783    0.9854       138\n",
            "           3     0.8988    0.9755    0.9356      2368\n",
            "           4     0.9951    0.9710    0.9829      7806\n",
            "           5     0.9743    0.9276    0.9504      4616\n",
            "           6     0.8665    0.9582    0.9100      4165\n",
            "\n",
            "    accuracy                         0.9804     67967\n",
            "   macro avg     0.9567    0.9689    0.9621     67967\n",
            "weighted avg     0.9815    0.9804    0.9807     67967\n",
            "\n",
            "混淆矩阵:\n",
            "[[ 9538     0     0    57    36    67    30]\n",
            " [   22 38800     0    89     1     1   233]\n",
            " [    1     0   135     1     0     0     1]\n",
            " [   17     0     1  2310     0     0    40]\n",
            " [  112     3     0    15  7580    12    84]\n",
            " [   76     0     0    31     0  4282   227]\n",
            " [   74     0     0    67     0    33  3991]]\n"
          ]
        }
      ],
      "source": [
        "import numpy as np\n",
        "from sklearn.metrics import classification_report, confusion_matrix\n",
        "\n",
        "# 确保之前的代码已经执行，此处不再重复\n",
        "\n",
        "# 将列表转换为数组\n",
        "predict_array = np.concatenate(predict_list)\n",
        "label_array = np.concatenate(label_list)\n",
        "\n",
        "# 计算正确预测的样本数\n",
        "correct_predictions = (predict_array == label_array).sum()\n",
        "# 计算总样本数\n",
        "total_samples = len(label_array)\n",
        "# 计算正确率\n",
        "accuracy = correct_predictions / total_samples\n",
        "print(\"预测正确率: {:.4f}\".format(accuracy))\n",
        "\n",
        "# 打印分类报告\n",
        "# 在classification_report中设置digits参数为4，以设置小数点后四位的精度\n",
        "print(\"分类报告:\")\n",
        "print(classification_report(label_array, predict_array, digits=4))\n",
        "\n",
        "# 计算并打印混淆矩阵\n",
        "# 注意：混淆矩阵是整数，所以不需要设置小数位数\n",
        "print(\"混淆矩阵:\")\n",
        "cm = confusion_matrix(label_array, predict_array)\n",
        "print(cm)"
      ]
    },
    {
      "cell_type": "code",
      "execution_count": 16,
      "metadata": {
        "id": "L4eSymrm1Mgo",
        "colab": {
          "base_uri": "https://localhost:8080/"
        },
        "outputId": "334cff86-11d1-419e-9bec-8ceebfff74dd"
      },
      "outputs": [
        {
          "output_type": "stream",
          "name": "stdout",
          "text": [
            "混淆矩阵:\n",
            "假警报率: 0.0006\n"
          ]
        }
      ],
      "source": [
        "0.0020# 计算并打印混淆矩阵\n",
        "print(\"混淆矩阵:\")\n",
        "cm = confusion_matrix(label_array, predict_array)\n",
        "\n",
        "# 计算假警报率\n",
        "FP = cm[1][0]\n",
        "TN = cm[1][1]\n",
        "false_alarm_rate = FP / (FP + TN)\n",
        "print(\"假警报率: {:.4f}\".format(false_alarm_rate))\n"
      ]
    },
    {
      "cell_type": "code",
      "execution_count": 17,
      "metadata": {
        "id": "qxIXn_jc1Mgo",
        "colab": {
          "base_uri": "https://localhost:8080/"
        },
        "outputId": "4b98a84b-3f67-44b9-9cd7-0a58ca22c3ab"
      },
      "outputs": [
        {
          "output_type": "stream",
          "name": "stdout",
          "text": [
            "混淆矩阵:\n",
            "检测率: 1.0000\n"
          ]
        }
      ],
      "source": [
        "# 计算并打印混淆矩阵\n",
        "print(\"混淆矩阵:\")\n",
        "cm = confusion_matrix(label_array, predict_array)\n",
        "\n",
        "# 计算检测率\n",
        "TP = cm[0][0]\n",
        "FN = cm[0][1]\n",
        "detection_rate = TP / (TP + FN)\n",
        "print(\"检测率: {:.4f}\".format(detection_rate))\n"
      ]
    },
    {
      "cell_type": "code",
      "execution_count": 18,
      "metadata": {
        "id": "tz9tafpN1Mgp",
        "colab": {
          "base_uri": "https://localhost:8080/"
        },
        "outputId": "96a09089-e579-4679-d3fc-b8f93dd073db"
      },
      "outputs": [
        {
          "metadata": {
            "tags": null
          },
          "name": "stdout",
          "output_type": "stream",
          "text": [
            "混淆矩阵:\n",
            "假负例率: 0.0000\n"
          ]
        }
      ],
      "source": [
        "# 计算并打印混淆矩阵\n",
        "print(\"混淆矩阵:\")\n",
        "cm = confusion_matrix(label_array, predict_array)\n",
        "\n",
        "# 计算假负例率\n",
        "TP = cm[0][0]\n",
        "FN = cm[0][1]\n",
        "false_negative_rate = FN / (TP + FN)\n",
        "print(\"假负例率: {:.4f}\".format(false_negative_rate))\n"
      ]
    },
    {
      "cell_type": "code",
      "execution_count": 19,
      "metadata": {
        "id": "pE4umfCj1Mgp",
        "colab": {
          "base_uri": "https://localhost:8080/",
          "height": 619
        },
        "outputId": "7e6e2011-4650-45fe-aff9-0b028d334ca5"
      },
      "outputs": [
        {
          "output_type": "display_data",
          "data": {
            "text/plain": [
              "<Figure size 1000x700 with 2 Axes>"
            ],
            "image/png": "[encoded data removed]"
          },
          "metadata": {}
        }
      ],
      "source": [
        "import numpy as np\n",
        "import matplotlib.pyplot as plt\n",
        "import seaborn as sns\n",
        "from sklearn.metrics import confusion_matrix\n",
        "\n",
        "import numpy as np\n",
        "\n",
        "# 计算混淆矩阵\n",
        "cm = confusion_matrix(label_array, predict_array)\n",
        "\n",
        "# 将混淆矩阵转换为正确率矩阵\n",
        "cm_rate = cm.astype('float') / cm.sum(axis=1)[:, np.newaxis]\n",
        "\n",
        "# 绘制热图\n",
        "plt.figure(figsize=(10, 7))\n",
        "sns.heatmap(cm_rate, annot=True, fmt='.4f', cmap='Blues')\n",
        "plt.ylabel('Actual label')\n",
        "plt.xlabel('Predicted label')\n",
        "# 保存图像\n",
        "# plt.savefig('/content/drive/MyDrive/Figure/confusion_matrix_NSL-KDD.png')  # 指定保存路径和文件名\n",
        "\n",
        "# 显示图像\n",
        "plt.show()\n"
      ]
    },
    {
      "cell_type": "code",
      "execution_count": 20,
      "metadata": {
        "id": "wZzBXg8_vncd",
        "colab": {
          "base_uri": "https://localhost:8080/"
        },
        "outputId": "1c0701d3-5d3b-43ba-9848-e6fd4ba51c8f"
      },
      "outputs": [
        {
          "output_type": "stream",
          "name": "stdout",
          "text": [
            "Accuracy: 0.9804169670575427\n",
            "Precision: 0.9815368448443319\n",
            "Recall: 0.9804169670575427\n",
            "F1-Score: 0.9807093454790325\n"
          ]
        }
      ],
      "source": [
        "from sklearn.metrics import precision_score, recall_score, f1_score, accuracy_score\n",
        "# Assuming predict_array and label_array are already defined as shown in your code\n",
        "\n",
        "# Calculate Accuracy\n",
        "accuracy = accuracy_score(label_array, predict_array)\n",
        "print(\"Accuracy:\", accuracy)\n",
        "\n",
        "# Calculate Precision\n",
        "precision = precision_score(label_array, predict_array, average='weighted')\n",
        "print(\"Precision:\", precision)\n",
        "\n",
        "# Calculate Recall\n",
        "recall = recall_score(label_array, predict_array, average='weighted')\n",
        "print(\"Recall:\", recall)\n",
        "\n",
        "# Calculate F1-Score\n",
        "f1 = f1_score(label_array, predict_array, average='weighted')\n",
        "print(\"F1-Score:\", f1)\n"
      ]
    },
    {
      "cell_type": "code",
      "execution_count": 21,
      "metadata": {
        "id": "w9LNYm1M1Mgp",
        "colab": {
          "base_uri": "https://localhost:8080/"
        },
        "outputId": "875108be-481e-40a4-b713-4f3a009d1634"
      },
      "outputs": [
        {
          "output_type": "stream",
          "name": "stdout",
          "text": [
            "Accuracy: 0.9804169670575427\n",
            "Precision: 0.9815368448443319\n",
            "Recall: 0.9804169670575427\n",
            "F1-Score: 0.9807093454790325\n"
          ]
        }
      ],
      "source": [
        "from sklearn.metrics import precision_score, recall_score, f1_score, accuracy_score\n",
        "# Assuming predict_array and label_array are already defined as shown in your code\n",
        "\n",
        "# Calculate Accuracy\n",
        "accuracy = accuracy_score(label_array, predict_array)\n",
        "print(\"Accuracy:\", accuracy)\n",
        "\n",
        "# Calculate Precision\n",
        "precision = precision_score(label_array, predict_array, average='weighted')\n",
        "print(\"Precision:\", precision)\n",
        "\n",
        "# Calculate Recall\n",
        "recall = recall_score(label_array, predict_array, average='weighted')\n",
        "print(\"Recall:\", recall)\n",
        "\n",
        "# Calculate F1-Score\n",
        "f1 = f1_score(label_array, predict_array, average='weighted')\n",
        "print(\"F1-Score:\", f1)\n"
      ]
    },
    {
      "cell_type": "code",
      "execution_count": 22,
      "metadata": {
        "id": "6VNUIfLyNLgb",
        "colab": {
          "base_uri": "https://localhost:8080/"
        },
        "outputId": "7f142bb5-e138-49cf-e20c-7847e58d8b34"
      },
      "outputs": [
        {
          "output_type": "stream",
          "name": "stdout",
          "text": [
            "Accuracy of class 0: 0.98046875\n",
            "Accuracy of class 1: 0.9911612936187605\n",
            "Accuracy of class 2: 0.9782608695652174\n",
            "Accuracy of class 3: 0.9755067567567568\n",
            "Accuracy of class 4: 0.9710479118626697\n",
            "Accuracy of class 5: 0.9276429809358753\n",
            "Accuracy of class 6: 0.9582232893157263\n"
          ]
        }
      ],
      "source": [
        "from sklearn.metrics import confusion_matrix\n",
        "import numpy as np\n",
        "\n",
        "# 假设你已经有了真实标签和预测标签\n",
        "# label_array, predict_array\n",
        "\n",
        "# 计算混淆矩阵\n",
        "cm = confusion_matrix(label_array, predict_array)\n",
        "\n",
        "# 每个类别的准确率计算\n",
        "class_accuracy = np.diag(cm) / cm.sum(axis=1)\n",
        "\n",
        "# 打印每个类别的准确率\n",
        "for i, acc in enumerate(class_accuracy):\n",
        "    print(f\"Accuracy of class {i}: {acc}\")"
      ]
    },
    {
      "cell_type": "markdown",
      "metadata": {
        "id": "usXJmKUstVRz"
      },
      "source": [
        "# 分界线"
      ]
    },
    {
      "cell_type": "markdown",
      "metadata": {
        "id": "g9ynOArDb6p4"
      },
      "source": [
        "# NSL-KDD"
      ]
    },
    {
      "cell_type": "markdown",
      "metadata": {
        "id": "sVJ_Bo8XEBTP"
      },
      "source": [
        "## 数据预处理"
      ]
    },
    {
      "cell_type": "code",
      "execution_count": null,
      "metadata": {
        "id": "HXy3-ReHwu58"
      },
      "outputs": [],
      "source": [
        "import pandas as pd\n",
        "import numpy as np\n",
        "from sklearn.model_selection import train_test_split\n",
        "from sklearn.preprocessing import OrdinalEncoder\n",
        "from sklearn.impute import SimpleImputer\n",
        "from sklearn.pipeline import Pipeline\n",
        "from sklearn.compose import ColumnTransformer\n",
        "from sklearn.preprocessing import StandardScaler\n",
        "from sklearn.preprocessing import LabelEncoder\n",
        "\n",
        "\n",
        "NSL_KDD = pd.read_csv('/content/drive/MyDrive/NSL_KDD.csv',encoding='gbk')\n",
        "NSL_KDD.columns = NSL_KDD.columns.str.strip()\n",
        "NSL_KDD.replace([np.inf, -np.inf], np.nan, inplace=True)\n",
        "NSL_KDD.dropna(inplace=True)\n",
        "\n",
        "# 定义一个标签映射函数，它将每个攻击类型标签映射到相应的类别\n",
        "def map_label_to_category(label):\n",
        "    # 定义每个类别的攻击类型\n",
        "    probe_attacks = ['satan', 'ipsweep', 'nmap', 'portsweep', 'mscan', 'saint']\n",
        "    dos_attacks = ['neptune', 'smurf', 'back', 'teardrop', 'pod', 'land', 'apache2', 'processtable', 'mailbomb', 'snmpgetattack', 'httptunnel', 'worm', 'sqlattack', 'udpstorm']\n",
        "    u2r_attacks = ['buffer_overflow', 'loadmodule', 'rootkit', 'perl', 'xterm', 'ps']\n",
        "    r2l_attacks = ['guess_passwd', 'ftp_write', 'imap', 'phf', 'multihop', 'warezmaster', 'warezclient', 'spy', 'named', 'sendmail', 'snmpguess', 'xlock', 'xsnoop']\n",
        "\n",
        "    # 检查标签是否在任何攻击类型列表中，并返回相应的类别\n",
        "    if label in probe_attacks:\n",
        "        return 'Probe'\n",
        "    elif label in dos_attacks:\n",
        "        return 'DoS'\n",
        "    elif label in u2r_attacks:\n",
        "        return 'U2R'\n",
        "    elif label in r2l_attacks:\n",
        "        return 'R2L'\n",
        "    elif label == 'normal':\n",
        "        return 'BENIGN'\n",
        "\n",
        "NSL_KDD['label'] = NSL_KDD['labels'].apply(map_label_to_category)\n",
        "# 检查新的类别分布\n",
        "category_counts = NSL_KDD['label'].value_counts()\n",
        "NSL_KDD['label'].value_counts()\n",
        "\n",
        "values_list = ['BENIGN','Probe', 'DoS', 'U2R','R2L']\n",
        "filtered_df = NSL_KDD[NSL_KDD['label'].isin(values_list)]\n",
        "\n",
        "\n",
        "# 假设你有一个DataFrame叫做df，其中包含了上图中的数据\n",
        "# 应用标签映射函数到数据集的每一行\n",
        "NSL_KDD['label'] = NSL_KDD['labels'].apply(map_label_to_category)\n",
        "\n",
        "pd_train_v1 = pd.read_csv('/content/drive/MyDrive/CVUEBA.csv',encoding='gbk')\n",
        "pd_train_v1 = pd_train_v1.rename(columns={'attack': 'label'})\n",
        "\n",
        "\n",
        "def get_label(Label):\n",
        "    if Label == 0:\n",
        "        return 'Normal'\n",
        "    else:\n",
        "        return 'Malicious'\n",
        "\n",
        "pd_train_v1['label'] = pd_train_v1['label'].apply(get_label)\n",
        "# pd_train_v1.drop(columns=['day'],inplace=True)\n",
        "\n",
        "all_columns = set(filtered_df.columns) | set(pd_train_v1.columns)\n",
        "filtered_df_v1 = filtered_df.reindex(columns=all_columns)\n",
        "df_train_v2 = pd_train_v1.reindex(columns=all_columns)\n",
        "pd_final = pd.concat([filtered_df_v1, df_train_v2], ignore_index=True)\n",
        "\n",
        "nb_class = len(list(pd_final['label'].value_counts()))\n",
        "pd_mini = pd_final.sample(n=len(pd_final))\n",
        "\n",
        "object_cols = pd_mini.select_dtypes(include=['object']).columns.tolist()\n",
        "object_cols.remove('label')\n",
        "\n",
        "cat_si_step = ('si', SimpleImputer(strategy='constant', fill_value=-99))\n",
        "cat_ohe_step = ('ohe', OrdinalEncoder()) #离散数据整数化处理\n",
        "cat_steps = [cat_si_step, cat_ohe_step]\n",
        "\n",
        "cat_pipe = Pipeline(cat_steps)\n",
        "cat_cols = object_cols\n",
        "cat_transformers = [('cat', cat_pipe, cat_cols)]\n",
        "\n",
        "ct = ColumnTransformer(transformers=cat_transformers)\n",
        "\n",
        "\n",
        "for column_name in cat_cols:\n",
        "  pd_mini[column_name] = pd_mini[column_name].astype('str')\n",
        "X_kdd_transformed = ct.fit_transform(pd_mini)\n",
        "non_object_cols = pd_mini.select_dtypes(exclude=['object']).columns.tolist()\n",
        "num_cols = non_object_cols\n",
        "num_si_step = ('si', SimpleImputer(strategy='median'))\n",
        "num_ss_step = ('ss', StandardScaler()) #均值-标准差归一化\n",
        "num_steps = [num_si_step, num_ss_step]\n",
        "num_pipe = Pipeline(num_steps)\n",
        "num_transformers = [('num', num_pipe, num_cols)]\n",
        "ct = ColumnTransformer(transformers=num_transformers)\n",
        "X_num_transformed = ct.fit_transform(pd_mini)\n",
        "\n",
        "transformers = [('cat', cat_pipe, cat_cols),\n",
        "                ('num', num_pipe, num_cols)]\n",
        "\n",
        "ct = ColumnTransformer(transformers=transformers)\n",
        "datax = pd_mini.drop(columns=['label'])\n",
        "x_all = ct.fit_transform(datax)\n",
        "le = LabelEncoder()\n",
        "y_all = le.fit_transform(pd_mini['label'])\n",
        "y_all = y_all.reshape(-1,1)\n",
        "data = np.concatenate((y_all.reshape(-1,1),x_all),axis=1)\n",
        "c = []\n",
        "\n"
      ]
    },
    {
      "cell_type": "code",
      "execution_count": null,
      "metadata": {
        "colab": {
          "base_uri": "https://localhost:8080/"
        },
        "id": "70Ff_60Uejdm",
        "outputId": "ab8d8b63-d534-47e8-f913-ac2c0bba6766"
      },
      "outputs": [
        {
          "name": "stdout",
          "output_type": "stream",
          "text": [
            "172215\n"
          ]
        }
      ],
      "source": [
        "print(len(x_all))"
      ]
    },
    {
      "cell_type": "code",
      "execution_count": null,
      "metadata": {
        "colab": {
          "base_uri": "https://localhost:8080/"
        },
        "id": "_fIy-wRWZXRp",
        "outputId": "3ee8a9d6-d4d9-47e5-e2b4-948683b33ea7"
      },
      "outputs": [
        {
          "name": "stdout",
          "output_type": "stream",
          "text": [
            "(array([0., 1., 2., 3., 4., 5., 6.]), array([77054, 53700,    17, 23681, 14077,  3569,   117]))\n",
            "(array([0., 1., 2., 3., 4., 5., 6.]), array([77054, 53700,  1377, 23681, 14077,  3569,  1287]))\n"
          ]
        }
      ],
      "source": [
        "# 重采样\n",
        "print(np.unique(data[:,0], return_counts=True))\n",
        "# #重采样\n",
        "# for i in range(172215):\n",
        "#     if data[i,0] == 2:\n",
        "#         data = np.concatenate((data,np.tile(data[i,:],(80,1))))\n",
        "#     if data[i, 0] == 5:\n",
        "#         data = np.concatenate((data, np.tile(data[i, :], (80, 1))))\n",
        "#     if data[i,0] == 6:\n",
        "#         data = np.concatenate((data,np.tile(data[i,:],(80,1))))\n",
        "# for i in range(172215):\n",
        "#     if data[i,0] == 2:\n",
        "#         data = np.concatenate((data,np.tile(data[i,:],(80,1))))\n",
        "#     if data[i, 0] == 5:\n",
        "#         data = np.concatenate((data, np.tile(data[i, :], (30, 1))))\n",
        "#     if data[i,0] == 6:\n",
        "#         data = np.concatenate((data,np.tile(data[i,:],(30,1))))\n",
        "for i in range(172215):\n",
        "    if data[i,0] == 2:\n",
        "        data = np.concatenate((data,np.tile(data[i,:],(80,1))))\n",
        "    # if data[i, 0] == 5:\n",
        "    #     data = np.concatenate((data, np.tile(data[i, :], (10, 1))))\n",
        "    if data[i,0] == 6:\n",
        "        data = np.concatenate((data,np.tile(data[i,:],(10,1))))\n",
        "print(np.unique(data[:,0], return_counts=True))\n",
        "\n",
        "#转化为独热编码\n",
        "def one_hot_encode(labels, num_classes):\n",
        "    num_samples = len(labels)\n",
        "    one_hot_labels = np.zeros((num_samples, num_classes))\n",
        "    for i in range(num_samples):\n",
        "        one_hot_labels[i, labels[i]] = 1\n",
        "    return one_hot_labels\n",
        "\n",
        "num_classes = 7\n",
        "one_hot_labels = one_hot_encode(data[:,0].astype(int), num_classes)\n",
        "\n",
        "x_train_NSL_KDD, x_test_NSL_KDD, y_train_NSL_KDD, y_test_NSL_KDD = train_test_split(data[:,1:], one_hot_labels,stratify=one_hot_labels, test_size=0.2, random_state=1)"
      ]
    },
    {
      "cell_type": "code",
      "execution_count": null,
      "metadata": {
        "colab": {
          "base_uri": "https://localhost:8080/"
        },
        "id": "ccDYQfFjX6GZ",
        "outputId": "cfebc17e-b360-4000-a7a8-408703c6f4cc"
      },
      "outputs": [
        {
          "name": "stdout",
          "output_type": "stream",
          "text": [
            "0 corresponds to BENIGN\n",
            "1 corresponds to DoS\n",
            "2 corresponds to Malicious\n",
            "3 corresponds to Normal\n",
            "4 corresponds to Probe\n",
            "5 corresponds to R2L\n",
            "6 corresponds to U2R\n"
          ]
        }
      ],
      "source": [
        "# 假设 le 是您用于编码原始标签的 LabelEncoder 实例\n",
        "# 创建一个包含0到6的整数数组\n",
        "encoded_labels = np.arange(0, 7)\n",
        "\n",
        "# 使用 inverse_transform 方法将这些整数标签映射回原始标签\n",
        "original_labels = le.inverse_transform(encoded_labels)\n",
        "\n",
        "# 打印0-6对应的原始标签\n",
        "for encoded_label, original_label in zip(encoded_labels, original_labels):\n",
        "    print(f'{encoded_label} corresponds to {original_label}')\n"
      ]
    },
    {
      "cell_type": "markdown",
      "metadata": {
        "id": "GgrANxau5At8"
      },
      "source": [
        "## 降维"
      ]
    },
    {
      "cell_type": "code",
      "execution_count": null,
      "metadata": {
        "colab": {
          "base_uri": "https://localhost:8080/"
        },
        "id": "9uNP2zL6rd1M",
        "outputId": "f4ad143c-d7d5-48da-fc6c-f54b8744945c"
      },
      "outputs": [
        {
          "name": "stdout",
          "output_type": "stream",
          "text": [
            "x_train_NSL_KDD features: 69\n",
            "x_test_NSL_KDD features: 69\n",
            "y_train_NSL_KDD features: 7\n",
            "y_test_NSL_KDD features: 7\n"
          ]
        }
      ],
      "source": [
        "import numpy as np\n",
        "\n",
        "# # 加载数据\n",
        "# x_train = np.load('/content/drive/MyDrive/x_train.npy')\n",
        "# x_test = np.load('/content/drive/MyDrive/x_test.npy')\n",
        "# y_train = np.load('/content/drive/MyDrive/y_train.npy')\n",
        "# y_test = np.load('/content/drive/MyDrive/y_test.npy')\n",
        "\n",
        "# 打印特征数量\n",
        "print('x_train_NSL_KDD features:', x_train_NSL_KDD.shape[1] if x_train_NSL_KDD.ndim > 1 else 1)\n",
        "print('x_test_NSL_KDD features:', x_test_NSL_KDD.shape[1] if x_test_NSL_KDD.ndim > 1 else 1)\n",
        "print('y_train_NSL_KDD features:', y_train_NSL_KDD.shape[1] if y_train_NSL_KDD.ndim > 1 else 1)\n",
        "print('y_test_NSL_KDD features:', y_test_NSL_KDD.shape[1] if y_test_NSL_KDD.ndim > 1 else 1)\n"
      ]
    },
    {
      "cell_type": "code",
      "execution_count": null,
      "metadata": {
        "colab": {
          "base_uri": "https://localhost:8080/"
        },
        "id": "XZGixSTfwgQI",
        "outputId": "0552939e-00b3-4bbd-aa01-8410a9e5d3be"
      },
      "outputs": [
        {
          "name": "stdout",
          "output_type": "stream",
          "text": [
            "Feature ranking:\n",
            "1. feature 2 (importance: 0.5502016205816797)\n",
            "2. feature 5 (importance: 0.2418477396913482)\n",
            "3. feature 38 (importance: 0.04933783321041447)\n",
            "4. feature 55 (importance: 0.04771116122229907)\n",
            "5. feature 3 (importance: 0.023838820196622524)\n",
            "6. feature 17 (importance: 0.01825115609440887)\n",
            "7. feature 31 (importance: 0.014408203400576072)\n",
            "8. feature 6 (importance: 0.013455836766694691)\n",
            "9. feature 32 (importance: 0.009386723676507298)\n",
            "10. feature 47 (importance: 0.0063667328054423265)\n",
            "11. feature 39 (importance: 0.005467813310123164)\n",
            "12. feature 1 (importance: 0.005168155872007217)\n",
            "13. feature 37 (importance: 0.003825982372557833)\n",
            "14. feature 0 (importance: 0.0030229093102853207)\n",
            "15. feature 40 (importance: 0.001359728952362741)\n",
            "16. feature 9 (importance: 0.0008845058923187145)\n",
            "17. feature 27 (importance: 0.000778099513017239)\n",
            "18. feature 19 (importance: 0.0007140145903479182)\n",
            "19. feature 7 (importance: 0.0006524003618033275)\n",
            "20. feature 13 (importance: 0.0005689762706405404)\n",
            "21. feature 66 (importance: 0.0004823828250592882)\n",
            "22. feature 52 (importance: 0.00041965823975349)\n",
            "23. feature 21 (importance: 0.00037446245255632346)\n",
            "24. feature 56 (importance: 0.0003396514154988317)\n",
            "25. feature 18 (importance: 0.00021245294966135497)\n",
            "26. feature 44 (importance: 0.00015439664972839235)\n",
            "27. feature 59 (importance: 0.00010105885379160066)\n",
            "28. feature 54 (importance: 8.443224898316051e-05)\n",
            "29. feature 35 (importance: 7.959434312495106e-05)\n",
            "30. feature 67 (importance: 6.59892756692344e-05)\n",
            "31. feature 42 (importance: 5.67683962301309e-05)\n",
            "32. feature 11 (importance: 5.509437108052975e-05)\n",
            "33. feature 61 (importance: 4.4838476761675535e-05)\n",
            "34. feature 64 (importance: 3.9609398942484706e-05)\n",
            "35. feature 23 (importance: 3.822297381554584e-05)\n",
            "36. feature 25 (importance: 3.2123301586968835e-05)\n",
            "37. feature 62 (importance: 3.163605913380163e-05)\n",
            "38. feature 24 (importance: 2.3000311048607573e-05)\n",
            "39. feature 53 (importance: 1.8898998680335312e-05)\n",
            "40. feature 60 (importance: 1.816184351956975e-05)\n",
            "41. feature 29 (importance: 1.6764730634928295e-05)\n",
            "42. feature 63 (importance: 1.624476734620857e-05)\n",
            "43. feature 45 (importance: 1.471609330385891e-05)\n",
            "44. feature 30 (importance: 9.259044249367131e-06)\n",
            "45. feature 8 (importance: 5.921093692342136e-06)\n",
            "46. feature 4 (importance: 4.931066731470338e-06)\n",
            "47. feature 10 (importance: 4.786156974999035e-06)\n",
            "48. feature 26 (importance: 2.516590181523303e-06)\n",
            "49. feature 57 (importance: 1.8358912968327173e-06)\n",
            "50. feature 49 (importance: 1.15611307870856e-06)\n",
            "51. feature 34 (importance: 4.1018225984905855e-07)\n",
            "52. feature 51 (importance: 4.0245654201000745e-07)\n",
            "53. feature 36 (importance: 2.0833762453830064e-07)\n",
            "54. feature 46 (importance: 0.0)\n",
            "55. feature 48 (importance: 0.0)\n",
            "56. feature 28 (importance: 0.0)\n",
            "57. feature 33 (importance: 0.0)\n",
            "58. feature 65 (importance: 0.0)\n",
            "59. feature 58 (importance: 0.0)\n",
            "60. feature 43 (importance: 0.0)\n",
            "61. feature 41 (importance: 0.0)\n",
            "62. feature 22 (importance: 0.0)\n",
            "63. feature 20 (importance: 0.0)\n",
            "64. feature 16 (importance: 0.0)\n",
            "65. feature 50 (importance: 0.0)\n",
            "66. feature 15 (importance: 0.0)\n",
            "67. feature 14 (importance: 0.0)\n",
            "68. feature 12 (importance: 0.0)\n",
            "69. feature 68 (importance: 0.0)\n"
          ]
        }
      ],
      "source": [
        "from sklearn.ensemble import RandomForestRegressor\n",
        "# 使用随机森林评估特征重要性\n",
        "rf = RandomForestRegressor(n_estimators=100)\n",
        "rf.fit(x_train_NSL_KDD, y_train_NSL_KDD)\n",
        "importances = rf.feature_importances_\n",
        "indices = np.argsort(importances)[::-1]\n",
        "print(\"Feature ranking:\")\n",
        "for f in range(x_train_NSL_KDD.shape[1]):\n",
        "    print(f\"{f+1}. feature {indices[f]} (importance: {importances[indices[f]]})\")\n",
        "\n",
        "# 选择重要性最高的N个特征（这里N根据需要调整）\n",
        "N = 67\n",
        "selected_features_indices = indices[:N]\n"
      ]
    },
    {
      "cell_type": "markdown",
      "metadata": {
        "id": "laJl5FrR6qRh"
      },
      "source": [
        "## 保存特征"
      ]
    },
    {
      "cell_type": "code",
      "execution_count": null,
      "metadata": {
        "colab": {
          "base_uri": "https://localhost:8080/"
        },
        "id": "sp5fvRVGtVQB",
        "outputId": "c3fe7983-9743-417f-87dc-52adf90cc1ee"
      },
      "outputs": [
        {
          "name": "stdout",
          "output_type": "stream",
          "text": [
            "x_train features: 67\n"
          ]
        }
      ],
      "source": [
        "import numpy as np\n",
        "\n",
        "# 从 x_train_NSL_KDD 中选择重要性最高的 N 个特征\n",
        "x_train_NSL_KDD = x_train_NSL_KDD[:, selected_features_indices]\n",
        "\n",
        "# 保存筛选出来的特征到新的文件\n",
        "np.save('/content/drive/MyDrive/x_train_NSL_KDD.npy', x_train_NSL_KDD)\n",
        "selected_features = np.load('/content/drive/MyDrive/x_train_NSL_KDD.npy')\n",
        "print('x_train features:', x_train_NSL_KDD.shape[1] if x_train_NSL_KDD.ndim > 1 else 1)"
      ]
    },
    {
      "cell_type": "code",
      "execution_count": null,
      "metadata": {
        "colab": {
          "base_uri": "https://localhost:8080/"
        },
        "id": "whoh4CdEu4Zl",
        "outputId": "2bd15181-b486-4e37-cec9-314993109818"
      },
      "outputs": [
        {
          "name": "stdout",
          "output_type": "stream",
          "text": [
            "x_train features: 67\n"
          ]
        }
      ],
      "source": [
        "# 从 x_train 中选择重要性最高的 N 个特征\n",
        "x_test_NSL_KDD = x_test_NSL_KDD[:, selected_features_indices]\n",
        "\n",
        "# 保存筛选出来的特征到新的文件\n",
        "np.save('/content/drive/MyDrive/x_test_NSL_KDD.npy', x_test_NSL_KDD)\n",
        "selected_features = np.load('/content/drive/MyDrive/x_test_NSL_KDD.npy')\n",
        "print('x_train features:', x_test_NSL_KDD.shape[1] if x_test_NSL_KDD.ndim > 1 else 1)"
      ]
    },
    {
      "cell_type": "code",
      "execution_count": null,
      "metadata": {
        "id": "tKx4kvHbvsOH"
      },
      "outputs": [],
      "source": [
        "import numpy as np\n",
        "import pandas as pd\n",
        "import torch\n",
        "from torch.utils.data import TensorDataset\n",
        "import torch.nn as nn\n",
        "import torch.nn.functional as F\n",
        "from torch.utils.data import DataLoader\n",
        "import matplotlib.pyplot as plt\n",
        "from sklearn.metrics import confusion_matrix, f1_score\n",
        "import seaborn as sns"
      ]
    },
    {
      "cell_type": "markdown",
      "metadata": {
        "id": "IBkRl60qcDVn"
      },
      "source": [
        "## 模型"
      ]
    },
    {
      "cell_type": "code",
      "execution_count": null,
      "metadata": {
        "id": "I6HncEf_R3Kh"
      },
      "outputs": [],
      "source": [
        "import numpy as np\n",
        "import pandas as pd\n",
        "import torch\n",
        "from torch.utils.data import TensorDataset\n",
        "import torch.nn as nn\n",
        "import torch.nn.functional as F\n",
        "from torch.utils.data import DataLoader"
      ]
    },
    {
      "cell_type": "code",
      "execution_count": null,
      "metadata": {
        "colab": {
          "base_uri": "https://localhost:8080/",
          "height": 1000
        },
        "id": "wwt8Lphqw_D-",
        "outputId": "30f07863-2f83-4de6-98ed-8666f18f6b7f"
      },
      "outputs": [
        {
          "name": "stdout",
          "output_type": "stream",
          "text": [
            "Using cuda device\n",
            "[ 0.32397502  0.46487098 18.12895529  1.05416036  1.77335877  6.9945563\n",
            " 19.3967144 ]\n",
            "Epoch 1\n",
            "-------------------------------\n",
            "train 1.5778647247892226 acc 32.8385647658016\n",
            "test 4.481048180573229 acc 60.73707402214656\n",
            "Higher accuracy found (60.74%). Model saved.\n",
            "Epoch 2\n",
            "-------------------------------\n",
            "train 0.9887745121534723 acc 76.4528312684197\n",
            "test 2.4257293922313745 acc 82.15113451028641\n",
            "Higher accuracy found (82.15%). Model saved.\n",
            "Epoch 3\n",
            "-------------------------------\n",
            "train 0.6378646450538705 acc 88.11625511459556\n",
            "test 2.924484335425971 acc 87.42739420298149\n",
            "Higher accuracy found (87.43%). Model saved.\n",
            "Epoch 4\n",
            "-------------------------------\n",
            "train 0.45756935301053264 acc 90.03977223954905\n",
            "test 16.923507505568907 acc 87.89378809121864\n",
            "Higher accuracy found (87.89%). Model saved.\n",
            "Epoch 5\n",
            "-------------------------------\n",
            "train 0.35920897659159057 acc 90.70931929382814\n",
            "test 6.588369439693465 acc 87.92240121319637\n",
            "Higher accuracy found (87.92%). Model saved.\n",
            "Epoch 6\n",
            "-------------------------------\n",
            "train 0.3010978565490159 acc 91.26942115654239\n",
            "test 12.179970304387203 acc 86.7893215828779\n",
            "Epoch 7\n",
            "-------------------------------\n",
            "train 0.2579524380555988 acc 91.56342098486365\n",
            "test 25.62310612504033 acc 87.48462044693697\n",
            "Epoch 8\n",
            "-------------------------------\n",
            "train 0.22293451548057752 acc 91.85098286073993\n",
            "test 16.665171892746635 acc 89.06692609230593\n",
            "Higher accuracy found (89.07%). Model saved.\n",
            "Epoch 9\n",
            "-------------------------------\n",
            "train 0.20058482129425897 acc 92.37746430513033\n",
            "test 17.26626182919827 acc 89.15562677043692\n",
            "Higher accuracy found (89.16%). Model saved.\n",
            "Epoch 10\n",
            "-------------------------------\n",
            "train 0.18490639984281393 acc 93.09207702652436\n",
            "test 19.34145105489786 acc 89.77939282955164\n",
            "Higher accuracy found (89.78%). Model saved.\n",
            "Epoch 11\n",
            "-------------------------------\n",
            "train 0.1615331975376084 acc 93.67650004291968\n",
            "test 10.40331807160291 acc 89.75650233196944\n",
            "Epoch 12\n",
            "-------------------------------\n",
            "train 0.1482890014448305 acc 94.51343386076854\n",
            "test 11.476004121528156 acc 87.52181750550803\n",
            "Epoch 13\n",
            "-------------------------------\n",
            "train 0.13427223726073756 acc 94.90686428796246\n",
            "test 24.63169218124687 acc 90.41746544965521\n",
            "Higher accuracy found (90.42%). Model saved.\n",
            "Epoch 14\n",
            "-------------------------------\n",
            "train 0.12506137018764976 acc 95.73807548141578\n",
            "test 25.504639926164046 acc 92.89250050072964\n",
            "Higher accuracy found (92.89%). Model saved.\n",
            "Epoch 15\n",
            "-------------------------------\n",
            "train 0.11270206130660364 acc 96.2402357721251\n",
            "test 22.12352491375329 acc 92.5233912272168\n",
            "Epoch 16\n",
            "-------------------------------\n",
            "train 0.10570684642306645 acc 96.66585596154397\n",
            "test 8.596219681743262 acc 93.04415004721164\n",
            "Higher accuracy found (93.04%). Model saved.\n",
            "Epoch 17\n",
            "-------------------------------\n",
            "train 0.10123291468913972 acc 97.11150533634725\n",
            "test 22.268896637133498 acc 93.78809121863287\n",
            "Higher accuracy found (93.79%). Model saved.\n",
            "Epoch 18\n",
            "-------------------------------\n",
            "train 0.09306587495018531 acc 97.27603078771925\n",
            "test 6.090635301464277 acc 93.45904031588887\n",
            "Epoch 19\n",
            "-------------------------------\n",
            "train 0.0879819216410609 acc 97.52138830867835\n",
            "test 2.989600114632344 acc 93.69366791610632\n",
            "Epoch 20\n",
            "-------------------------------\n",
            "train 0.08658064676135996 acc 97.82897936993905\n",
            "test 0.2514376933483974 acc 96.86114051904204\n",
            "Higher accuracy found (96.86%). Model saved.\n",
            "Epoch 21\n",
            "-------------------------------\n",
            "train 0.07750956894979424 acc 97.94629317004778\n",
            "test 8.469577117188685 acc 94.4433317119231\n",
            "Epoch 22\n",
            "-------------------------------\n",
            "train 0.08891996742314558 acc 98.11296460556811\n",
            "test 48.67921246912169 acc 93.47048556467996\n",
            "Epoch 23\n",
            "-------------------------------\n",
            "train 0.0732712498764052 acc 98.16947552147415\n",
            "test 42.85519895883466 acc 93.54201836962432\n",
            "Epoch 24\n",
            "-------------------------------\n",
            "train 0.0691753852922116 acc 98.33829294114281\n",
            "test 38.835448121463045 acc 93.91971157973046\n",
            "Epoch 25\n",
            "-------------------------------\n",
            "train 0.06754641438134178 acc 98.39551918509828\n",
            "test 49.03744880774099 acc 93.59638330138202\n",
            "Epoch 26\n",
            "-------------------------------\n",
            "train 0.06619391392535755 acc 98.47992789493262\n",
            "test 4.626633191184289 acc 96.63795816761566\n",
            "Epoch 27\n",
            "-------------------------------\n",
            "train 0.060564764965679085 acc 98.52785487424534\n",
            "test 5.916804161408673 acc 94.64362356576726\n",
            "Epoch 28\n",
            "-------------------------------\n",
            "train 0.05731190794766167 acc 98.64802998655183\n",
            "test 63.688212219031826 acc 89.35877993647887\n",
            "Epoch 29\n",
            "-------------------------------\n",
            "train 0.058003690906113736 acc 98.65875990729349\n",
            "test 71.7233742877733 acc 87.05256230507311\n",
            "Epoch 30\n",
            "-------------------------------\n",
            "train 0.05459835788534179 acc 98.7281467280895\n",
            "test 21.08378982220007 acc 94.96695184411571\n",
            "Epoch 31\n",
            "-------------------------------\n",
            "train 0.052730300575902646 acc 98.76677444275946\n",
            "test 31.998266160569113 acc 94.5949812584051\n",
            "Epoch 32\n",
            "-------------------------------\n",
            "train 0.05068268658538913 acc 98.80611748547884\n",
            "test 2.5926744813450435 acc 95.61646971301039\n",
            "Epoch 33\n",
            "-------------------------------\n",
            "train 0.05120523202566117 acc 98.8697816818793\n",
            "test 20.03539627768855 acc 94.86680591719363\n",
            "Epoch 34\n",
            "-------------------------------\n",
            "train 0.049185338107202825 acc 98.89553349165928\n",
            "test 39.654361578784346 acc 95.29600274685971\n",
            "Epoch 35\n",
            "-------------------------------\n",
            "train 0.05563093061783236 acc 98.94846776731809\n",
            "test 8.901282397382285 acc 95.55352084465936\n",
            "Epoch 36\n",
            "-------------------------------\n",
            "train 0.04501453086811995 acc 98.97135826490029\n",
            "test 7.752715684419525 acc 96.08858622564308\n",
            "Epoch 37\n",
            "-------------------------------\n",
            "train 0.043559965402241385 acc 99.03287647715243\n",
            "test 0.9714001144781925 acc 97.48776789035452\n",
            "Higher accuracy found (97.49%). Model saved.\n",
            "Epoch 38\n",
            "-------------------------------\n",
            "train 0.04401492171098281 acc 99.05576697473461\n",
            "test 28.687742199073885 acc 95.00701021488455\n",
            "Epoch 39\n",
            "-------------------------------\n",
            "train 0.04524164171345586 acc 99.04146041374574\n",
            "test 31.550081070283078 acc 95.46482016652837\n",
            "Epoch 40\n",
            "-------------------------------\n",
            "train 0.0452374085634403 acc 99.07508083206959\n",
            "test 39.332532207306095 acc 94.84963804400698\n",
            "Epoch 41\n",
            "-------------------------------\n",
            "train 0.03920537990307177 acc 99.10011731380011\n",
            "test 35.044705717594944 acc 91.17857449426307\n",
            "Epoch 42\n",
            "-------------------------------\n",
            "train 0.03961402467064505 acc 99.10369395404733\n",
            "test 2.9049251509047505 acc 96.46055681135368\n",
            "Epoch 43\n",
            "-------------------------------\n",
            "train 0.038263588115559334 acc 99.12729977967896\n",
            "test 42.84984785348069 acc 94.8811124781825\n",
            "Epoch 44\n",
            "-------------------------------\n",
            "train 0.03682058621886234 acc 99.16950413459612\n",
            "test 3.6606423233676217 acc 95.71661563993247\n",
            "Epoch 45\n",
            "-------------------------------\n",
            "train 0.0368484356916462 acc 99.1723654467939\n",
            "test 6.997912152332888 acc 95.64508283498813\n",
            "Epoch 46\n",
            "-------------------------------\n",
            "train 0.0681648409167427 acc 99.20813184926607\n",
            "test 44.14963230186992 acc 94.92117084895133\n",
            "Epoch 47\n",
            "-------------------------------\n",
            "train 0.03499770914306388 acc 99.20741652121663\n",
            "test 34.466246701709494 acc 95.48198803971502\n",
            "Epoch 48\n",
            "-------------------------------\n",
            "train 0.03351965425922671 acc 99.22100775415606\n",
            "test 30.43349094096355 acc 94.00841225786145\n",
            "Epoch 49\n",
            "-------------------------------\n",
            "train 0.03273703987084764 acc 99.28538727860597\n",
            "test 78.57035927902368 acc 93.06417923259608\n",
            "Epoch 50\n",
            "-------------------------------\n",
            "train 0.03517967997880204 acc 99.25105153223268\n",
            "test 21.018586289704494 acc 93.77950728203955\n",
            "Epoch 51\n",
            "-------------------------------\n",
            "train 0.03315497216782159 acc 99.28824859080375\n",
            "test 13.44968519837636 acc 95.78814844487682\n",
            "Epoch 52\n",
            "-------------------------------\n",
            "train 0.032123407061775994 acc 99.29540187129818\n",
            "test 54.74629087577426 acc 95.1329079515866\n",
            "Epoch 53\n",
            "-------------------------------\n",
            "train 0.031598033538142584 acc 99.30827777618816\n",
            "test 29.932177332634836 acc 94.70657243411829\n",
            "Epoch 54\n",
            "-------------------------------\n",
            "train 0.030938314267155462 acc 99.33402958596812\n",
            "test 37.92336547434114 acc 95.52490772268162\n",
            "Epoch 55\n",
            "-------------------------------\n",
            "train 0.02788241247027895 acc 99.35906606769865\n",
            "test 29.47248819253097 acc 95.38184211279292\n",
            "Epoch 56\n",
            "-------------------------------\n",
            "train 0.028441215851718056 acc 99.37337262868752\n",
            "test 14.279240293171851 acc 95.1329079515866\n",
            "Epoch 57\n",
            "-------------------------------\n",
            "train 0.03782494503997919 acc 99.37194197258863\n",
            "test 13.839047781556197 acc 94.79813442444706\n",
            "Epoch 58\n",
            "-------------------------------\n",
            "train 0.027872196396975947 acc 99.35191278720421\n",
            "test 19.827016216999702 acc 94.75807605367822\n",
            "Epoch 59\n",
            "-------------------------------\n",
            "train 0.026846480144554898 acc 99.39054050187416\n",
            "test 0.7789303322417148 acc 97.84257060287848\n",
            "Higher accuracy found (97.84%). Model saved.\n",
            "Epoch 60\n",
            "-------------------------------\n",
            "train 0.0262418636069871 acc 99.39125582992361\n",
            "test 0.7547298748167637 acc 96.62079029442903\n",
            "Epoch 61\n",
            "-------------------------------\n",
            "train 0.025325787954719018 acc 99.42344559214855\n",
            "test 22.81385759058395 acc 94.77810523906264\n",
            "Epoch 62\n",
            "-------------------------------\n",
            "train 0.025426641279953893 acc 99.43346018484077\n",
            "test 29.715717206614606 acc 96.29173939168503\n",
            "Epoch 63\n",
            "-------------------------------\n",
            "train 0.02528807414817984 acc 99.43632149703855\n",
            "test 5.457273976931321 acc 96.26884889410283\n",
            "Epoch 64\n",
            "-------------------------------\n",
            "train 0.02694428100651742 acc 99.4420441214341\n",
            "test 13.732002863309521 acc 95.56782740564823\n",
            "Epoch 65\n",
            "-------------------------------\n",
            "train 0.024752994350932648 acc 99.46064265071962\n",
            "test 18.519805116254997 acc 95.86254256201894\n",
            "Epoch 66\n",
            "-------------------------------\n",
            "train 0.023253176323083793 acc 99.48424847635125\n",
            "test 0.8134180858893238 acc 96.52636699190249\n",
            "Epoch 67\n",
            "-------------------------------\n",
            "train 0.022818441925074116 acc 99.49354774099402\n",
            "test 1.3675015546327485 acc 95.87684912300782\n",
            "Epoch 68\n",
            "-------------------------------\n",
            "train 0.025240609344999124 acc 99.48210249220293\n",
            "test 4.16142335212857 acc 96.29460070388281\n",
            "Epoch 69\n",
            "-------------------------------\n",
            "train 0.02153489736323483 acc 99.50070102148845\n",
            "test 58.73961117937216 acc 94.65793012675613\n",
            "Epoch 70\n",
            "-------------------------------\n",
            "train 0.024160836962643113 acc 99.48854044464791\n",
            "test 44.729827537923455 acc 93.63930298434862\n",
            "Epoch 71\n",
            "-------------------------------\n",
            "train 0.021681017266164948 acc 99.50213167758734\n",
            "test 52.6369891807005 acc 93.52771180863544\n",
            "Epoch 72\n",
            "-------------------------------\n",
            "train 0.022189566348067544 acc 99.52716815931787\n",
            "test 12.003470755249694 acc 94.32887922401213\n",
            "Epoch 73\n",
            "-------------------------------\n",
            "train 0.020450250888039378 acc 99.52144553492232\n",
            "test 44.66214219247247 acc 95.1214627027955\n",
            "Epoch 74\n",
            "-------------------------------\n",
            "train 0.021088992358511655 acc 99.53146012761452\n",
            "test 41.82445348277553 acc 94.53203239005408\n",
            "Epoch 75\n",
            "-------------------------------\n",
            "train 0.020641427514326835 acc 99.53718275201007\n",
            "test 53.49395879168414 acc 89.80228332713382\n",
            "Epoch 76\n",
            "-------------------------------\n",
            "train 0.020655894226285824 acc 99.53646742396063\n",
            "test 4.822874121475911 acc 97.13296517783056\n",
            "Epoch 77\n",
            "-------------------------------\n",
            "train 0.01876953503127162 acc 99.57938710692724\n",
            "test 5.743411523762388 acc 95.0556525222467\n",
            "Epoch 78\n",
            "-------------------------------\n",
            "train 0.019839479924471926 acc 99.56508054593837\n",
            "test 58.07360794408706 acc 94.05991587742139\n",
            "Epoch 79\n",
            "-------------------------------\n",
            "train 0.01930330343413622 acc 99.57509513863057\n",
            "test 12.005721101456363 acc 94.96409053191793\n",
            "Epoch 80\n",
            "-------------------------------\n",
            "train 0.018531151395461038 acc 99.58153309107557\n",
            "test 26.727063357094437 acc 96.557841426078\n",
            "Epoch 81\n",
            "-------------------------------\n",
            "train 0.017712249285473495 acc 99.58582505937223\n",
            "test 54.0740952905119 acc 93.45904031588887\n",
            "Epoch 82\n",
            "-------------------------------\n",
            "train 0.01794944653401396 acc 99.58797104352055\n",
            "test 60.63848517695442 acc 91.18429711865862\n",
            "Epoch 83\n",
            "-------------------------------\n",
            "train 0.016818081201895405 acc 99.60370826060831\n",
            "test 10.04393185424092 acc 95.54779822026381\n",
            "Epoch 84\n",
            "-------------------------------\n",
            "train 0.023400714652388473 acc 99.57938710692724\n",
            "test 6.315526140300368 acc 95.69944776674583\n",
            "Epoch 85\n",
            "-------------------------------\n",
            "train 0.01667912422601188 acc 99.60156227645999\n",
            "test 4.766316763638263 acc 97.42195770980571\n",
            "Epoch 86\n",
            "-------------------------------\n",
            "train 0.017114489405572305 acc 99.60370826060831\n",
            "test 9.248059858709736 acc 96.4376663137715\n",
            "Epoch 87\n",
            "-------------------------------\n",
            "train 0.017182640702018418 acc 99.61944547769608\n",
            "test 50.95028964686545 acc 94.92689347334688\n",
            "Epoch 88\n",
            "-------------------------------\n",
            "train 0.01703922156487544 acc 99.63017539843773\n",
            "test 7.179909917552942 acc 97.07860024607285\n",
            "Epoch 89\n",
            "-------------------------------\n",
            "train 0.017258047107114274 acc 99.61372285330053\n",
            "test 10.80446238909929 acc 93.57349280379982\n",
            "Epoch 90\n",
            "-------------------------------\n",
            "train 0.01620126770805894 acc 99.64877392772325\n",
            "test 3.4970750127973007 acc 96.30890726487166\n",
            "Epoch 91\n",
            "-------------------------------\n",
            "train 0.0164377840472059 acc 99.62516810209162\n",
            "test 31.43064121412707 acc 96.6665712895934\n",
            "Epoch 92\n",
            "-------------------------------\n",
            "train 0.015625577554256267 acc 99.63732867893216\n",
            "test 50.30988727167141 acc 95.67083464476809\n",
            "Epoch 93\n",
            "-------------------------------\n",
            "train 0.01528974367011624 acc 99.64591261552548\n",
            "test 66.63864675294472 acc 91.44467652865605\n",
            "Epoch 94\n",
            "-------------------------------\n",
            "train 0.014724112156588231 acc 99.64591261552548\n",
            "test 23.954540592591293 acc 94.08280637500357\n",
            "Epoch 95\n",
            "-------------------------------\n",
            "train 0.015202841443607897 acc 99.64305130332771\n",
            "test 19.746522906998955 acc 97.18446879739048\n",
            "Epoch 96\n",
            "-------------------------------\n",
            "train 0.014517464311317589 acc 99.66308048871213\n",
            "test 27.081246241289392 acc 95.61074708861484\n",
            "Epoch 97\n",
            "-------------------------------\n",
            "train 0.014791742256540045 acc 99.6544965521188\n",
            "test 60.81132080781854 acc 95.63936021059257\n",
            "Epoch 98\n",
            "-------------------------------\n",
            "train 0.017981401803549787 acc 99.67237975335489\n",
            "test 42.978483679677375 acc 92.10850095853958\n",
            "Epoch 99\n",
            "-------------------------------\n",
            "train 0.01506674678420077 acc 99.67309508140433\n",
            "test 31.659117646673963 acc 96.5349509284958\n",
            "Epoch 100\n",
            "-------------------------------\n",
            "train 0.013944456353571172 acc 99.68811697044265\n",
            "test 52.732669992480375 acc 94.68940456093165\n",
            "Epoch 101\n",
            "-------------------------------\n",
            "train 0.014356093899258515 acc 99.69527025093709\n",
            "test 52.16886054771696 acc 93.60782855017311\n",
            "Epoch 102\n",
            "-------------------------------\n",
            "train 0.014378324171857922 acc 99.6823943460471\n",
            "test 11.42607071665723 acc 96.62079029442903\n",
            "Epoch 103\n",
            "-------------------------------\n",
            "train 0.013034938528273853 acc 99.69598557898652\n",
            "test 70.99527991713578 acc 94.95264528312684\n",
            "Epoch 104\n",
            "-------------------------------\n",
            "train 0.013707268614335542 acc 99.6924089387393\n",
            "test 43.744581447094276 acc 95.57068871784601\n",
            "Epoch 105\n",
            "-------------------------------\n",
            "train 0.015233398019166214 acc 99.68954762654153\n",
            "test 16.008659377417434 acc 97.68519843200092\n",
            "Epoch 106\n",
            "-------------------------------\n",
            "train 0.012501794180363743 acc 99.69527025093709\n",
            "test 90.33921115379106 acc 95.28741881026639\n",
            "Epoch 107\n",
            "-------------------------------\n",
            "train 0.01249772367742334 acc 99.7102921399754\n",
            "test 16.258892764387976 acc 95.00701021488455\n",
            "Epoch 108\n",
            "-------------------------------\n",
            "train 0.013904900597680334 acc 99.70170820338207\n",
            "test 48.987886825552806 acc 95.659389395977\n",
            "Epoch 109\n",
            "-------------------------------\n",
            "train 0.013733224701314797 acc 99.6924089387393\n",
            "test 2.368996000379675 acc 97.41909639760794\n",
            "Epoch 110\n",
            "-------------------------------\n",
            "train 0.012833892792228772 acc 99.69741623508541\n",
            "test 22.26939820622067 acc 96.2516810209162\n",
            "Epoch 111\n",
            "-------------------------------\n",
            "train 0.011311552919834907 acc 99.71816074851927\n",
            "test 41.33572621222761 acc 96.05711179146756\n",
            "Epoch 112\n",
            "-------------------------------\n",
            "train 0.01255243111114582 acc 99.7203067326676\n",
            "test 9.768587553409684 acc 96.557841426078\n",
            "Epoch 113\n",
            "-------------------------------\n",
            "train 0.011708819734597116 acc 99.73103665340925\n",
            "test 48.3451890267155 acc 93.9597699504993\n",
            "Epoch 114\n",
            "-------------------------------\n",
            "train 0.012309495026770857 acc 99.74248190220035\n",
            "test 91.39813980300897 acc 95.26452831268419\n",
            "Epoch 115\n",
            "-------------------------------\n",
            "train 0.011485278421594849 acc 99.72459870096426\n",
            "test 63.315150802600726 acc 95.659389395977\n",
            "Epoch 116\n",
            "-------------------------------\n",
            "train 0.011213629865971306 acc 99.73890526195314\n",
            "test 33.67967896510685 acc 94.69226587312941\n",
            "Epoch 117\n",
            "-------------------------------\n",
            "train 0.011672589306534356 acc 99.73389796560703\n",
            "test 79.66824005791189 acc 95.29886405905748\n",
            "Epoch 118\n",
            "-------------------------------\n",
            "train 0.011361353932655744 acc 99.72960599731037\n",
            "test 59.17774944588123 acc 93.8281495894017\n",
            "Epoch 119\n",
            "-------------------------------\n",
            "train 0.012174102880296902 acc 99.72602935706315\n",
            "test 57.794962975952394 acc 95.41617785916621\n",
            "Epoch 120\n",
            "-------------------------------\n",
            "train 0.01342155157021641 acc 99.73962059000257\n",
            "test 32.16946574984847 acc 97.62797218804543\n",
            "Epoch 121\n",
            "-------------------------------\n",
            "train 0.010416205588984814 acc 99.73962059000257\n",
            "test 52.633342166529104 acc 95.53063034707716\n",
            "Epoch 122\n",
            "-------------------------------\n",
            "train 0.01028195540756361 acc 99.74891985464534\n",
            "test 46.04430662455759 acc 95.0327620246645\n",
            "Epoch 123\n",
            "-------------------------------\n",
            "train 0.010839735010569155 acc 99.77395633637586\n",
            "test 17.224108527748562 acc 97.02423531431515\n",
            "Epoch 124\n",
            "-------------------------------\n",
            "train 0.01017973772279857 acc 99.75035051074423\n",
            "test 29.8391579943591 acc 96.6665712895934\n",
            "Epoch 125\n",
            "-------------------------------\n",
            "train 0.010528177967002738 acc 99.74963518269479\n",
            "test 7.924249666958939 acc 96.58359323585796\n",
            "Epoch 126\n",
            "-------------------------------\n",
            "train 0.010335951479726274 acc 99.77037969612864\n",
            "test 12.528397591229515 acc 95.3961486737818\n",
            "Epoch 127\n",
            "-------------------------------\n",
            "train 0.009738669794029046 acc 99.75893444733755\n",
            "test 53.31017659171957 acc 91.99404847062863\n",
            "Epoch 128\n",
            "-------------------------------\n",
            "train 0.009927607532743582 acc 99.76251108758477\n",
            "test 4.064486782130637 acc 96.27743283069616\n",
            "Epoch 129\n",
            "-------------------------------\n",
            "train 0.010945471550888606 acc 99.75607313513977\n",
            "test 4.212174568004717 acc 97.27603078771925\n",
            "Epoch 130\n",
            "-------------------------------\n",
            "train 0.009936498783963875 acc 99.76823371198032\n",
            "test 75.25892371434779 acc 95.56496609345045\n",
            "Epoch 131\n",
            "-------------------------------\n",
            "train 0.010285651643316934 acc 99.76537239978254\n",
            "test 55.50906147916744 acc 95.9655498011388\n",
            "Epoch 132\n",
            "-------------------------------\n",
            "train 0.00880747481708561 acc 99.78826289736473\n",
            "test 18.347835028061535 acc 95.39900998597957\n",
            "Epoch 133\n",
            "-------------------------------\n",
            "train 0.009091945103243041 acc 99.7811096168703\n",
            "test 20.319140474268142 acc 93.89109845775272\n",
            "Epoch 134\n",
            "-------------------------------\n",
            "train 0.010051856616730326 acc 99.76537239978254\n",
            "test 6.3479586554660825 acc 97.12151992903945\n",
            "Epoch 135\n",
            "-------------------------------\n",
            "train 0.009517420989858074 acc 99.76823371198032\n",
            "test 62.317011507726576 acc 96.21162265014736\n",
            "Epoch 136\n",
            "-------------------------------\n",
            "train 0.009221225432681097 acc 99.78683224126584\n",
            "test 19.985248549768794 acc 95.97127242553435\n",
            "Epoch 137\n",
            "-------------------------------\n",
            "train 0.00897330589803619 acc 99.78897822541417\n",
            "test 31.460455370253708 acc 95.21302469312427\n",
            "Epoch 138\n",
            "-------------------------------\n",
            "train 0.009985123540701371 acc 99.78039428882086\n",
            "test 25.99052366846413 acc 92.79521588600532\n",
            "Epoch 139\n",
            "-------------------------------\n",
            "train 0.008926158185761904 acc 99.76894904002975\n",
            "test 5.810634731506571 acc 96.5349509284958\n",
            "Epoch 140\n",
            "-------------------------------\n",
            "train 0.009117769474252024 acc 99.79398552176028\n",
            "test 121.17168078396766 acc 89.89098400526481\n",
            "Epoch 141\n",
            "-------------------------------\n",
            "train 0.009786628192544737 acc 99.7811096168703\n",
            "test 43.46343995555409 acc 93.05559529600275\n",
            "Epoch 142\n",
            "-------------------------------\n",
            "train 0.009290464696802376 acc 99.78969355346362\n",
            "test 53.698364588155314 acc 93.25302583764915\n",
            "Epoch 143\n",
            "-------------------------------\n",
            "train 0.008651794419822752 acc 99.81329937909526\n",
            "test 59.572595776745416 acc 95.86254256201894\n",
            "Epoch 144\n",
            "-------------------------------\n",
            "train 0.008539133092106395 acc 99.80113880225471\n",
            "test 57.945966415119905 acc 96.08286360124754\n",
            "Epoch 145\n",
            "-------------------------------\n",
            "train 0.008881284991902959 acc 99.80543077055137\n",
            "test 46.99204113988199 acc 95.15293713697102\n",
            "Epoch 146\n",
            "-------------------------------\n",
            "train 0.010528983580361521 acc 99.78039428882086\n",
            "test 42.69727977039124 acc 96.37471744542047\n",
            "Epoch 147\n",
            "-------------------------------\n",
            "train 0.007866800355684203 acc 99.8025694583536\n",
            "test 12.52110487185891 acc 97.97991358837163\n",
            "Higher accuracy found (97.98%). Model saved.\n",
            "Epoch 148\n",
            "-------------------------------\n",
            "train 0.013952406749331535 acc 99.79684683395806\n",
            "test 73.66163746718203 acc 96.25740364531174\n",
            "Epoch 149\n",
            "-------------------------------\n",
            "train 0.008432332588823675 acc 99.81473003519415\n",
            "test 100.27007313441077 acc 95.90832355718332\n",
            "Epoch 150\n",
            "-------------------------------\n",
            "train 0.008248461629213073 acc 99.79398552176028\n",
            "test 70.13205294119298 acc 96.28601676728948\n",
            "Epoch 151\n",
            "-------------------------------\n",
            "train 0.024417748304579347 acc 99.80900741079859\n",
            "test 12.403833744718451 acc 93.17863172050703\n",
            "Epoch 152\n",
            "-------------------------------\n",
            "train 0.008151780494852467 acc 99.80614609860082\n",
            "test 16.096682991167746 acc 96.80677558728433\n",
            "Epoch 153\n",
            "-------------------------------\n",
            "train 0.009995020617965446 acc 99.80829208274915\n",
            "test 59.05943359991036 acc 95.7795645082835\n",
            "Epoch 154\n",
            "-------------------------------\n",
            "train 0.007987133452684082 acc 99.80543077055137\n",
            "test 76.45011573662117 acc 95.330338493233\n",
            "Epoch 155\n",
            "-------------------------------\n",
            "train 0.008190532422596486 acc 99.81186872299637\n",
            "test 1.90537997059848 acc 97.41909639760794\n",
            "Epoch 156\n",
            "-------------------------------\n",
            "train 0.008439996665136304 acc 99.81473003519415\n",
            "test 63.23337668216824 acc 95.04134596125783\n",
            "Epoch 157\n",
            "-------------------------------\n",
            "train 0.007736394107707157 acc 99.81115339494693\n",
            "test 59.187344175611585 acc 96.16584165498297\n",
            "Epoch 158\n",
            "-------------------------------\n",
            "train 0.0072299890202320565 acc 99.83046725228189\n",
            "test 85.55704517828586 acc 94.30885003862771\n",
            "Epoch 159\n",
            "-------------------------------\n",
            "train 0.007492125792465815 acc 99.81687601934247\n",
            "test 57.84123899546651 acc 96.37185613322269\n",
            "Epoch 160\n",
            "-------------------------------\n",
            "train 0.009390980658294756 acc 99.81830667544136\n",
            "test 22.026868011335086 acc 96.52350567970471\n",
            "Epoch 161\n",
            "-------------------------------\n",
            "train 0.007308320538841875 acc 99.81186872299637\n",
            "test 93.41603155654477 acc 96.01419210850096\n",
            "Epoch 162\n",
            "-------------------------------\n",
            "train 0.006806795614532341 acc 99.8140147071447\n",
            "test 73.66411275570736 acc 95.43048442015508\n",
            "Epoch 163\n",
            "-------------------------------\n",
            "train 0.009005650094167303 acc 99.82689061203467\n",
            "test 1.1032159370522054 acc 98.53786946693754\n",
            "Higher accuracy found (98.54%). Model saved.\n",
            "Epoch 164\n",
            "-------------------------------\n",
            "train 0.007976539273568714 acc 99.8125840510458\n",
            "test 116.88039141998371 acc 91.76514349480672\n",
            "Epoch 165\n",
            "-------------------------------\n",
            "train 0.007659277172880689 acc 99.8140147071447\n",
            "test 53.753262226690836 acc 93.13285072534264\n",
            "Epoch 166\n",
            "-------------------------------\n",
            "train 0.007474715293114869 acc 99.835474548628\n",
            "test 71.28880748562379 acc 95.41331654696845\n",
            "Epoch 167\n",
            "-------------------------------\n",
            "train 0.007889197732599785 acc 99.82474462788635\n",
            "test 7.77303674527228 acc 96.88975364101977\n",
            "Epoch 168\n",
            "-------------------------------\n",
            "train 0.020108272172179222 acc 99.82474462788635\n",
            "test 21.407117163468037 acc 94.7494921170849\n",
            "Epoch 169\n",
            "-------------------------------\n",
            "train 0.007347964921207371 acc 99.82116798763913\n",
            "test 95.64586281072664 acc 96.13150590860968\n",
            "Epoch 170\n",
            "-------------------------------\n",
            "train 0.00781890005446855 acc 99.82689061203467\n",
            "test 19.644661137870465 acc 96.6122063578357\n",
            "Epoch 171\n",
            "-------------------------------\n",
            "train 0.0072751297648077536 acc 99.82832126813356\n",
            "test 17.12092049148244 acc 96.32607513805831\n",
            "Epoch 172\n",
            "-------------------------------\n",
            "train 0.007425663144821403 acc 99.82689061203467\n",
            "test 16.840378051770486 acc 95.21302469312427\n",
            "Epoch 173\n",
            "-------------------------------\n",
            "train 0.008281613514740802 acc 99.81544536324358\n",
            "test 8.989424948626118 acc 96.32321382586053\n",
            "Epoch 174\n",
            "-------------------------------\n",
            "train 0.00658542108223867 acc 99.82975192423245\n",
            "test 20.365691680526968 acc 96.39188531860711\n",
            "Epoch 175\n",
            "-------------------------------\n",
            "train 0.00689897837689194 acc 99.83976651692466\n",
            "test 65.85060975257058 acc 96.92981201178861\n",
            "Epoch 176\n",
            "-------------------------------\n",
            "train 0.00675571508274157 acc 99.83189790838078\n",
            "test 98.37987861295224 acc 94.70657243411829\n",
            "Epoch 177\n",
            "-------------------------------\n",
            "train 0.009863328857036786 acc 99.84763512546854\n",
            "test 43.488444043026036 acc 96.11147672322527\n",
            "Epoch 178\n",
            "-------------------------------\n",
            "train 0.012282400347702851 acc 99.83690520472689\n",
            "test 4.940575886046196 acc 97.15585567541274\n",
            "Epoch 179\n",
            "-------------------------------\n",
            "train 0.006130791490814261 acc 99.835474548628\n",
            "test 50.608229899100294 acc 96.45769549915592\n",
            "Epoch 180\n",
            "-------------------------------\n",
            "train 0.007229666934832148 acc 99.82975192423245\n",
            "test 73.7858628726782 acc 95.79959369366792\n",
            "Epoch 181\n",
            "-------------------------------\n",
            "train 0.007372248549505908 acc 99.83332856447967\n",
            "test 14.760672484689048 acc 98.21740250078686\n",
            "Epoch 182\n",
            "-------------------------------\n",
            "train 0.060654400071820894 acc 99.83690520472689\n",
            "test 22.22329800723431 acc 93.22727402786919\n",
            "Epoch 183\n",
            "-------------------------------\n",
            "train 0.005827016642604869 acc 99.83976651692466\n",
            "test 38.74774550476982 acc 95.96841111333657\n",
            "Epoch 184\n",
            "-------------------------------\n",
            "train 0.006166256255252256 acc 99.84835045351798\n",
            "test 31.83144142518564 acc 96.15439640619188\n",
            "Epoch 185\n",
            "-------------------------------\n",
            "train 0.006923903222177216 acc 99.85121176571576\n",
            "test 97.08269411656902 acc 95.44479098114395\n",
            "Epoch 186\n",
            "-------------------------------\n",
            "train 0.00853854421444193 acc 99.85049643766631\n",
            "test 43.56052573546734 acc 96.51206043091362\n",
            "Epoch 187\n",
            "-------------------------------\n",
            "train 0.006874116096981987 acc 99.83475922057856\n",
            "test 18.25898227509764 acc 96.44052762596927\n",
            "Epoch 188\n",
            "-------------------------------\n",
            "train 0.007392950798406089 acc 99.84119717302355\n",
            "test 100.22315716613979 acc 96.1629803427852\n",
            "Epoch 189\n",
            "-------------------------------\n",
            "train 0.006539498512489962 acc 99.84691979741909\n",
            "test 61.6970855600177 acc 96.98417694354632\n",
            "Epoch 190\n",
            "-------------------------------\n",
            "train 0.0063970124341137915 acc 99.841912501073\n",
            "test 15.807184332715975 acc 97.3361183438725\n",
            "Epoch 191\n",
            "-------------------------------\n",
            "train 0.006145424208738484 acc 99.85049643766631\n",
            "test 94.64717305107615 acc 96.20876133794958\n",
            "Epoch 192\n",
            "-------------------------------\n",
            "train 0.015518562385050179 acc 99.8583650462102\n",
            "test 110.59132083691952 acc 95.30172537125526\n",
            "Epoch 193\n",
            "-------------------------------\n",
            "train 0.005530627239385049 acc 99.85264242181465\n",
            "test 27.112404574151657 acc 95.03848464906005\n",
            "Epoch 194\n",
            "-------------------------------\n",
            "train 0.008970849446796839 acc 99.84978110961687\n",
            "test 18.410152636683527 acc 96.55211880168245\n",
            "Epoch 195\n",
            "-------------------------------\n",
            "train 0.006199899490393297 acc 99.85407307791353\n",
            "test 14.5902886695652 acc 94.72374030730494\n",
            "Epoch 196\n",
            "-------------------------------\n",
            "train 0.006436447639495855 acc 99.85121176571576\n",
            "test 48.73973809100521 acc 96.3604108844316\n",
            "Epoch 197\n",
            "-------------------------------\n",
            "train 0.006718623223200434 acc 99.85335774986409\n",
            "test 16.388540735079374 acc 95.97985636212768\n",
            "Epoch 198\n",
            "-------------------------------\n",
            "train 0.0051684287408248685 acc 99.85908037425963\n",
            "test 95.96926289145452 acc 96.41763712838708\n",
            "Epoch 199\n",
            "-------------------------------\n",
            "train 0.00965347331986817 acc 99.85049643766631\n",
            "test 87.27248278611228 acc 96.85541789464648\n",
            "Epoch 200\n",
            "-------------------------------\n",
            "train 0.007261049736590281 acc 99.84048184497411\n",
            "test 18.498003641355183 acc 96.5349509284958\n"
          ]
        },
        {
          "data": {
            "image/png": "[encoded data removed]",
            "text/plain": [
              "<Figure size 1600x800 with 2 Axes>"
            ]
          },
          "metadata": {},
          "output_type": "display_data"
        },
        {
          "name": "stdout",
          "output_type": "stream",
          "text": [
            "预测正确率: 0.9853786946693753\n"
          ]
        }
      ],
      "source": [
        "x_train_NSL_KDD = np.load('/content/drive/MyDrive/x_train_NSL_KDD.npy')\n",
        "x_test_NSL_KDD = np.load('/content/drive/MyDrive/x_test_NSL_KDD.npy')\n",
        "\n",
        "\n",
        "\n",
        "\n",
        "train_ds = TensorDataset(torch.tensor(x_train_NSL_KDD).float(), torch.tensor(y_train_NSL_KDD).long())\n",
        "test_ds = TensorDataset(torch.tensor(x_test_NSL_KDD).float(), torch.tensor(y_test_NSL_KDD).long())\n",
        "\n",
        "\n",
        "class SelfAttention(nn.Module):\n",
        "    def __init__(self, dim):\n",
        "        super(SelfAttention, self).__init__()\n",
        "        self.query = nn.Linear(dim, dim)\n",
        "        self.key = nn.Linear(dim, dim)\n",
        "        self.value = nn.Linear(dim, dim)\n",
        "\n",
        "    def forward(self, x):\n",
        "        q = self.query(x)\n",
        "        k = self.key(x)\n",
        "        v = self.value(x)\n",
        "        attention = F.softmax(q @ k.transpose(-2, -1) / x.size(-1)**0.5, dim=-1)\n",
        "        return attention @ v\n",
        "class DNNModel(nn.Module):\n",
        "    def __init__(self, dim_num, nb_class, dropout_num, dropout_p):\n",
        "        super().__init__()\n",
        "        self.nor = nn.BatchNorm1d(dim_num)\n",
        "        self.attention = SelfAttention(dim_num)\n",
        "        self.lin1 = nn.Linear(dim_num, 512)  # Increase size\n",
        "        self.lin2 = nn.Linear(dim_num + 512, 256)  # Adjust accordingly\n",
        "        self.lin3 = nn.Linear(dim_num + 512 + 256, 128)  # Adjust accordingly\n",
        "        self.lin4 = nn.Linear(dim_num + 512 + 256 + 128, 64)  # Adjust accordingly\n",
        "        self.lin5 = nn.Linear(dim_num + 512 + 256 + 128 + 64, 32)  # Adjust accordingly\n",
        "        self.lin6 = nn.Linear(dim_num + 512 + 256 + 128 + 64 + 32, 16)  # New layer\n",
        "        self.lin7 = nn.Linear(dim_num + 512 + 256 + 128 + 64 + 32 + 16, 8)  # New layer\n",
        "        # Adjust final layer to include input from all previous layers\n",
        "        self.fc = nn.Linear(dim_num + 512 + 256 + 128 + 64 + 32 + 16 + 8, nb_class)\n",
        "        self.flatten = nn.Flatten()\n",
        "        self.dropouts = nn.ModuleList([nn.Dropout(dropout_p) for _ in range(dropout_num)])\n",
        "\n",
        "    def forward(self, x):\n",
        "        x = self.nor(x)\n",
        "        attention_out = self.attention(x) + x\n",
        "\n",
        "        out1 = F.relu(self.lin1(attention_out))\n",
        "        concat1 = torch.cat([attention_out, out1], dim=1)\n",
        "\n",
        "        out2 = F.relu(self.lin2(concat1))\n",
        "        concat2 = torch.cat([concat1, out2], dim=1)\n",
        "\n",
        "        out3 = F.relu(self.lin3(concat2))\n",
        "        concat3 = torch.cat([concat2, out3], dim=1)\n",
        "\n",
        "        out4 = F.relu(self.lin4(concat3))\n",
        "        concat4 = torch.cat([concat3, out4], dim=1)\n",
        "\n",
        "        out5 = F.relu(self.lin5(concat4))\n",
        "        concat5 = torch.cat([concat4, out5], dim=1)\n",
        "\n",
        "        out6 = F.relu(self.lin6(concat5))\n",
        "        concat6 = torch.cat([concat5, out6], dim=1)\n",
        "\n",
        "        out7 = F.relu(self.lin7(concat6))\n",
        "        concat7 = torch.cat([concat6, out7], dim=1)\n",
        "\n",
        "        flat_out = self.flatten(concat7)\n",
        "\n",
        "        if len(self.dropouts) == 0:\n",
        "            return self.fc(flat_out)\n",
        "        else:\n",
        "            out = None\n",
        "            for i, dropout in enumerate(self.dropouts):\n",
        "                if i == 0:\n",
        "                    out = dropout(flat_out)\n",
        "                    out = self.fc(out)\n",
        "                else:\n",
        "                    temp_out = dropout(flat_out)\n",
        "                    out += self.fc(temp_out)\n",
        "            return out / len(self.dropouts)\n",
        "\n",
        "batch_size = 512\n",
        "train_dl = DataLoader(train_ds, batch_size=batch_size, shuffle=True)\n",
        "test_dl = DataLoader(test_ds, batch_size=batch_size, shuffle=False)\n",
        "\n",
        "\n",
        "def train(dataloader, model, loss_fn, optimizer):\n",
        "    model.train()\n",
        "    total_loss = 0.0\n",
        "    correct = 0\n",
        "    total = 0\n",
        "\n",
        "    for inputs, labels in dataloader:\n",
        "        inputs, labels = inputs.to(device), labels.to(device)\n",
        "        optimizer.zero_grad()\n",
        "        outputs = model(inputs)\n",
        "        labels = labels.to(torch.float32)\n",
        "        loss = loss_fn(outputs, labels)  # 使用交叉熵损失函数计算损失\n",
        "        loss.backward()\n",
        "        optimizer.step()\n",
        "\n",
        "        total_loss += loss.item()\n",
        "        _, predicted = outputs.max(1)\n",
        "        total += labels.size(0)\n",
        "        correct += predicted.eq(labels.argmax(dim=1)).sum().item()\n",
        "\n",
        "    train_loss = total_loss / len(dataloader)\n",
        "    train_acc = 100. * correct / total\n",
        "    print('train', train_loss, 'acc', train_acc)\n",
        "    return train_loss, train_acc\n",
        "\n",
        "def test(dataloader, model, loss_fn):\n",
        "    model.eval()\n",
        "    total_loss = 0.0\n",
        "    correct = 0\n",
        "    total = 0\n",
        "\n",
        "    with torch.no_grad():\n",
        "        for inputs, labels in dataloader:\n",
        "            inputs, labels = inputs.to(device), labels.to(device)\n",
        "            outputs = model(inputs)\n",
        "            labels = labels.to(torch.float32)\n",
        "            loss = loss_fn(outputs, labels)\n",
        "\n",
        "            total_loss += loss.item()\n",
        "            _, predicted = outputs.max(1)\n",
        "            total += labels.size(0)\n",
        "            correct += predicted.eq(labels.argmax(dim=1)).sum().item()\n",
        "\n",
        "    test_loss = total_loss / len(dataloader)\n",
        "    test_acc = 100. * correct / total\n",
        "    print('test', test_loss, 'acc', test_acc)\n",
        "    return test_loss, test_acc\n",
        "\n",
        "\n",
        "device = \"cuda\" if torch.cuda.is_available() else \"mps\" if torch.backends.mps.is_available() else \"cpu\"\n",
        "print(f\"Using {device} device\")\n",
        "\n",
        "dnn_model = DNNModel(dim_num=67, nb_class=7, dropout_num=8, dropout_p=0.5).to(device)\n",
        "# [77054, 53700,  1377, 23681, 14077,  3569,  1287]\n",
        "# [77054, 53700,  1377, 23681, 14077,  3569,  1287]\n",
        "samples_per_class = np.array([77054, 53700,  1377, 23681, 14077,  3569,  1287])\n",
        "total_samples = samples_per_class.sum()\n",
        "weights = total_samples / (len(samples_per_class) * samples_per_class)\n",
        "print(weights)\n",
        "loss_fn = nn.CrossEntropyLoss(weight=torch.tensor(weights, dtype=torch.float).to(device))\n",
        "# loss_fn = nn.CrossEntropyLoss()\n",
        "optimizer = torch.optim.Adam(dnn_model.parameters(), lr= 1e-5, betas = (0.88, 0.98), weight_decay = 1e-6)\n",
        "\n",
        "\n",
        "epochs = 200\n",
        "train_loss_list = []\n",
        "train_acc_list = []\n",
        "test_loss_list = []\n",
        "test_acc_list = []\n",
        "\n",
        "best_accuracy = 0.0\n",
        "#\n",
        "for t in range(epochs):\n",
        "    print(f\"Epoch {t+1}\\n-------------------------------\")\n",
        "    train_loss, train_correct = train(train_dl, dnn_model, loss_fn, optimizer)\n",
        "    test_loss, test_correct = test(test_dl, dnn_model, loss_fn)\n",
        "\n",
        "    if test_correct > best_accuracy:\n",
        "        best_accuracy = test_correct\n",
        "        torch.save(dnn_model.state_dict(), '/content/drive/MyDrive/best_dnn_model.pth') #/content/drive/MyDrive/\n",
        "        print(f\"Higher accuracy found ({best_accuracy:.2f}%). Model saved.\")\n",
        "\n",
        "    train_loss_list.append(train_loss)\n",
        "    train_acc_list.append(train_correct)\n",
        "    test_loss_list.append(test_loss)\n",
        "    test_acc_list.append(test_correct)\n",
        "\n",
        "acc = train_acc_list\n",
        "val_acc = test_acc_list\n",
        "\n",
        "loss = train_loss_list\n",
        "val_loss = test_loss_list\n",
        "epochs_range = range(epochs)\n",
        "\n",
        "# plt.figure(figsize=(16, 8))\n",
        "# plt.subplot(1, 2, 1)\n",
        "# plt.plot(epochs_range, acc, label='Training Accuracy')\n",
        "# plt.plot(epochs_range, val_acc, label='Validation Accuracy')\n",
        "# plt.legend(loc='lower right')\n",
        "# plt.title('Training and Validation Accuracy')\n",
        "\n",
        "# plt.subplot(1, 2, 2)\n",
        "# plt.plot(epochs_range, loss, label='Training Loss')\n",
        "# plt.plot(epochs_range, val_loss, label='Validation Loss')\n",
        "# plt.legend(loc='upper right')\n",
        "# plt.title('Training and Validation Loss')\n",
        "# plt.show()\n",
        "\n",
        "predict_list = []  # 存储预测结果\n",
        "label_list = []  # 存储真实标签\n",
        "predict_pro_list = []  # 存储预测概率\n",
        "\n",
        "# 创建模型实例\n",
        "\n",
        "# 加载最优模型参数\n",
        "dnn_model.load_state_dict(torch.load('/content/drive/MyDrive/best_dnn_model.pth'))\n",
        "dnn_model.eval()\n",
        "m_softmax = nn.Softmax(dim=1)  # 定义softmax函数用于计算概率\n",
        "\n",
        "\n",
        "# 遍历测试集\n",
        "for (x, y) in test_dl:\n",
        "    x = x.to(device)\n",
        "    y = y.to(device)\n",
        "\n",
        "    # 使用最优模型进行预测\n",
        "    predict_score = dnn_model(x)\n",
        "    predict_pro = m_softmax(predict_score)\n",
        "    predict_label = torch.argmax(predict_score, dim=1)\n",
        "    y = y.argmax(dim=1)\n",
        "    # 将预测结果和真实标签添加到相应的列表中\n",
        "    predict_list.append(predict_label.cpu().numpy())\n",
        "    label_list.append(y.cpu().numpy())\n",
        "\n",
        "# 将列表转换为数组\n",
        "predict_array = np.concatenate(predict_list)\n",
        "label_array = np.concatenate(label_list)\n",
        "\n",
        "# 将独热编码转换为位置索引\n",
        "\n",
        "# # 计算正确预测的样本数\n",
        "correct_predictions = (predict_array == label_array).sum()\n",
        "# # 计算总样本数\n",
        "total_samples = len(label_array)  # 使用 label_index 的长度\n",
        "# # 计算正确率\n",
        "accuracy = correct_predictions / total_samples\n",
        "#\n",
        "print(\"预测正确率:\", accuracy)\n"
      ]
    },
    {
      "cell_type": "markdown",
      "metadata": {
        "id": "2OiIV8iS8PWl"
      },
      "source": [
        "## 分类报告"
      ]
    },
    {
      "cell_type": "code",
      "execution_count": null,
      "metadata": {
        "id": "WxFGV3K6lnWv"
      },
      "outputs": [],
      "source": [
        "# 加载最优模型参数\n",
        "dnn_model.load_state_dict(torch.load('/content/drive/MyDrive/best_dnn_model.pth'))\n",
        "# dnn_model.load_state_dict(torch.load('/content/best_dnn_model.pth'))\n",
        "dnn_model.eval()\n",
        "m_softmax = nn.Softmax(dim=1)  # 定义softmax函数用于计算概率\n",
        "\n",
        "\n",
        "# 遍历测试集\n",
        "for (x, y) in test_dl:\n",
        "    x = x.to(device)\n",
        "    y = y.to(device)\n",
        "\n",
        "    # 使用最优模型进行预测\n",
        "    predict_score = dnn_model(x)\n",
        "    predict_pro = m_softmax(predict_score)\n",
        "    predict_label = torch.argmax(predict_score, dim=1)\n",
        "    y = y.argmax(dim=1)\n",
        "    # 将预测结果和真实标签添加到相应的列表中\n",
        "    predict_list.append(predict_label.cpu().numpy())\n",
        "    label_list.append(y.cpu().numpy())\n",
        "\n",
        "# 将列表转换为数组\n",
        "predict_array = np.concatenate(predict_list)\n",
        "label_array = np.concatenate(label_list)\n",
        "\n",
        "# 将独热编码转换为位置索引\n",
        "\n",
        "# # 计算正确预测的样本数\n",
        "correct_predictions = (predict_array == label_array).sum()\n",
        "# # 计算总样本数\n",
        "total_samples = len(label_array)  # 使用 label_index 的长度\n",
        "# # 计算正确率\n",
        "accuracy = correct_predictions / total_samples\n",
        "#\n",
        "print(\"预测正确率:\", accuracy)\n",
        "#"
      ]
    },
    {
      "cell_type": "code",
      "execution_count": null,
      "metadata": {
        "id": "KRkUyQIQcFcr"
      },
      "outputs": [],
      "source": [
        "import numpy as np\n",
        "from sklearn.metrics import classification_report, confusion_matrix\n",
        "\n",
        "\n",
        "# 将列表转换为数组\n",
        "predict_array = np.concatenate(predict_list)\n",
        "label_array = np.concatenate(label_list)\n",
        "\n",
        "# 计算正确预测的样本数\n",
        "correct_predictions = (predict_array == label_array).sum()\n",
        "# 计算总样本数\n",
        "total_samples = len(label_array)\n",
        "# 计算正确率\n",
        "accuracy = correct_predictions / total_samples\n",
        "print(\"预测正确率: {:.4f}\".format(accuracy))\n",
        "\n",
        "# 打印分类报告\n",
        "# 在classification_report中设置digits参数为4，以设置小数点后四位的精度\n",
        "print(\"分类报告:\")\n",
        "print(classification_report(label_array, predict_array, digits=4))\n",
        "\n",
        "# 计算并打印混淆矩阵\n",
        "# 注意：混淆矩阵是整数，所以不需要设置小数位数\n",
        "print(\"混淆矩阵:\")\n",
        "cm = confusion_matrix(label_array, predict_array)\n",
        "print(cm)\n"
      ]
    },
    {
      "cell_type": "code",
      "execution_count": null,
      "metadata": {
        "id": "C54AazxP5Req"
      },
      "outputs": [],
      "source": [
        "# 计算并打印混淆矩阵\n",
        "print(\"混淆矩阵:\")\n",
        "cm = confusion_matrix(label_array, predict_array)\n",
        "\n",
        "# 计算假警报率\n",
        "FP = cm[1][0]\n",
        "TN = cm[1][1]\n",
        "false_alarm_rate = FP / (FP + TN)\n",
        "print(\"假警报率: {:.4f}\".format(false_alarm_rate))\n"
      ]
    },
    {
      "cell_type": "code",
      "execution_count": null,
      "metadata": {
        "id": "_26ZSbmG5wdR"
      },
      "outputs": [],
      "source": [
        "# 计算并打印混淆矩阵\n",
        "print(\"混淆矩阵:\")\n",
        "cm = confusion_matrix(label_array, predict_array)\n",
        "\n",
        "# 计算检测率\n",
        "TP = cm[0][0]\n",
        "FN = cm[0][1]\n",
        "detection_rate = TP / (TP + FN)\n",
        "print(\"检测率: {:.4f}\".format(detection_rate))\n"
      ]
    },
    {
      "cell_type": "code",
      "execution_count": null,
      "metadata": {
        "id": "rwNjx2GU5zhR"
      },
      "outputs": [],
      "source": [
        "# 计算并打印混淆矩阵\n",
        "print(\"混淆矩阵:\")\n",
        "cm = confusion_matrix(label_array, predict_array)\n",
        "\n",
        "# 计算假负例率\n",
        "TP = cm[0][0]\n",
        "FN = cm[0][1]\n",
        "false_negative_rate = FN / (TP + FN)\n",
        "print(\"假负例率: {:.4f}\".format(false_negative_rate))\n"
      ]
    },
    {
      "cell_type": "code",
      "execution_count": null,
      "metadata": {
        "colab": {
          "base_uri": "https://localhost:8080/",
          "height": 619
        },
        "id": "XzRnbT_i6cRK",
        "outputId": "eae2b69d-58c3-4199-c794-9be9fe114ec9"
      },
      "outputs": [
        {
          "data": {
            "image/png": "[encoded data removed]",
            "text/plain": [
              "<Figure size 1000x700 with 2 Axes>"
            ]
          },
          "metadata": {},
          "output_type": "display_data"
        }
      ],
      "source": [
        "import numpy as np\n",
        "import matplotlib.pyplot as plt\n",
        "import seaborn as sns\n",
        "from sklearn.metrics import confusion_matrix\n",
        "\n",
        "import numpy as np\n",
        "\n",
        "# 计算混淆矩阵\n",
        "cm = confusion_matrix(label_array, predict_array)\n",
        "\n",
        "# 将混淆矩阵转换为正确率矩阵\n",
        "cm_rate = cm.astype('float') / cm.sum(axis=1)[:, np.newaxis]\n",
        "\n",
        "# 绘制热图\n",
        "plt.figure(figsize=(10, 7))\n",
        "sns.heatmap(cm_rate, annot=True, fmt='.4f', cmap='Blues')\n",
        "plt.ylabel('Actual label')\n",
        "plt.xlabel('Predicted label')\n",
        "# 保存图像\n",
        "# plt.savefig('/content/drive/MyDrive/Figure/confusion_matrix_NSL-KDD.png')  # 指定保存路径和文件名\n",
        "\n",
        "# 显示图像\n",
        "plt.show()\n"
      ]
    },
    {
      "cell_type": "code",
      "execution_count": null,
      "metadata": {
        "colab": {
          "base_uri": "https://localhost:8080/"
        },
        "id": "yp1KMiUusAlA",
        "outputId": "1669c821-90ac-48e3-881d-247813e7591c"
      },
      "outputs": [
        {
          "name": "stdout",
          "output_type": "stream",
          "text": [
            "Accuracy: 0.9853786946693753\n",
            "Precision: 0.9880726072448677\n",
            "Recall: 0.9853786946693753\n",
            "F1-Score: 0.9861898541521202\n"
          ]
        }
      ],
      "source": [
        "from sklearn.metrics import precision_score, recall_score, f1_score, accuracy_score\n",
        "# Assuming predict_array and label_array are already defined as shown in your code\n",
        "\n",
        "# Calculate Accuracy\n",
        "accuracy = accuracy_score(label_array, predict_array)\n",
        "print(\"Accuracy:\", accuracy)\n",
        "\n",
        "# Calculate Precision\n",
        "precision = precision_score(label_array, predict_array, average='weighted')\n",
        "print(\"Precision:\", precision)\n",
        "\n",
        "# Calculate Recall\n",
        "recall = recall_score(label_array, predict_array, average='weighted')\n",
        "print(\"Recall:\", recall)\n",
        "\n",
        "# Calculate F1-Score\n",
        "f1 = f1_score(label_array, predict_array, average='weighted')\n",
        "print(\"F1-Score:\", f1)\n"
      ]
    },
    {
      "cell_type": "code",
      "execution_count": null,
      "metadata": {
        "colab": {
          "base_uri": "https://localhost:8080/"
        },
        "id": "wwdW3I7Eywem",
        "outputId": "78fa7338-fc39-4b1b-8123-f3622f300fc7"
      },
      "outputs": [
        {
          "name": "stdout",
          "output_type": "stream",
          "text": [
            "Precision per class: [0.99477602 0.99709029 0.98832685 1.         0.99141631 0.70612669\n",
            " 0.73684211]\n",
            "Recall per class: [0.9885147  0.98910615 0.92363636 0.9761402  0.98472469 0.95238095\n",
            " 0.97674419]\n",
            "F1-Score per class: [0.99163548 0.99308217 0.95488722 0.98792606 0.98805917 0.81097197\n",
            " 0.84      ]\n"
          ]
        }
      ],
      "source": [
        "# 计算每个类别的精确度、召回率和F1分数\n",
        "precision_per_class = precision_score(label_array, predict_array, average=None)\n",
        "recall_per_class = recall_score(label_array, predict_array, average=None)\n",
        "f1_per_class = f1_score(label_array, predict_array, average=None)\n",
        "\n",
        "# 打印每个类别的精确度、召回率和F1分数\n",
        "print(\"Precision per class:\", precision_per_class)\n",
        "print(\"Recall per class:\", recall_per_class)\n",
        "print(\"F1-Score per class:\", f1_per_class)\n"
      ]
    },
    {
      "cell_type": "code",
      "execution_count": null,
      "metadata": {
        "colab": {
          "base_uri": "https://localhost:8080/"
        },
        "id": "tfIMrLSUzpCW",
        "outputId": "4bab91f5-59a6-4955-9ef9-3dbd1e48e21c"
      },
      "outputs": [
        {
          "name": "stdout",
          "output_type": "stream",
          "text": [
            "Filtered Accuracy: 0.9874073084374374\n",
            "Filtered Precision: 0.9897939885640861\n",
            "Filtered Recall: 0.9874073084374374\n",
            "Filtered F1-Score: 0.9881455412082175\n"
          ]
        }
      ],
      "source": [
        "import numpy as np\n",
        "from sklearn.metrics import precision_score, recall_score, f1_score, accuracy_score\n",
        "\n",
        "# 创建一个布尔掩码，其中标签不为2和3的为True，否则为False\n",
        "mask = ~((label_array == 2) | (label_array == 3))\n",
        "\n",
        "# 应用掩码，去除标签为2和3的条目\n",
        "filtered_label_array = label_array[mask]\n",
        "filtered_predict_array = predict_array[mask]\n",
        "\n",
        "# 重新计算指标\n",
        "# Calculate Accuracy\n",
        "accuracy_filtered = accuracy_score(filtered_label_array, filtered_predict_array)\n",
        "print(\"Filtered Accuracy:\", accuracy_filtered)\n",
        "\n",
        "# Calculate Precision\n",
        "precision_filtered = precision_score(filtered_label_array, filtered_predict_array, average='weighted', zero_division=0)\n",
        "print(\"Filtered Precision:\", precision_filtered)\n",
        "\n",
        "# Calculate Recall\n",
        "recall_filtered = recall_score(filtered_label_array, filtered_predict_array, average='weighted', zero_division=0)\n",
        "print(\"Filtered Recall:\", recall_filtered)\n",
        "\n",
        "# Calculate F1-Score\n",
        "f1_filtered = f1_score(filtered_label_array, filtered_predict_array, average='weighted', zero_division=0)\n",
        "print(\"Filtered F1-Score:\", f1_filtered)\n"
      ]
    },
    {
      "cell_type": "code",
      "execution_count": null,
      "metadata": {
        "colab": {
          "base_uri": "https://localhost:8080/"
        },
        "id": "-Nv3pjdwzJI4",
        "outputId": "d051d5d6-97c4-40ab-9470-4946a5521146"
      },
      "outputs": [
        {
          "name": "stdout",
          "output_type": "stream",
          "text": [
            "Accuracy of class 0: 0.9885146972941405\n",
            "Accuracy of class 1: 0.9891061452513966\n",
            "Accuracy of class 2: 0.9236363636363636\n",
            "Accuracy of class 3: 0.9761402027027027\n",
            "Accuracy of class 4: 0.9847246891651865\n",
            "Accuracy of class 5: 0.9523809523809523\n",
            "Accuracy of class 6: 0.9767441860465116\n"
          ]
        }
      ],
      "source": [
        "from sklearn.metrics import confusion_matrix\n",
        "import numpy as np\n",
        "\n",
        "# 假设你已经有了真实标签和预测标签\n",
        "# label_array, predict_array\n",
        "\n",
        "# 计算混淆矩阵\n",
        "cm = confusion_matrix(label_array, predict_array)\n",
        "\n",
        "# 每个类别的准确率计算\n",
        "class_accuracy = np.diag(cm) / cm.sum(axis=1)\n",
        "\n",
        "# 打印每个类别的准确率\n",
        "for i, acc in enumerate(class_accuracy):\n",
        "    print(f\"Accuracy of class {i}: {acc}\")\n"
      ]
    },
    {
      "cell_type": "markdown",
      "metadata": {
        "id": "cccdI9x9945W"
      },
      "source": [
        "# --------------------------------------------------------------------------------------------------------------\n",
        "# --------------------------------------------------------------------------------------------------------------"
      ]
    },
    {
      "cell_type": "markdown",
      "metadata": {
        "id": "-WfIYR9aKJV7"
      },
      "source": [
        "# 随便"
      ]
    },
    {
      "cell_type": "markdown",
      "metadata": {
        "id": "fdnH0zhVMajj"
      },
      "source": [
        "# CSE-CIC-IDS2018\n"
      ]
    },
    {
      "cell_type": "markdown",
      "metadata": {
        "id": "Ekv8P2HCN9z8"
      },
      "source": [
        "### 下载数据"
      ]
    },
    {
      "cell_type": "code",
      "execution_count": null,
      "metadata": {
        "id": "f81ozIYYNvEn"
      },
      "outputs": [],
      "source": [
        "!cp /content/drive/MyDrive/kaggle.json /content/"
      ]
    },
    {
      "cell_type": "code",
      "execution_count": null,
      "metadata": {
        "id": "ZVWlZw8SOBgn"
      },
      "outputs": [],
      "source": [
        "!mkdir -p ~/.kaggle\n",
        "\n",
        "!cp kaggle.json ~/.kaggle/\n",
        "\n",
        "!chmod 600 ~/.kaggle/kaggle.json"
      ]
    },
    {
      "cell_type": "code",
      "execution_count": null,
      "metadata": {
        "colab": {
          "base_uri": "https://localhost:8080/"
        },
        "id": "o10ETaagODe7",
        "outputId": "86f2d26b-0f02-44c4-c6e3-3fe24455793e"
      },
      "outputs": [
        {
          "name": "stdout",
          "output_type": "stream",
          "text": [
            "csecicids2018-cleaned.zip: Skipping, found more recently modified local copy (use --force to force download)\n"
          ]
        }
      ],
      "source": [
        "!kaggle datasets download -d ekkykharismadhany/csecicids2018-cleaned"
      ]
    },
    {
      "cell_type": "code",
      "execution_count": null,
      "metadata": {
        "colab": {
          "base_uri": "https://localhost:8080/"
        },
        "id": "bZoGhighOElP",
        "outputId": "983f976d-463b-4d44-e8ec-97427a48bc4f"
      },
      "outputs": [
        {
          "name": "stdout",
          "output_type": "stream",
          "text": [
            "Archive:  /content/csecicids2018-cleaned.zip\n",
            "replace cleaned_ids2018_sampled.csv? [y]es, [n]o, [A]ll, [N]one, [r]ename: y\n",
            "  inflating: cleaned_ids2018_sampled.csv  \n"
          ]
        }
      ],
      "source": [
        "!unzip /content/csecicids2018-cleaned.zip"
      ]
    },
    {
      "cell_type": "markdown",
      "metadata": {
        "id": "9zc-hUicOOcp"
      },
      "source": [
        "### 数据处理"
      ]
    },
    {
      "cell_type": "code",
      "execution_count": null,
      "metadata": {
        "colab": {
          "base_uri": "https://localhost:8080/"
        },
        "id": "EC5iVuSdOd34",
        "outputId": "661843bf-599e-43b8-ccee-cb193bf7dfd7"
      },
      "outputs": [
        {
          "name": "stdout",
          "output_type": "stream",
          "text": [
            "(array([0., 1., 2., 3.]), array([  1377,  23681, 971016, 281830]))\n"
          ]
        }
      ],
      "source": [
        "import pandas as pd\n",
        "import numpy as np\n",
        "from sklearn.model_selection import train_test_split\n",
        "from sklearn.preprocessing import OrdinalEncoder\n",
        "from sklearn.impute import SimpleImputer\n",
        "from sklearn.pipeline import Pipeline\n",
        "from sklearn.compose import ColumnTransformer\n",
        "from sklearn.preprocessing import StandardScaler\n",
        "from sklearn.preprocessing import LabelEncoder\n",
        "\n",
        "\n",
        "C2018 = pd.read_csv('/content/cleaned_ids2018_sampled.csv',encoding='gbk')\n",
        "C2018.columns = C2018.columns.str.strip()\n",
        "C2018.replace([np.inf, -np.inf], np.nan, inplace=True)\n",
        "C2018.dropna(inplace=True)\n",
        "\n",
        "# def map_label_to_category(label):\n",
        "#     probe_attacks = ['ipsweep', 'nmap', 'portsweep']\n",
        "#     dos_attacks = ['smurf', 'neptune', 'back','teardrop','pod','land']\n",
        "#     u2r_attacks = ['buffer_overflow','rootkit','loadmodule','perl']\n",
        "#     r2l_attacks = ['ftp_write', 'imap', 'multihop','phf', 'spy', 'warezclient','warezmaster','guess_passwd']\n",
        "\n",
        "#     if label in probe_attacks:\n",
        "#         return 'Probe'\n",
        "#     elif label in dos_attacks:\n",
        "#         return 'DoS'\n",
        "#     elif label in u2r_attacks:\n",
        "#         return 'U2R'\n",
        "#     elif label in r2l_attacks:\n",
        "#         return 'R2L'\n",
        "#     elif label == 'normal':\n",
        "#         return 'BENIGN'\n",
        "\n",
        "def get_label_v1(item):\n",
        "  if item == 1:\n",
        "    return 'a'\n",
        "  else:\n",
        "    return 'b'\n",
        "C2018['label'] = C2018['Label'].apply(get_label_v1)\n",
        "C2018.label.value_counts()\n",
        "\n",
        "\n",
        "C2018['label'].value_counts()\n",
        "\n",
        "\n",
        "\n",
        "C2018.drop(columns=['Label'],inplace=True)\n",
        "\n",
        "# values_list = ['BENIGN','Probe', 'DoS', 'U2R','R2L']\n",
        "# filtered_df = kddcup99[kddcup99['label'].isin(values_list)]\n",
        "\n",
        "pd_train_v1 = pd.read_csv('/content/drive/MyDrive/CVUEBA.csv',encoding='gbk')\n",
        "pd_train_v1 = pd_train_v1.rename(columns={'attack': 'label'})\n",
        "\n",
        "\n",
        "def get_label(Label):\n",
        "    if Label == 0:\n",
        "        return 'Normal'\n",
        "    else:\n",
        "        return 'Malicious'\n",
        "\n",
        "pd_train_v1['label'] = pd_train_v1['label'].apply(get_label)\n",
        "\n",
        "all_columns = set(C2018.columns) | set(pd_train_v1.columns)\n",
        "# C2018 = C2018.reindex(columns=all_columns)\n",
        "# df_train_v2 = pd_train_v1.reindex(columns=all_columns)\n",
        "df_2018_v2 = C2018.reindex(columns=all_columns)\n",
        "df_train_v2 = pd_train_v1.reindex(columns=all_columns)\n",
        "pd_final = pd.concat([df_2018_v2, df_train_v2], ignore_index=True)\n",
        "\n",
        "nb_class = len(list(pd_final['label'].value_counts()))\n",
        "pd_mini = pd_final.sample(n=len(pd_final))\n",
        "\n",
        "object_cols = pd_mini.select_dtypes(include=['object']).columns.tolist()\n",
        "object_cols.remove('label')\n",
        "\n",
        "cat_si_step = ('si', SimpleImputer(strategy='constant', fill_value=-99))\n",
        "cat_ohe_step = ('ohe', OrdinalEncoder()) #离散数据整数化处理\n",
        "cat_steps = [cat_si_step, cat_ohe_step]\n",
        "\n",
        "cat_pipe = Pipeline(cat_steps)\n",
        "cat_cols = object_cols\n",
        "cat_transformers = [('cat', cat_pipe, cat_cols)]\n",
        "\n",
        "ct = ColumnTransformer(transformers=cat_transformers)\n",
        "\n",
        "\n",
        "for column_name in cat_cols:\n",
        "  pd_mini[column_name] = pd_mini[column_name].astype('str')\n",
        "X_kdd_transformed = ct.fit_transform(pd_mini)\n",
        "non_object_cols = pd_mini.select_dtypes(exclude=['object']).columns.tolist()\n",
        "num_cols = non_object_cols\n",
        "num_si_step = ('si', SimpleImputer(strategy='median'))\n",
        "num_ss_step = ('ss', StandardScaler()) #均值-标准差归一化\n",
        "num_steps = [num_si_step, num_ss_step]\n",
        "num_pipe = Pipeline(num_steps)\n",
        "num_transformers = [('num', num_pipe, num_cols)]\n",
        "ct = ColumnTransformer(transformers=num_transformers)\n",
        "X_num_transformed = ct.fit_transform(pd_mini)\n",
        "\n",
        "transformers = [('cat', cat_pipe, cat_cols),\n",
        "                ('num', num_pipe, num_cols)]\n",
        "\n",
        "ct = ColumnTransformer(transformers=transformers)\n",
        "datax = pd_mini.drop(columns=['label'])\n",
        "x_all = ct.fit_transform(datax)\n",
        "le = LabelEncoder()\n",
        "y_all = le.fit_transform(pd_mini['label'])\n",
        "y_all = y_all.reshape(-1,1)\n",
        "data = np.concatenate((y_all.reshape(-1,1),x_all),axis=1)\n",
        "c = []\n",
        "#重采样\n",
        "# for i in range(len(pd_final)):\n",
        "for i in range(len(pd_final)):\n",
        "    if data[i,0] == 0:\n",
        "        data = np.concatenate((data,np.tile(data[i,:],(80,1))))\n",
        "    # if data[i, 0] == 4:\n",
        "    #     data = np.concatenate((data, np.tile(data[i, :], (30, 1))))\n",
        "    # if data[i, 0] == 5:\n",
        "    #     data = np.concatenate((data, np.tile(data[i, :], (40, 1))))\n",
        "    # if data[i,0] == 6:\n",
        "    #     data = np.concatenate((data,np.tile(data[i,:],(800,1))))\n",
        "print(np.unique(data[:,0], return_counts=True))\n",
        "#转化为独热编码\n",
        "def one_hot_encode(labels, num_classes):\n",
        "    num_samples = len(labels)\n",
        "    one_hot_labels = np.zeros((num_samples, num_classes))\n",
        "    for i in range(num_samples):\n",
        "        one_hot_labels[i, labels[i]] = 1\n",
        "    return one_hot_labels\n",
        "\n",
        "num_classes = 4\n",
        "one_hot_labels = one_hot_encode(data[:,0].astype(int), num_classes)\n",
        "\n",
        "x_train_2018, x_test_2018, y_train_2018, y_test_2018 = train_test_split(data[:,1:], one_hot_labels,stratify=one_hot_labels, test_size=0.1, random_state=1)\n"
      ]
    },
    {
      "cell_type": "markdown",
      "metadata": {
        "id": "ZxY-Tpgc7zh0"
      },
      "source": [
        "## 降维"
      ]
    },
    {
      "cell_type": "code",
      "execution_count": null,
      "metadata": {
        "colab": {
          "base_uri": "https://localhost:8080/"
        },
        "id": "ExZ5LQ7a7zh0",
        "outputId": "6eb0cdfd-040c-4fc0-9703-0fedaac65512"
      },
      "outputs": [
        {
          "name": "stdout",
          "output_type": "stream",
          "text": [
            "x_train features: 105\n",
            "x_test features: 105\n",
            "y_train features: 4\n",
            "y_test features: 4\n"
          ]
        }
      ],
      "source": [
        "import numpy as np\n",
        "\n",
        "# 打印特征数量\n",
        "print('x_train features:', x_train_2018.shape[1] if x_train_2018.ndim > 1 else 1)\n",
        "print('x_test features:', x_test_2018.shape[1] if x_test_2018.ndim > 1 else 1)\n",
        "print('y_train features:', y_train_2018.shape[1] if y_train_2018.ndim > 1 else 1)\n",
        "print('y_test features:', y_test_2018.shape[1] if y_test_2018.ndim > 1 else 1)"
      ]
    },
    {
      "cell_type": "code",
      "execution_count": null,
      "metadata": {
        "colab": {
          "base_uri": "https://localhost:8080/"
        },
        "id": "jBr7TcYK7zh0",
        "outputId": "519739ae-6c01-4716-b4c0-4b1c8d946bbf"
      },
      "outputs": [
        {
          "ename": "KeyboardInterrupt",
          "evalue": "",
          "output_type": "error",
          "traceback": [
            "\u001b[0;31m---------------------------------------------------------------------------\u001b[0m",
            "\u001b[0;31mKeyboardInterrupt\u001b[0m                         Traceback (most recent call last)",
            "\u001b[0;32m<ipython-input-131-c31e6f4e5a15>\u001b[0m in \u001b[0;36m<cell line: 4>\u001b[0;34m()\u001b[0m\n\u001b[1;32m      2\u001b[0m \u001b[0;31m# 使用随机森林评估特征重要性\u001b[0m\u001b[0;34m\u001b[0m\u001b[0;34m\u001b[0m\u001b[0m\n\u001b[1;32m      3\u001b[0m \u001b[0mrf\u001b[0m \u001b[0;34m=\u001b[0m \u001b[0mRandomForestRegressor\u001b[0m\u001b[0;34m(\u001b[0m\u001b[0mn_estimators\u001b[0m\u001b[0;34m=\u001b[0m\u001b[0;36m100\u001b[0m\u001b[0;34m)\u001b[0m\u001b[0;34m\u001b[0m\u001b[0;34m\u001b[0m\u001b[0m\n\u001b[0;32m----> 4\u001b[0;31m \u001b[0mrf\u001b[0m\u001b[0;34m.\u001b[0m\u001b[0mfit\u001b[0m\u001b[0;34m(\u001b[0m\u001b[0mx_train_2018\u001b[0m\u001b[0;34m,\u001b[0m \u001b[0my_train_2018\u001b[0m\u001b[0;34m)\u001b[0m\u001b[0;34m\u001b[0m\u001b[0;34m\u001b[0m\u001b[0m\n\u001b[0m\u001b[1;32m      5\u001b[0m \u001b[0mimportances\u001b[0m \u001b[0;34m=\u001b[0m \u001b[0mrf\u001b[0m\u001b[0;34m.\u001b[0m\u001b[0mfeature_importances_\u001b[0m\u001b[0;34m\u001b[0m\u001b[0;34m\u001b[0m\u001b[0m\n\u001b[1;32m      6\u001b[0m \u001b[0mindices\u001b[0m \u001b[0;34m=\u001b[0m \u001b[0mnp\u001b[0m\u001b[0;34m.\u001b[0m\u001b[0margsort\u001b[0m\u001b[0;34m(\u001b[0m\u001b[0mimportances\u001b[0m\u001b[0;34m)\u001b[0m\u001b[0;34m[\u001b[0m\u001b[0;34m:\u001b[0m\u001b[0;34m:\u001b[0m\u001b[0;34m-\u001b[0m\u001b[0;36m1\u001b[0m\u001b[0;34m]\u001b[0m\u001b[0;34m\u001b[0m\u001b[0;34m\u001b[0m\u001b[0m\n",
            "\u001b[0;32m/usr/local/lib/python3.10/dist-packages/sklearn/ensemble/_forest.py\u001b[0m in \u001b[0;36mfit\u001b[0;34m(self, X, y, sample_weight)\u001b[0m\n\u001b[1;32m    471\u001b[0m             \u001b[0;31m# parallel_backend contexts set at a higher level,\u001b[0m\u001b[0;34m\u001b[0m\u001b[0;34m\u001b[0m\u001b[0m\n\u001b[1;32m    472\u001b[0m             \u001b[0;31m# since correctness does not rely on using threads.\u001b[0m\u001b[0;34m\u001b[0m\u001b[0;34m\u001b[0m\u001b[0m\n\u001b[0;32m--> 473\u001b[0;31m             trees = Parallel(\n\u001b[0m\u001b[1;32m    474\u001b[0m                 \u001b[0mn_jobs\u001b[0m\u001b[0;34m=\u001b[0m\u001b[0mself\u001b[0m\u001b[0;34m.\u001b[0m\u001b[0mn_jobs\u001b[0m\u001b[0;34m,\u001b[0m\u001b[0;34m\u001b[0m\u001b[0;34m\u001b[0m\u001b[0m\n\u001b[1;32m    475\u001b[0m                 \u001b[0mverbose\u001b[0m\u001b[0;34m=\u001b[0m\u001b[0mself\u001b[0m\u001b[0;34m.\u001b[0m\u001b[0mverbose\u001b[0m\u001b[0;34m,\u001b[0m\u001b[0;34m\u001b[0m\u001b[0;34m\u001b[0m\u001b[0m\n",
            "\u001b[0;32m/usr/local/lib/python3.10/dist-packages/sklearn/utils/parallel.py\u001b[0m in \u001b[0;36m__call__\u001b[0;34m(self, iterable)\u001b[0m\n\u001b[1;32m     61\u001b[0m             \u001b[0;32mfor\u001b[0m \u001b[0mdelayed_func\u001b[0m\u001b[0;34m,\u001b[0m \u001b[0margs\u001b[0m\u001b[0;34m,\u001b[0m \u001b[0mkwargs\u001b[0m \u001b[0;32min\u001b[0m \u001b[0miterable\u001b[0m\u001b[0;34m\u001b[0m\u001b[0;34m\u001b[0m\u001b[0m\n\u001b[1;32m     62\u001b[0m         )\n\u001b[0;32m---> 63\u001b[0;31m         \u001b[0;32mreturn\u001b[0m \u001b[0msuper\u001b[0m\u001b[0;34m(\u001b[0m\u001b[0;34m)\u001b[0m\u001b[0;34m.\u001b[0m\u001b[0m__call__\u001b[0m\u001b[0;34m(\u001b[0m\u001b[0miterable_with_config\u001b[0m\u001b[0;34m)\u001b[0m\u001b[0;34m\u001b[0m\u001b[0;34m\u001b[0m\u001b[0m\n\u001b[0m\u001b[1;32m     64\u001b[0m \u001b[0;34m\u001b[0m\u001b[0m\n\u001b[1;32m     65\u001b[0m \u001b[0;34m\u001b[0m\u001b[0m\n",
            "\u001b[0;32m/usr/local/lib/python3.10/dist-packages/joblib/parallel.py\u001b[0m in \u001b[0;36m__call__\u001b[0;34m(self, iterable)\u001b[0m\n\u001b[1;32m   1861\u001b[0m             \u001b[0moutput\u001b[0m \u001b[0;34m=\u001b[0m \u001b[0mself\u001b[0m\u001b[0;34m.\u001b[0m\u001b[0m_get_sequential_output\u001b[0m\u001b[0;34m(\u001b[0m\u001b[0miterable\u001b[0m\u001b[0;34m)\u001b[0m\u001b[0;34m\u001b[0m\u001b[0;34m\u001b[0m\u001b[0m\n\u001b[1;32m   1862\u001b[0m             \u001b[0mnext\u001b[0m\u001b[0;34m(\u001b[0m\u001b[0moutput\u001b[0m\u001b[0;34m)\u001b[0m\u001b[0;34m\u001b[0m\u001b[0;34m\u001b[0m\u001b[0m\n\u001b[0;32m-> 1863\u001b[0;31m             \u001b[0;32mreturn\u001b[0m \u001b[0moutput\u001b[0m \u001b[0;32mif\u001b[0m \u001b[0mself\u001b[0m\u001b[0;34m.\u001b[0m\u001b[0mreturn_generator\u001b[0m \u001b[0;32melse\u001b[0m \u001b[0mlist\u001b[0m\u001b[0;34m(\u001b[0m\u001b[0moutput\u001b[0m\u001b[0;34m)\u001b[0m\u001b[0;34m\u001b[0m\u001b[0;34m\u001b[0m\u001b[0m\n\u001b[0m\u001b[1;32m   1864\u001b[0m \u001b[0;34m\u001b[0m\u001b[0m\n\u001b[1;32m   1865\u001b[0m         \u001b[0;31m# Let's create an ID that uniquely identifies the current call. If the\u001b[0m\u001b[0;34m\u001b[0m\u001b[0;34m\u001b[0m\u001b[0m\n",
            "\u001b[0;32m/usr/local/lib/python3.10/dist-packages/joblib/parallel.py\u001b[0m in \u001b[0;36m_get_sequential_output\u001b[0;34m(self, iterable)\u001b[0m\n\u001b[1;32m   1790\u001b[0m                 \u001b[0mself\u001b[0m\u001b[0;34m.\u001b[0m\u001b[0mn_dispatched_batches\u001b[0m \u001b[0;34m+=\u001b[0m \u001b[0;36m1\u001b[0m\u001b[0;34m\u001b[0m\u001b[0;34m\u001b[0m\u001b[0m\n\u001b[1;32m   1791\u001b[0m                 \u001b[0mself\u001b[0m\u001b[0;34m.\u001b[0m\u001b[0mn_dispatched_tasks\u001b[0m \u001b[0;34m+=\u001b[0m \u001b[0;36m1\u001b[0m\u001b[0;34m\u001b[0m\u001b[0;34m\u001b[0m\u001b[0m\n\u001b[0;32m-> 1792\u001b[0;31m                 \u001b[0mres\u001b[0m \u001b[0;34m=\u001b[0m \u001b[0mfunc\u001b[0m\u001b[0;34m(\u001b[0m\u001b[0;34m*\u001b[0m\u001b[0margs\u001b[0m\u001b[0;34m,\u001b[0m \u001b[0;34m**\u001b[0m\u001b[0mkwargs\u001b[0m\u001b[0;34m)\u001b[0m\u001b[0;34m\u001b[0m\u001b[0;34m\u001b[0m\u001b[0m\n\u001b[0m\u001b[1;32m   1793\u001b[0m                 \u001b[0mself\u001b[0m\u001b[0;34m.\u001b[0m\u001b[0mn_completed_tasks\u001b[0m \u001b[0;34m+=\u001b[0m \u001b[0;36m1\u001b[0m\u001b[0;34m\u001b[0m\u001b[0;34m\u001b[0m\u001b[0m\n\u001b[1;32m   1794\u001b[0m                 \u001b[0mself\u001b[0m\u001b[0;34m.\u001b[0m\u001b[0mprint_progress\u001b[0m\u001b[0;34m(\u001b[0m\u001b[0;34m)\u001b[0m\u001b[0;34m\u001b[0m\u001b[0;34m\u001b[0m\u001b[0m\n",
            "\u001b[0;32m/usr/local/lib/python3.10/dist-packages/sklearn/utils/parallel.py\u001b[0m in \u001b[0;36m__call__\u001b[0;34m(self, *args, **kwargs)\u001b[0m\n\u001b[1;32m    121\u001b[0m             \u001b[0mconfig\u001b[0m \u001b[0;34m=\u001b[0m \u001b[0;34m{\u001b[0m\u001b[0;34m}\u001b[0m\u001b[0;34m\u001b[0m\u001b[0;34m\u001b[0m\u001b[0m\n\u001b[1;32m    122\u001b[0m         \u001b[0;32mwith\u001b[0m \u001b[0mconfig_context\u001b[0m\u001b[0;34m(\u001b[0m\u001b[0;34m**\u001b[0m\u001b[0mconfig\u001b[0m\u001b[0;34m)\u001b[0m\u001b[0;34m:\u001b[0m\u001b[0;34m\u001b[0m\u001b[0;34m\u001b[0m\u001b[0m\n\u001b[0;32m--> 123\u001b[0;31m             \u001b[0;32mreturn\u001b[0m \u001b[0mself\u001b[0m\u001b[0;34m.\u001b[0m\u001b[0mfunction\u001b[0m\u001b[0;34m(\u001b[0m\u001b[0;34m*\u001b[0m\u001b[0margs\u001b[0m\u001b[0;34m,\u001b[0m \u001b[0;34m**\u001b[0m\u001b[0mkwargs\u001b[0m\u001b[0;34m)\u001b[0m\u001b[0;34m\u001b[0m\u001b[0;34m\u001b[0m\u001b[0m\n\u001b[0m",
            "\u001b[0;32m/usr/local/lib/python3.10/dist-packages/sklearn/ensemble/_forest.py\u001b[0m in \u001b[0;36m_parallel_build_trees\u001b[0;34m(tree, bootstrap, X, y, sample_weight, tree_idx, n_trees, verbose, class_weight, n_samples_bootstrap)\u001b[0m\n\u001b[1;32m    182\u001b[0m             \u001b[0mcurr_sample_weight\u001b[0m \u001b[0;34m*=\u001b[0m \u001b[0mcompute_sample_weight\u001b[0m\u001b[0;34m(\u001b[0m\u001b[0;34m\"balanced\"\u001b[0m\u001b[0;34m,\u001b[0m \u001b[0my\u001b[0m\u001b[0;34m,\u001b[0m \u001b[0mindices\u001b[0m\u001b[0;34m=\u001b[0m\u001b[0mindices\u001b[0m\u001b[0;34m)\u001b[0m\u001b[0;34m\u001b[0m\u001b[0;34m\u001b[0m\u001b[0m\n\u001b[1;32m    183\u001b[0m \u001b[0;34m\u001b[0m\u001b[0m\n\u001b[0;32m--> 184\u001b[0;31m         \u001b[0mtree\u001b[0m\u001b[0;34m.\u001b[0m\u001b[0mfit\u001b[0m\u001b[0;34m(\u001b[0m\u001b[0mX\u001b[0m\u001b[0;34m,\u001b[0m \u001b[0my\u001b[0m\u001b[0;34m,\u001b[0m \u001b[0msample_weight\u001b[0m\u001b[0;34m=\u001b[0m\u001b[0mcurr_sample_weight\u001b[0m\u001b[0;34m,\u001b[0m \u001b[0mcheck_input\u001b[0m\u001b[0;34m=\u001b[0m\u001b[0;32mFalse\u001b[0m\u001b[0;34m)\u001b[0m\u001b[0;34m\u001b[0m\u001b[0;34m\u001b[0m\u001b[0m\n\u001b[0m\u001b[1;32m    185\u001b[0m     \u001b[0;32melse\u001b[0m\u001b[0;34m:\u001b[0m\u001b[0;34m\u001b[0m\u001b[0;34m\u001b[0m\u001b[0m\n\u001b[1;32m    186\u001b[0m         \u001b[0mtree\u001b[0m\u001b[0;34m.\u001b[0m\u001b[0mfit\u001b[0m\u001b[0;34m(\u001b[0m\u001b[0mX\u001b[0m\u001b[0;34m,\u001b[0m \u001b[0my\u001b[0m\u001b[0;34m,\u001b[0m \u001b[0msample_weight\u001b[0m\u001b[0;34m=\u001b[0m\u001b[0msample_weight\u001b[0m\u001b[0;34m,\u001b[0m \u001b[0mcheck_input\u001b[0m\u001b[0;34m=\u001b[0m\u001b[0;32mFalse\u001b[0m\u001b[0;34m)\u001b[0m\u001b[0;34m\u001b[0m\u001b[0;34m\u001b[0m\u001b[0m\n",
            "\u001b[0;32m/usr/local/lib/python3.10/dist-packages/sklearn/tree/_classes.py\u001b[0m in \u001b[0;36mfit\u001b[0;34m(self, X, y, sample_weight, check_input)\u001b[0m\n\u001b[1;32m   1245\u001b[0m         \"\"\"\n\u001b[1;32m   1246\u001b[0m \u001b[0;34m\u001b[0m\u001b[0m\n\u001b[0;32m-> 1247\u001b[0;31m         super().fit(\n\u001b[0m\u001b[1;32m   1248\u001b[0m             \u001b[0mX\u001b[0m\u001b[0;34m,\u001b[0m\u001b[0;34m\u001b[0m\u001b[0;34m\u001b[0m\u001b[0m\n\u001b[1;32m   1249\u001b[0m             \u001b[0my\u001b[0m\u001b[0;34m,\u001b[0m\u001b[0;34m\u001b[0m\u001b[0;34m\u001b[0m\u001b[0m\n",
            "\u001b[0;32m/usr/local/lib/python3.10/dist-packages/sklearn/tree/_classes.py\u001b[0m in \u001b[0;36mfit\u001b[0;34m(self, X, y, sample_weight, check_input)\u001b[0m\n\u001b[1;32m    377\u001b[0m             )\n\u001b[1;32m    378\u001b[0m \u001b[0;34m\u001b[0m\u001b[0m\n\u001b[0;32m--> 379\u001b[0;31m         \u001b[0mbuilder\u001b[0m\u001b[0;34m.\u001b[0m\u001b[0mbuild\u001b[0m\u001b[0;34m(\u001b[0m\u001b[0mself\u001b[0m\u001b[0;34m.\u001b[0m\u001b[0mtree_\u001b[0m\u001b[0;34m,\u001b[0m \u001b[0mX\u001b[0m\u001b[0;34m,\u001b[0m \u001b[0my\u001b[0m\u001b[0;34m,\u001b[0m \u001b[0msample_weight\u001b[0m\u001b[0;34m)\u001b[0m\u001b[0;34m\u001b[0m\u001b[0;34m\u001b[0m\u001b[0m\n\u001b[0m\u001b[1;32m    380\u001b[0m \u001b[0;34m\u001b[0m\u001b[0m\n\u001b[1;32m    381\u001b[0m         \u001b[0;32mif\u001b[0m \u001b[0mself\u001b[0m\u001b[0;34m.\u001b[0m\u001b[0mn_outputs_\u001b[0m \u001b[0;34m==\u001b[0m \u001b[0;36m1\u001b[0m \u001b[0;32mand\u001b[0m \u001b[0mis_classifier\u001b[0m\u001b[0;34m(\u001b[0m\u001b[0mself\u001b[0m\u001b[0;34m)\u001b[0m\u001b[0;34m:\u001b[0m\u001b[0;34m\u001b[0m\u001b[0;34m\u001b[0m\u001b[0m\n",
            "\u001b[0;31mKeyboardInterrupt\u001b[0m: "
          ]
        }
      ],
      "source": [
        "from sklearn.ensemble import RandomForestRegressor\n",
        "# 使用随机森林评估特征重要性\n",
        "rf = RandomForestRegressor(n_estimators=100)\n",
        "rf.fit(x_train_2018, y_train_2018)\n",
        "importances = rf.feature_importances_\n",
        "indices = np.argsort(importances)[::-1]\n",
        "print(\"Feature ranking:\")\n",
        "for f in range(x_train_2018.shape[1]):\n",
        "    print(f\"{f+1}. feature {indices[f]} (importance: {importances[indices[f]]})\")\n",
        "\n",
        "# 选择重要性最高的N个特征（这里N根据需要调整）\n",
        "N = 67\n",
        "selected_features_indices = indices[:N]"
      ]
    },
    {
      "cell_type": "code",
      "execution_count": null,
      "metadata": {
        "id": "Lw-ABrCS7zh0"
      },
      "outputs": [],
      "source": [
        "# 从 x_train 中选择重要性最高的 N 个特征\n",
        "x_test_2018 = x_test_2018[:, selected_features_indices]\n",
        "\n",
        "# 保存筛选出来的特征到新的文件\n",
        "np.save('/content/drive/MyDrive/x_test_2018.npy', x_test_2018)\n",
        "selected_features = np.load('/content/drive/MyDrive/x_test_2018.npy')\n",
        "print('x_test_2018 features:', x_test_2018.shape[1] if x_test_2018.ndim > 1 else 1)"
      ]
    },
    {
      "cell_type": "code",
      "execution_count": null,
      "metadata": {
        "id": "Pv1-5axQ7zh0"
      },
      "outputs": [],
      "source": [
        "# 从 x_train 中选择重要性最高的 N 个特征\n",
        "x_train_2018 = x_train_2018[:, selected_features_indices]\n",
        "\n",
        "# 保存筛选出来的特征到新的文件\n",
        "np.save('/content/drive/MyDrive/x_train_2018.npy', x_train_2018)\n",
        "selected_features = np.load('/content/drive/MyDrive/x_train_2018.npy')\n",
        "print('x_train_2018 features:', x_train_2018.shape[1] if x_train_2018.ndim > 1 else 1)"
      ]
    },
    {
      "cell_type": "code",
      "execution_count": null,
      "metadata": {
        "id": "jd5yD_Rh7zh0"
      },
      "outputs": [],
      "source": [
        "!pip install torch"
      ]
    },
    {
      "cell_type": "code",
      "execution_count": null,
      "metadata": {
        "id": "a4tUQ8E27zh1"
      },
      "outputs": [],
      "source": [
        "import torch\n",
        "from torch.utils.data import TensorDataset, DataLoader\n",
        "import torch.nn as nn\n",
        "import torch.nn.functional as F"
      ]
    },
    {
      "cell_type": "code",
      "execution_count": null,
      "metadata": {
        "id": "f6c9ljFc7zh1"
      },
      "outputs": [],
      "source": [
        "x_train_2018 = np.load('/content/drive/MyDrive/x_train_2018.npy')\n",
        "x_test_2018 = np.load('/content/drive/MyDrive/x_test_2018.npy')\n"
      ]
    },
    {
      "cell_type": "code",
      "execution_count": null,
      "metadata": {
        "id": "LvxUI_bk7zh1"
      },
      "outputs": [],
      "source": [
        "train_ds = TensorDataset(torch.tensor(x_train_2018).float(), torch.tensor(y_train_2018).long())\n",
        "test_ds = TensorDataset(torch.tensor(x_test_2018).float(), torch.tensor(y_test_2018).long())\n"
      ]
    },
    {
      "cell_type": "markdown",
      "metadata": {
        "id": "A1kgmEkz81PP"
      },
      "source": [
        "## 保存特征"
      ]
    },
    {
      "cell_type": "code",
      "execution_count": null,
      "metadata": {
        "id": "k99HwC9m81PP"
      },
      "outputs": [],
      "source": [
        "import numpy as np\n",
        "\n",
        "# 从 x_train 中选择重要性最高的 N 个特征\n",
        "x_train_2018 = x_train_2018[:, selected_features_indices]\n",
        "\n",
        "# 保存筛选出来的特征到新的文件\n",
        "np.save('/content/drive/MyDrive/x_train_2018.npy', x_train_2018)\n",
        "selected_features = np.load('/content/drive/MyDrive/x_train_2018.npy')\n",
        "print('x_train_2018 features:', x_train_2018.shape[1] if x_train_2018.ndim > 1 else 1)"
      ]
    },
    {
      "cell_type": "code",
      "execution_count": null,
      "metadata": {
        "id": "VNSd7tMQ81PP"
      },
      "outputs": [],
      "source": [
        "# 从 x_train 中选择重要性最高的 N 个特征\n",
        "x_test_2018 = x_test_2018[:, selected_features_indices]\n",
        "\n",
        "# 保存筛选出来的特征到新的文件\n",
        "np.save('/content/drive/MyDrive/x_test_2018.npy', x_test_2018)\n",
        "selected_features = np.load('/content/drive/MyDrive/x_test_2018.npy')\n",
        "print('x_train features:', x_test_2018.shape[1] if x_test_2018.ndim > 1 else 1)"
      ]
    },
    {
      "cell_type": "code",
      "execution_count": null,
      "metadata": {
        "id": "GdVulHM881PP"
      },
      "outputs": [],
      "source": [
        "import numpy as np\n",
        "import pandas as pd\n",
        "import torch\n",
        "from torch.utils.data import TensorDataset\n",
        "import torch.nn as nn\n",
        "import torch.nn.functional as F\n",
        "from torch.utils.data import DataLoader\n",
        "import matplotlib.pyplot as plt\n",
        "from sklearn.metrics import confusion_matrix, f1_score\n",
        "import seaborn as sns"
      ]
    },
    {
      "cell_type": "code",
      "execution_count": null,
      "metadata": {
        "id": "Tv9xAG_M9Ta3"
      },
      "outputs": [],
      "source": []
    },
    {
      "cell_type": "markdown",
      "metadata": {
        "id": "HboFWEYi9TqX"
      },
      "source": [
        "## 模型"
      ]
    },
    {
      "cell_type": "code",
      "execution_count": null,
      "metadata": {
        "id": "rHJsAkUY9TqX"
      },
      "outputs": [],
      "source": [
        "import numpy as np\n",
        "import pandas as pd\n",
        "import torch\n",
        "from torch.utils.data import TensorDataset\n",
        "import torch.nn as nn\n",
        "import torch.nn.functional as F\n",
        "from torch.utils.data import DataLoader"
      ]
    },
    {
      "cell_type": "code",
      "execution_count": null,
      "metadata": {
        "id": "gYtxKwjQ9TqY"
      },
      "outputs": [],
      "source": [
        "x_train_2018 = np.load('/content/drive/MyDrive/x_train_2018.npy')\n",
        "x_test_2018 = np.load('/content/drive/MyDrive/x_test_2018.npy')\n",
        "\n",
        "\n",
        "\n",
        "\n",
        "train_ds = TensorDataset(torch.tensor(x_train_2018).float(), torch.tensor(y_train_2018).long())\n",
        "test_ds = TensorDataset(torch.tensor(x_test_2018).float(), torch.tensor(y_test_2018).long())\n",
        "\n",
        "\n",
        "class SelfAttention(nn.Module):\n",
        "    def __init__(self, dim):\n",
        "        super(SelfAttention, self).__init__()\n",
        "        self.query = nn.Linear(dim, dim)\n",
        "        self.key = nn.Linear(dim, dim)\n",
        "        self.value = nn.Linear(dim, dim)\n",
        "\n",
        "    def forward(self, x):\n",
        "        q = self.query(x)\n",
        "        k = self.key(x)\n",
        "        v = self.value(x)\n",
        "        attention = F.softmax(q @ k.transpose(-2, -1) / x.size(-1)**0.5, dim=-1)\n",
        "        return attention @ v\n",
        "class DNNModel(nn.Module):\n",
        "    def __init__(self, dim_num, nb_class, dropout_num, dropout_p):\n",
        "        super().__init__()\n",
        "        self.nor = nn.BatchNorm1d(dim_num)\n",
        "        self.attention = SelfAttention(dim_num)\n",
        "        self.lin1 = nn.Linear(dim_num, 512)  # Increase size\n",
        "        self.lin2 = nn.Linear(dim_num + 512, 256)  # Adjust accordingly\n",
        "        self.lin3 = nn.Linear(dim_num + 512 + 256, 128)  # Adjust accordingly\n",
        "        self.lin4 = nn.Linear(dim_num + 512 + 256 + 128, 64)  # Adjust accordingly\n",
        "        self.lin5 = nn.Linear(dim_num + 512 + 256 + 128 + 64, 32)  # Adjust accordingly\n",
        "        self.lin6 = nn.Linear(dim_num + 512 + 256 + 128 + 64 + 32, 16)  # New layer\n",
        "        self.lin7 = nn.Linear(dim_num + 512 + 256 + 128 + 64 + 32 + 16, 8)  # New layer\n",
        "        # Adjust final layer to include input from all previous layers\n",
        "        self.fc = nn.Linear(dim_num + 512 + 256 + 128 + 64 + 32 + 16 + 8, nb_class)\n",
        "        self.flatten = nn.Flatten()\n",
        "        self.dropouts = nn.ModuleList([nn.Dropout(dropout_p) for _ in range(dropout_num)])\n",
        "\n",
        "    def forward(self, x):\n",
        "        x = self.nor(x)\n",
        "        attention_out = self.attention(x) + x\n",
        "\n",
        "        out1 = F.relu(self.lin1(attention_out))\n",
        "        concat1 = torch.cat([attention_out, out1], dim=1)\n",
        "\n",
        "        out2 = F.relu(self.lin2(concat1))\n",
        "        concat2 = torch.cat([concat1, out2], dim=1)\n",
        "\n",
        "        out3 = F.relu(self.lin3(concat2))\n",
        "        concat3 = torch.cat([concat2, out3], dim=1)\n",
        "\n",
        "        out4 = F.relu(self.lin4(concat3))\n",
        "        concat4 = torch.cat([concat3, out4], dim=1)\n",
        "\n",
        "        out5 = F.relu(self.lin5(concat4))\n",
        "        concat5 = torch.cat([concat4, out5], dim=1)\n",
        "\n",
        "        out6 = F.relu(self.lin6(concat5))\n",
        "        concat6 = torch.cat([concat5, out6], dim=1)\n",
        "\n",
        "        out7 = F.relu(self.lin7(concat6))\n",
        "        concat7 = torch.cat([concat6, out7], dim=1)\n",
        "\n",
        "        flat_out = self.flatten(concat7)\n",
        "\n",
        "        if len(self.dropouts) == 0:\n",
        "            return self.fc(flat_out)\n",
        "        else:\n",
        "            out = None\n",
        "            for i, dropout in enumerate(self.dropouts):\n",
        "                if i == 0:\n",
        "                    out = dropout(flat_out)\n",
        "                    out = self.fc(out)\n",
        "                else:\n",
        "                    temp_out = dropout(flat_out)\n",
        "                    out += self.fc(temp_out)\n",
        "            return out / len(self.dropouts)\n",
        "\n",
        "batch_size = 512\n",
        "train_dl = DataLoader(train_ds, batch_size=batch_size, shuffle=True)\n",
        "test_dl = DataLoader(test_ds, batch_size=batch_size, shuffle=False)\n",
        "\n",
        "\n",
        "def train(dataloader, model, loss_fn, optimizer):\n",
        "    model.train()\n",
        "    total_loss = 0.0\n",
        "    correct = 0\n",
        "    total = 0\n",
        "\n",
        "    for inputs, labels in dataloader:\n",
        "        inputs, labels = inputs.to(device), labels.to(device)\n",
        "        optimizer.zero_grad()\n",
        "        outputs = model(inputs)\n",
        "        labels = labels.to(torch.float32)\n",
        "        loss = loss_fn(outputs, labels)  # 使用交叉熵损失函数计算损失\n",
        "        loss.backward()\n",
        "        optimizer.step()\n",
        "\n",
        "        total_loss += loss.item()\n",
        "        _, predicted = outputs.max(1)\n",
        "        total += labels.size(0)\n",
        "        correct += predicted.eq(labels.argmax(dim=1)).sum().item()\n",
        "\n",
        "    train_loss = total_loss / len(dataloader)\n",
        "    train_acc = 100. * correct / total\n",
        "    print('train', train_loss, 'acc', train_acc)\n",
        "    return train_loss, train_acc\n",
        "\n",
        "def test(dataloader, model, loss_fn):\n",
        "    model.eval()\n",
        "    total_loss = 0.0\n",
        "    correct = 0\n",
        "    total = 0\n",
        "\n",
        "    with torch.no_grad():\n",
        "        for inputs, labels in dataloader:\n",
        "            inputs, labels = inputs.to(device), labels.to(device)\n",
        "            outputs = model(inputs)\n",
        "            labels = labels.to(torch.float32)\n",
        "            loss = loss_fn(outputs, labels)\n",
        "\n",
        "            total_loss += loss.item()\n",
        "            _, predicted = outputs.max(1)\n",
        "            total += labels.size(0)\n",
        "            correct += predicted.eq(labels.argmax(dim=1)).sum().item()\n",
        "\n",
        "    test_loss = total_loss / len(dataloader)\n",
        "    test_acc = 100. * correct / total\n",
        "    print('test', test_loss, 'acc', test_acc)\n",
        "    return test_loss, test_acc\n",
        "\n",
        "\n",
        "device = \"cuda\" if torch.cuda.is_available() else \"mps\" if torch.backends.mps.is_available() else \"cpu\"\n",
        "print(f\"Using {device} device\")\n",
        "\n",
        "dnn_model = DNNModel(dim_num=67, nb_class=7, dropout_num=8, dropout_p=0.5).to(device)\n",
        "# [77054, 53700,  1377, 23681, 14077,  3569,  1287]\n",
        "# [77054, 53700,  1377, 23681, 14077,  3569,  1287]\n",
        "samples_per_class = np.array([77054, 53700,  1377, 23681, 14077,  3569,  1287])\n",
        "total_samples = samples_per_class.sum()\n",
        "weights = total_samples / (len(samples_per_class) * samples_per_class)\n",
        "print(weights)\n",
        "loss_fn = nn.CrossEntropyLoss(weight=torch.tensor(weights, dtype=torch.float).to(device))\n",
        "# loss_fn = nn.CrossEntropyLoss()\n",
        "optimizer = torch.optim.Adam(dnn_model.parameters(), lr= 1e-5, betas = (0.88, 0.98), weight_decay = 1e-6)\n",
        "\n",
        "\n",
        "epochs = 200\n",
        "train_loss_list = []\n",
        "train_acc_list = []\n",
        "test_loss_list = []\n",
        "test_acc_list = []\n",
        "\n",
        "best_accuracy = 0.0\n",
        "#\n",
        "for t in range(epochs):\n",
        "    print(f\"Epoch {t+1}\\n-------------------------------\")\n",
        "    train_loss, train_correct = train(train_dl, dnn_model, loss_fn, optimizer)\n",
        "    test_loss, test_correct = test(test_dl, dnn_model, loss_fn)\n",
        "\n",
        "    if test_correct > best_accuracy:\n",
        "        best_accuracy = test_correct\n",
        "        torch.save(dnn_model.state_dict(), '/content/drive/MyDrive/best_dnn_model_2018.pth') #/content/drive/MyDrive/\n",
        "        print(f\"Higher accuracy found ({best_accuracy:.2f}%). Model saved.\")\n",
        "\n",
        "    train_loss_list.append(train_loss)\n",
        "    train_acc_list.append(train_correct)\n",
        "    test_loss_list.append(test_loss)\n",
        "    test_acc_list.append(test_correct)\n",
        "\n",
        "acc = train_acc_list\n",
        "val_acc = test_acc_list\n",
        "\n",
        "loss = train_loss_list\n",
        "val_loss = test_loss_list\n",
        "epochs_range = range(epochs)\n",
        "\n",
        "plt.figure(figsize=(16, 8))\n",
        "plt.subplot(1, 2, 1)\n",
        "plt.plot(epochs_range, acc, label='Training Accuracy')\n",
        "plt.plot(epochs_range, val_acc, label='Validation Accuracy')\n",
        "plt.legend(loc='lower right')\n",
        "plt.title('Training and Validation Accuracy')\n",
        "\n",
        "plt.subplot(1, 2, 2)\n",
        "plt.plot(epochs_range, loss, label='Training Loss')\n",
        "plt.plot(epochs_range, val_loss, label='Validation Loss')\n",
        "plt.legend(loc='upper right')\n",
        "plt.title('Training and Validation Loss')\n",
        "plt.show()\n",
        "\n",
        "predict_list = []  # 存储预测结果\n",
        "label_list = []  # 存储真实标签\n",
        "predict_pro_list = []  # 存储预测概率\n",
        "\n",
        "# 创建模型实例\n",
        "\n",
        "# 加载最优模型参数\n",
        "dnn_model.load_state_dict(torch.load('/content/drive/MyDrive/best_dnn_model_2018.pth'))\n",
        "dnn_model.eval()\n",
        "m_softmax = nn.Softmax(dim=1)  # 定义softmax函数用于计算概率\n",
        "\n",
        "\n",
        "# 遍历测试集\n",
        "for (x, y) in test_dl:\n",
        "    x = x.to(device)\n",
        "    y = y.to(device)\n",
        "\n",
        "    # 使用最优模型进行预测\n",
        "    predict_score = dnn_model(x)\n",
        "    predict_pro = m_softmax(predict_score)\n",
        "    predict_label = torch.argmax(predict_score, dim=1)\n",
        "    y = y.argmax(dim=1)\n",
        "    # 将预测结果和真实标签添加到相应的列表中\n",
        "    predict_list.append(predict_label.cpu().numpy())\n",
        "    label_list.append(y.cpu().numpy())\n",
        "\n",
        "# 将列表转换为数组\n",
        "predict_array = np.concatenate(predict_list)\n",
        "label_array = np.concatenate(label_list)\n",
        "\n",
        "# 将独热编码转换为位置索引\n",
        "\n",
        "# # 计算正确预测的样本数\n",
        "correct_predictions = (predict_array == label_array).sum()\n",
        "# # 计算总样本数\n",
        "total_samples = len(label_array)  # 使用 label_index 的长度\n",
        "# # 计算正确率\n",
        "accuracy = correct_predictions / total_samples\n",
        "#\n",
        "print(\"预测正确率:\", accuracy)\n"
      ]
    },
    {
      "cell_type": "code",
      "execution_count": null,
      "metadata": {
        "id": "TIUqx10B9pIo"
      },
      "outputs": [],
      "source": []
    },
    {
      "cell_type": "markdown",
      "metadata": {
        "id": "peDka10W9phx"
      },
      "source": [
        "## 分类报告"
      ]
    },
    {
      "cell_type": "code",
      "execution_count": null,
      "metadata": {
        "id": "4vYLphUg9phx"
      },
      "outputs": [],
      "source": [
        "# 加载最优模型参数\n",
        "dnn_model.load_state_dict(torch.load('/content/drive/MyDrive/best_dnn_model_2018.pth'))\n",
        "# dnn_model.load_state_dict(torch.load('/content/best_dnn_model.pth'))\n",
        "dnn_model.eval()\n",
        "m_softmax = nn.Softmax(dim=1)  # 定义softmax函数用于计算概率\n",
        "\n",
        "\n",
        "# 遍历测试集\n",
        "for (x, y) in test_dl:\n",
        "    x = x.to(device)\n",
        "    y = y.to(device)\n",
        "\n",
        "    # 使用最优模型进行预测\n",
        "    predict_score = dnn_model(x)\n",
        "    predict_pro = m_softmax(predict_score)\n",
        "    predict_label = torch.argmax(predict_score, dim=1)\n",
        "    y = y.argmax(dim=1)\n",
        "    # 将预测结果和真实标签添加到相应的列表中\n",
        "    predict_list.append(predict_label.cpu().numpy())\n",
        "    label_list.append(y.cpu().numpy())\n",
        "\n",
        "# 将列表转换为数组\n",
        "predict_array = np.concatenate(predict_list)\n",
        "label_array = np.concatenate(label_list)\n",
        "\n",
        "# 将独热编码转换为位置索引\n",
        "\n",
        "# # 计算正确预测的样本数\n",
        "correct_predictions = (predict_array == label_array).sum()\n",
        "# # 计算总样本数\n",
        "total_samples = len(label_array)  # 使用 label_index 的长度\n",
        "# # 计算正确率\n",
        "accuracy = correct_predictions / total_samples\n",
        "#\n",
        "print(\"预测正确率:\", accuracy)\n",
        "#"
      ]
    },
    {
      "cell_type": "code",
      "execution_count": null,
      "metadata": {
        "id": "DEamGv1F9phy"
      },
      "outputs": [],
      "source": [
        "import numpy as np\n",
        "from sklearn.metrics import classification_report, confusion_matrix\n",
        "\n",
        "\n",
        "# 将列表转换为数组\n",
        "predict_array = np.concatenate(predict_list)\n",
        "label_array = np.concatenate(label_list)\n",
        "\n",
        "# 计算正确预测的样本数\n",
        "correct_predictions = (predict_array == label_array).sum()\n",
        "# 计算总样本数\n",
        "total_samples = len(label_array)\n",
        "# 计算正确率\n",
        "accuracy = correct_predictions / total_samples\n",
        "print(\"预测正确率: {:.4f}\".format(accuracy))\n",
        "\n",
        "# 打印分类报告\n",
        "# 在classification_report中设置digits参数为4，以设置小数点后四位的精度\n",
        "print(\"分类报告:\")\n",
        "print(classification_report(label_array, predict_array, digits=4))\n",
        "\n",
        "# 计算并打印混淆矩阵\n",
        "# 注意：混淆矩阵是整数，所以不需要设置小数位数\n",
        "print(\"混淆矩阵:\")\n",
        "cm = confusion_matrix(label_array, predict_array)\n",
        "print(cm)\n"
      ]
    },
    {
      "cell_type": "code",
      "execution_count": null,
      "metadata": {
        "id": "SOgxJpL89phy"
      },
      "outputs": [],
      "source": [
        "# 计算并打印混淆矩阵\n",
        "print(\"混淆矩阵:\")\n",
        "cm = confusion_matrix(label_array, predict_array)\n",
        "\n",
        "# 计算假警报率\n",
        "FP = cm[1][0]\n",
        "TN = cm[1][1]\n",
        "false_alarm_rate = FP / (FP + TN)\n",
        "print(\"假警报率: {:.4f}\".format(false_alarm_rate))\n"
      ]
    },
    {
      "cell_type": "code",
      "execution_count": null,
      "metadata": {
        "id": "QV0d2pJ89phy"
      },
      "outputs": [],
      "source": [
        "# 计算并打印混淆矩阵\n",
        "print(\"混淆矩阵:\")\n",
        "cm = confusion_matrix(label_array, predict_array)\n",
        "\n",
        "# 计算检测率\n",
        "TP = cm[0][0]\n",
        "FN = cm[0][1]\n",
        "detection_rate = TP / (TP + FN)\n",
        "print(\"检测率: {:.4f}\".format(detection_rate))\n"
      ]
    },
    {
      "cell_type": "code",
      "execution_count": null,
      "metadata": {
        "id": "Ic-UgWfS9phy"
      },
      "outputs": [],
      "source": [
        "# 计算并打印混淆矩阵\n",
        "print(\"混淆矩阵:\")\n",
        "cm = confusion_matrix(label_array, predict_array)\n",
        "\n",
        "# 计算假负例率\n",
        "TP = cm[0][0]\n",
        "FN = cm[0][1]\n",
        "false_negative_rate = FN / (TP + FN)\n",
        "print(\"假负例率: {:.4f}\".format(false_negative_rate))\n"
      ]
    },
    {
      "cell_type": "code",
      "execution_count": null,
      "metadata": {
        "id": "d8doXiAs9phy"
      },
      "outputs": [],
      "source": [
        "import numpy as np\n",
        "import matplotlib.pyplot as plt\n",
        "import seaborn as sns\n",
        "from sklearn.metrics import confusion_matrix\n",
        "\n",
        "import numpy as np\n",
        "\n",
        "# 计算混淆矩阵\n",
        "cm = confusion_matrix(label_array, predict_array)\n",
        "\n",
        "# 将混淆矩阵转换为正确率矩阵\n",
        "cm_rate = cm.astype('float') / cm.sum(axis=1)[:, np.newaxis]\n",
        "\n",
        "# 绘制热图\n",
        "plt.figure(figsize=(10, 7))\n",
        "sns.heatmap(cm_rate, annot=True, fmt='.4f', cmap='Blues')\n",
        "plt.ylabel('Actual label')\n",
        "plt.xlabel('Predicted label')\n",
        "# 保存图像\n",
        "# plt.savefig('/content/drive/MyDrive/Figure/confusion_matrix_NSL-KDD.png')  # 指定保存路径和文件名\n",
        "\n",
        "# 显示图像\n",
        "plt.show()\n"
      ]
    },
    {
      "cell_type": "code",
      "execution_count": null,
      "metadata": {
        "id": "LeXiktly9phy"
      },
      "outputs": [],
      "source": [
        "from sklearn.metrics import precision_score, recall_score, f1_score, accuracy_score\n",
        "# Assuming predict_array and label_array are already defined as shown in your code\n",
        "\n",
        "# Calculate Accuracy\n",
        "accuracy = accuracy_score(label_array, predict_array)\n",
        "print(\"Accuracy:\", accuracy)\n",
        "\n",
        "# Calculate Precision\n",
        "precision = precision_score(label_array, predict_array, average='weighted')\n",
        "print(\"Precision:\", precision)\n",
        "\n",
        "# Calculate Recall\n",
        "recall = recall_score(label_array, predict_array, average='weighted')\n",
        "print(\"Recall:\", recall)\n",
        "\n",
        "# Calculate F1-Score\n",
        "f1 = f1_score(label_array, predict_array, average='weighted')\n",
        "print(\"F1-Score:\", f1)\n"
      ]
    },
    {
      "cell_type": "code",
      "execution_count": null,
      "metadata": {
        "id": "39jOJBEu9phy"
      },
      "outputs": [],
      "source": [
        "# 计算每个类别的精确度、召回率和F1分数\n",
        "precision_per_class = precision_score(label_array, predict_array, average=None)\n",
        "recall_per_class = recall_score(label_array, predict_array, average=None)\n",
        "f1_per_class = f1_score(label_array, predict_array, average=None)\n",
        "\n",
        "# 打印每个类别的精确度、召回率和F1分数\n",
        "print(\"Precision per class:\", precision_per_class)\n",
        "print(\"Recall per class:\", recall_per_class)\n",
        "print(\"F1-Score per class:\", f1_per_class)\n"
      ]
    },
    {
      "cell_type": "code",
      "execution_count": null,
      "metadata": {
        "id": "eiMov8d49phy"
      },
      "outputs": [],
      "source": [
        "import numpy as np\n",
        "from sklearn.metrics import precision_score, recall_score, f1_score, accuracy_score\n",
        "\n",
        "# 创建一个布尔掩码，其中标签不为2和3的为True，否则为False\n",
        "mask = ~((label_array == 2) | (label_array == 3))\n",
        "\n",
        "# 应用掩码，去除标签为2和3的条目\n",
        "filtered_label_array = label_array[mask]\n",
        "filtered_predict_array = predict_array[mask]\n",
        "\n",
        "# 重新计算指标\n",
        "# Calculate Accuracy\n",
        "accuracy_filtered = accuracy_score(filtered_label_array, filtered_predict_array)\n",
        "print(\"Filtered Accuracy:\", accuracy_filtered)\n",
        "\n",
        "# Calculate Precision\n",
        "precision_filtered = precision_score(filtered_label_array, filtered_predict_array, average='weighted', zero_division=0)\n",
        "print(\"Filtered Precision:\", precision_filtered)\n",
        "\n",
        "# Calculate Recall\n",
        "recall_filtered = recall_score(filtered_label_array, filtered_predict_array, average='weighted', zero_division=0)\n",
        "print(\"Filtered Recall:\", recall_filtered)\n",
        "\n",
        "# Calculate F1-Score\n",
        "f1_filtered = f1_score(filtered_label_array, filtered_predict_array, average='weighted', zero_division=0)\n",
        "print(\"Filtered F1-Score:\", f1_filtered)\n"
      ]
    },
    {
      "cell_type": "code",
      "execution_count": null,
      "metadata": {
        "id": "ZrTSnbjC9phy"
      },
      "outputs": [],
      "source": [
        "from sklearn.metrics import confusion_matrix\n",
        "import numpy as np\n",
        "\n",
        "# 假设你已经有了真实标签和预测标签\n",
        "# label_array, predict_array\n",
        "\n",
        "# 计算混淆矩阵\n",
        "cm = confusion_matrix(label_array, predict_array)\n",
        "\n",
        "# 每个类别的准确率计算\n",
        "class_accuracy = np.diag(cm) / cm.sum(axis=1)\n",
        "\n",
        "# 打印每个类别的准确率\n",
        "for i, acc in enumerate(class_accuracy):\n",
        "    print(f\"Accuracy of class {i}: {acc}\")\n"
      ]
    },
    {
      "cell_type": "markdown",
      "metadata": {
        "id": "Z6uFhC4KQzxq"
      },
      "source": [
        "# 机器学习模型对比实验"
      ]
    },
    {
      "cell_type": "markdown",
      "metadata": {
        "id": "iGhIItobGweZ"
      },
      "source": [
        "#### SVM"
      ]
    },
    {
      "cell_type": "code",
      "execution_count": null,
      "metadata": {
        "id": "XAWRIpfTGvca"
      },
      "outputs": [],
      "source": [
        "from sklearn.svm import SVC\n",
        "\n",
        "# Create SVM classifier, here you can also specify parameters like 'kernel'\n",
        "svm_classifier = SVC()\n",
        "\n",
        "# Fit the classifier to the training data\n",
        "svm_classifier.fit(x_train, y_train)\n",
        "\n",
        "# Evaluate the classifier on the test data\n",
        "accuracy = svm_classifier.score(x_test, y_test)\n",
        "print(\"Accuracy:\", accuracy)\n",
        "\n",
        "# Make predictions\n",
        "predict_labels = svm_classifier.predict(x_test)\n",
        "print(predict_labels[:5])\n"
      ]
    },
    {
      "cell_type": "markdown",
      "metadata": {
        "id": "mqSc4pdqG1w9"
      },
      "source": [
        "#### MW"
      ]
    },
    {
      "cell_type": "markdown",
      "metadata": {
        "id": "JKavtetHRZrv"
      },
      "source": [
        "#### DT"
      ]
    },
    {
      "cell_type": "code",
      "execution_count": null,
      "metadata": {
        "id": "jLUHg9t1QzNW"
      },
      "outputs": [],
      "source": [
        "from sklearn import tree\n",
        "# rf = RandomForestClassifier()\n",
        "clf = tree.DecisionTreeClassifier()\n",
        "\n",
        "clf.fit(x_train,y_train)\n",
        "# clf.fit(x_train_new,y_train_new)"
      ]
    },
    {
      "cell_type": "code",
      "execution_count": null,
      "metadata": {
        "id": "E1VkmZ8ZRNBg"
      },
      "outputs": [],
      "source": [
        "clf.score(x_test,y_test)"
      ]
    },
    {
      "cell_type": "code",
      "execution_count": null,
      "metadata": {
        "id": "Z_xgd-2TROrk"
      },
      "outputs": [],
      "source": [
        "predict_label = clf.predict(x_test)\n",
        "predict_label[:5]"
      ]
    },
    {
      "cell_type": "code",
      "execution_count": null,
      "metadata": {
        "id": "yGf-5gz3RP4c"
      },
      "outputs": [],
      "source": [
        "predict_score_list = clf.predict_proba(x_test)[:,1]\n",
        "predict_score_list"
      ]
    },
    {
      "cell_type": "code",
      "execution_count": null,
      "metadata": {
        "id": "QmOI9Zu1RRYf"
      },
      "outputs": [],
      "source": [
        "print(classification_report(y_test, predict_label,digits=4))"
      ]
    },
    {
      "cell_type": "code",
      "execution_count": null,
      "metadata": {
        "id": "Blvmo_cQRTZg"
      },
      "outputs": [],
      "source": [
        "cnf_matrix = confusion_matrix(y_test, predict_label)\n",
        "cnf_matrix"
      ]
    },
    {
      "cell_type": "code",
      "execution_count": null,
      "metadata": {
        "id": "kAc-6_k7RVlW"
      },
      "outputs": [],
      "source": [
        "sns.heatmap(cnf_matrix, annot=True, fmt='g')"
      ]
    },
    {
      "cell_type": "code",
      "execution_count": null,
      "metadata": {
        "id": "SbH007PfRXLW"
      },
      "outputs": [],
      "source": [
        "cm_normalized = cnf_matrix.astype('float') / cnf_matrix.sum(axis=1)[:, np.newaxis]\n",
        "sns.heatmap(cm_normalized, annot=True, fmt='.3f')"
      ]
    },
    {
      "cell_type": "markdown",
      "metadata": {
        "id": "XuBquPwRRYqN"
      },
      "source": [
        "#### RF"
      ]
    },
    {
      "cell_type": "code",
      "execution_count": null,
      "metadata": {
        "id": "2mPIP0p7Rhkv"
      },
      "outputs": [],
      "source": [
        "from sklearn.ensemble import RandomForestClassifier\n",
        "rf = RandomForestClassifier(n_estimators=2)\n",
        "\n",
        "rf.fit(x_train,y_train)"
      ]
    },
    {
      "cell_type": "code",
      "execution_count": null,
      "metadata": {
        "id": "QXTV4XrdRi1g"
      },
      "outputs": [],
      "source": [
        "rf.score(x_test,y_test)"
      ]
    },
    {
      "cell_type": "code",
      "execution_count": null,
      "metadata": {
        "id": "cWcwf9DKRk27"
      },
      "outputs": [],
      "source": [
        "predict_label = rf.predict(x_test)\n",
        "predict_label[:5]"
      ]
    },
    {
      "cell_type": "code",
      "execution_count": null,
      "metadata": {
        "id": "ABfny_8uRmKr"
      },
      "outputs": [],
      "source": [
        "predict_score_list = rf.predict_proba(x_test)[:,1]\n",
        "predict_score_list"
      ]
    },
    {
      "cell_type": "code",
      "execution_count": null,
      "metadata": {
        "id": "j7Ana32KRnwZ"
      },
      "outputs": [],
      "source": [
        "print(classification_report(y_test, predict_label,digits=4))"
      ]
    },
    {
      "cell_type": "code",
      "execution_count": null,
      "metadata": {
        "id": "_QR4EJvhRpiR"
      },
      "outputs": [],
      "source": [
        "cnf_matrix = confusion_matrix(y_test, predict_label)\n",
        "cnf_matrix"
      ]
    },
    {
      "cell_type": "code",
      "execution_count": null,
      "metadata": {
        "id": "mRr9DmWTRqqf"
      },
      "outputs": [],
      "source": [
        "sns.heatmap(cnf_matrix, annot=True, fmt='g')"
      ]
    },
    {
      "cell_type": "code",
      "execution_count": null,
      "metadata": {
        "id": "bSNNxuOrRr87"
      },
      "outputs": [],
      "source": [
        "cm_normalized = cnf_matrix.astype('float') / cnf_matrix.sum(axis=1)[:, np.newaxis]\n",
        "sns.heatmap(cm_normalized, annot=True, fmt='.3f')"
      ]
    },
    {
      "cell_type": "markdown",
      "metadata": {
        "id": "TSkaSUS8RMeq"
      },
      "source": [
        "#### LR"
      ]
    },
    {
      "cell_type": "code",
      "execution_count": null,
      "metadata": {
        "id": "s5hsuJQ7RvDF"
      },
      "outputs": [],
      "source": [
        "from sklearn.linear_model import LogisticRegression\n",
        "lr = LogisticRegression()\n",
        "\n",
        "lr.fit(x_train,y_train)"
      ]
    },
    {
      "cell_type": "code",
      "execution_count": null,
      "metadata": {
        "id": "pLcsMexjRxAQ"
      },
      "outputs": [],
      "source": [
        "lr.score(x_test,y_test)"
      ]
    },
    {
      "cell_type": "code",
      "execution_count": null,
      "metadata": {
        "id": "eX54ubs2Ryb7"
      },
      "outputs": [],
      "source": [
        "predict_label = lr.predict(x_test)\n",
        "predict_label[:5]"
      ]
    },
    {
      "cell_type": "code",
      "execution_count": null,
      "metadata": {
        "id": "2k_9eQXZRzlK"
      },
      "outputs": [],
      "source": [
        "predict_score_list = lr.predict_proba(x_test)[:,1]\n",
        "predict_score_list"
      ]
    },
    {
      "cell_type": "code",
      "execution_count": null,
      "metadata": {
        "id": "Do5c9eX9R0YG"
      },
      "outputs": [],
      "source": [
        "print(classification_report(y_test, predict_label,digits=4))"
      ]
    },
    {
      "cell_type": "code",
      "execution_count": null,
      "metadata": {
        "id": "an-17DrQR2ZY"
      },
      "outputs": [],
      "source": [
        "cnf_matrix = confusion_matrix(y_test, predict_label)\n",
        "cnf_matrix"
      ]
    },
    {
      "cell_type": "code",
      "execution_count": null,
      "metadata": {
        "id": "zt3SBRUQR4D9"
      },
      "outputs": [],
      "source": [
        "sns.heatmap(cnf_matrix, annot=True, fmt='g')"
      ]
    },
    {
      "cell_type": "code",
      "execution_count": null,
      "metadata": {
        "id": "abdhkXojR5Ug"
      },
      "outputs": [],
      "source": [
        "cm_normalized = cnf_matrix.astype('float') / cnf_matrix.sum(axis=1)[:, np.newaxis]\n",
        "sns.heatmap(cm_normalized, annot=True, fmt='.3f')"
      ]
    },
    {
      "cell_type": "markdown",
      "metadata": {
        "id": "ayI_BdiER6VK"
      },
      "source": [
        "#### KNN"
      ]
    },
    {
      "cell_type": "code",
      "execution_count": null,
      "metadata": {
        "id": "YdwdGKfER8EN"
      },
      "outputs": [],
      "source": [
        "from sklearn.neighbors import KNeighborsClassifier\n",
        "# 创建KNN分类器，指定K值为3\n",
        "knn_classifier = KNeighborsClassifier(n_neighbors=4)\n",
        "\n",
        "knn_classifier.fit(x_train,y_train)"
      ]
    },
    {
      "cell_type": "code",
      "execution_count": null,
      "metadata": {
        "id": "d3JakUNhR9EG"
      },
      "outputs": [],
      "source": [
        "knn_classifier.score(x_test,y_test)"
      ]
    },
    {
      "cell_type": "code",
      "execution_count": null,
      "metadata": {
        "id": "Tz5eN9oyR99_"
      },
      "outputs": [],
      "source": [
        "predict_label = knn_classifier.predict(x_test)\n",
        "predict_label[:5]"
      ]
    },
    {
      "cell_type": "code",
      "execution_count": null,
      "metadata": {
        "id": "kZQr3KKtR_Rx"
      },
      "outputs": [],
      "source": [
        "predict_score_list = knn_classifier.predict_proba(x_test)[:,1]\n",
        "predict_score_list"
      ]
    },
    {
      "cell_type": "code",
      "execution_count": null,
      "metadata": {
        "id": "lwZb26kKSAh7"
      },
      "outputs": [],
      "source": [
        "print(classification_report(y_test, predict_label,digits=4))"
      ]
    },
    {
      "cell_type": "code",
      "execution_count": null,
      "metadata": {
        "id": "2gdDrhf_SB2n"
      },
      "outputs": [],
      "source": [
        "cnf_matrix = confusion_matrix(y_test, predict_label)\n",
        "cnf_matrix"
      ]
    },
    {
      "cell_type": "code",
      "execution_count": null,
      "metadata": {
        "id": "WxN5KkPISC8T"
      },
      "outputs": [],
      "source": [
        "sns.heatmap(cnf_matrix, annot=True, fmt='g')"
      ]
    },
    {
      "cell_type": "code",
      "execution_count": null,
      "metadata": {
        "id": "kSZCQzb5SEEZ"
      },
      "outputs": [],
      "source": [
        "cm_normalized = cnf_matrix.astype('float') / cnf_matrix.sum(axis=1)[:, np.newaxis]\n",
        "sns.heatmap(cm_normalized, annot=True, fmt='.3f')"
      ]
    },
    {
      "cell_type": "markdown",
      "metadata": {
        "id": "EgCE7qr5SFI8"
      },
      "source": [
        "#### XGBoost"
      ]
    },
    {
      "cell_type": "code",
      "execution_count": null,
      "metadata": {
        "id": "5LPJELcHSHje"
      },
      "outputs": [],
      "source": [
        "import xgboost as xgb\n",
        "# 创建XGBoost分类器\n",
        "xgb_classifier = xgb.XGBClassifier(n_estimators = 3)\n",
        "\n",
        "\n",
        "xgb_classifier.fit(x_train,y_train)"
      ]
    },
    {
      "cell_type": "code",
      "execution_count": null,
      "metadata": {
        "id": "bsKyzZ8kSJBn"
      },
      "outputs": [],
      "source": [
        "xgb_classifier.score(x_test,y_test)"
      ]
    },
    {
      "cell_type": "code",
      "execution_count": null,
      "metadata": {
        "id": "BuWIr-mRSKNA"
      },
      "outputs": [],
      "source": [
        "predict_label = xgb_classifier.predict(x_test)\n",
        "predict_label[:5]"
      ]
    },
    {
      "cell_type": "code",
      "execution_count": null,
      "metadata": {
        "id": "CuoGj6ohSLVM"
      },
      "outputs": [],
      "source": [
        "predict_score_list = xgb_classifier.predict_proba(x_test)[:,1]\n",
        "predict_score_list"
      ]
    },
    {
      "cell_type": "code",
      "execution_count": null,
      "metadata": {
        "id": "g9iKr5jASMvS"
      },
      "outputs": [],
      "source": [
        "print(classification_report(y_test, predict_label,digits=4))"
      ]
    },
    {
      "cell_type": "code",
      "execution_count": null,
      "metadata": {
        "id": "MdRwrBTNSOMR"
      },
      "outputs": [],
      "source": [
        "cnf_matrix = confusion_matrix(y_test, predict_label)\n",
        "cnf_matrix"
      ]
    },
    {
      "cell_type": "code",
      "execution_count": null,
      "metadata": {
        "id": "nfcA8ONgSPVO"
      },
      "outputs": [],
      "source": [
        "sns.heatmap(cnf_matrix, annot=True, fmt='g')"
      ]
    },
    {
      "cell_type": "code",
      "execution_count": null,
      "metadata": {
        "id": "pCColv-hSQvf"
      },
      "outputs": [],
      "source": [
        "cm_normalized = cnf_matrix.astype('float') / cnf_matrix.sum(axis=1)[:, np.newaxis]\n",
        "sns.heatmap(cm_normalized, annot=True, fmt='.3f')"
      ]
    },
    {
      "cell_type": "markdown",
      "metadata": {
        "id": "hIr709NUGtwa"
      },
      "source": [
        "# 对比试验"
      ]
    },
    {
      "cell_type": "markdown",
      "metadata": {
        "id": "ZId9eO8FIKwg"
      },
      "source": [
        "## dnn模型"
      ]
    },
    {
      "cell_type": "markdown",
      "metadata": {
        "id": "ujnYxnKJIOWX"
      },
      "source": [
        "### 构建模型"
      ]
    },
    {
      "cell_type": "code",
      "execution_count": null,
      "metadata": {
        "id": "-KaGZVjIIZoJ"
      },
      "outputs": [],
      "source": [
        "class DNNModel(nn.Module):\n",
        "    def __init__(self,):\n",
        "        super().__init__()\n",
        "        self.nor = nn.BatchNorm1d(dim_num)\n",
        "        self.lin = nn.Linear(dim_num,8)\n",
        "        self.out = nn.Linear(8, nb_class)\n",
        "        self.flatten = nn.Flatten()\n",
        "\n",
        "    def forward(self, x):\n",
        "        x = self.nor(x)\n",
        "        x= self.lin(x)\n",
        "        x = self.flatten(x)\n",
        "        x = self.out(x)\n",
        "\n",
        "        return x\n",
        "dnn_model = DNNModel().to(device)\n",
        "# text_cnn(text)[0].shape,text_cnn(text)[1].shape,text_cnn(text)[2].shape\n",
        "\n",
        "dnn_model(b_x.to(device)).shape"
      ]
    },
    {
      "cell_type": "code",
      "execution_count": null,
      "metadata": {
        "id": "-XpYXRPRIyX0"
      },
      "outputs": [],
      "source": [
        "loss_fn = nn.CrossEntropyLoss()\n",
        "optimizer = torch.optim.Adam(dnn_model.parameters(), lr=1e-3)"
      ]
    },
    {
      "cell_type": "markdown",
      "metadata": {
        "id": "ChqXrcZUIzaG"
      },
      "source": [
        "### 训练和评估"
      ]
    },
    {
      "cell_type": "code",
      "execution_count": null,
      "metadata": {
        "id": "vAZcDkNRI4RR"
      },
      "outputs": [],
      "source": [
        "# 记得修改epoch\n",
        "epochs = 3\n",
        "train_loss_list = []\n",
        "train_acc_list = []\n",
        "test_loss_list = []\n",
        "test_acc_list = []\n",
        "for t in range(epochs):\n",
        "    print(f\"Epoch {t+1}\\n-------------------------------\")\n",
        "    train(train_dl, dnn_model, loss_fn, optimizer)\n",
        "\n",
        "    train_loss, train_correct = test(train_dl, dnn_model, loss_fn)\n",
        "    test_loss, test_correct = test(test_dl, dnn_model, loss_fn)\n",
        "    train_loss_list.append(train_loss)\n",
        "    train_acc_list.append(train_correct)\n",
        "    test_loss_list.append(test_loss)\n",
        "    test_acc_list.append(test_correct)\n",
        "print(\"Done!\")"
      ]
    },
    {
      "cell_type": "markdown",
      "metadata": {
        "id": "hJJNzi_JI8Nm"
      },
      "source": [
        "### 可视化训练过程"
      ]
    },
    {
      "cell_type": "code",
      "execution_count": null,
      "metadata": {
        "id": "zCVcJZyvJAuG"
      },
      "outputs": [],
      "source": [
        "acc = train_acc_list\n",
        "val_acc = test_acc_list\n",
        "\n",
        "loss = train_loss_list\n",
        "val_loss = test_loss_list\n",
        "epochs_range = range(epochs)\n",
        "\n",
        "plt.figure(figsize=(16, 8))\n",
        "plt.subplot(1, 2, 1)\n",
        "plt.plot(epochs_range, acc, label='Training Accuracy')\n",
        "plt.plot(epochs_range, val_acc, label='Validation Accuracy')\n",
        "plt.legend(loc='lower right')\n",
        "plt.title('Training and Validation Accuracy')\n",
        "\n",
        "plt.subplot(1, 2, 2)\n",
        "plt.plot(epochs_range, loss, label='Training Loss')\n",
        "plt.plot(epochs_range, val_loss, label='Validation Loss')\n",
        "plt.legend(loc='upper right')\n",
        "plt.title('Training and Validation Loss')\n",
        "plt.show()"
      ]
    },
    {
      "cell_type": "markdown",
      "metadata": {
        "id": "AspyZMV2JCE1"
      },
      "source": [
        "### 统计分析"
      ]
    },
    {
      "cell_type": "code",
      "execution_count": null,
      "metadata": {
        "id": "Ie1hfOEaJIwk"
      },
      "outputs": [],
      "source": [
        "predict_list = []\n",
        "label_list = []\n",
        "predict_pro_list = []\n",
        "m_softmax = nn.Softmax(dim=1)\n",
        "for (x, y) in test_dl:\n",
        "    x = x.to(device)\n",
        "    y = y.to(device)\n",
        "\n",
        "    predict_score = dnn_model(x)\n",
        "    predict_pro = m_softmax(predict_score)\n",
        "    predict_label = np.argmax(predict_score.detach().cpu().numpy(),axis=1)\n",
        "\n",
        "    predict_pro_list.append(predict_pro.detach().cpu().numpy())\n",
        "    predict_list.append(predict_label)\n",
        "    label_list.append(y.detach().cpu().numpy())\n",
        "\n",
        "predict_pro_array = np.vstack(predict_pro_list)[:,1]\n",
        "predict_array = np.hstack(predict_list)\n",
        "label_array = np.hstack(label_list)\n",
        "predict_pro_array[:5],predict_array[:5],label_array[:5]"
      ]
    },
    {
      "cell_type": "markdown",
      "metadata": {
        "id": "PIIuKSU7JMKK"
      },
      "source": [
        "### 分类报告（太少了，加之前的进来）"
      ]
    },
    {
      "cell_type": "code",
      "execution_count": null,
      "metadata": {
        "id": "ZfaFez48JLjE"
      },
      "outputs": [],
      "source": [
        "print(classification_report(label_array, predict_array,digits=3))"
      ]
    },
    {
      "cell_type": "code",
      "execution_count": null,
      "metadata": {
        "id": "Z6ALOLAhJaUO"
      },
      "outputs": [],
      "source": [
        "# 混淆矩阵\n",
        "cnf_matrix = confusion_matrix(label_array, predict_array)\n",
        "cnf_matrix"
      ]
    },
    {
      "cell_type": "code",
      "execution_count": null,
      "metadata": {
        "id": "esUGjzLlJgg_"
      },
      "outputs": [],
      "source": [
        "sns.heatmap(cnf_matrix, annot=True, fmt='g')"
      ]
    },
    {
      "cell_type": "code",
      "execution_count": null,
      "metadata": {
        "id": "f-StQI-MJhq7"
      },
      "outputs": [],
      "source": [
        "cm_normalized = cnf_matrix.astype('float') / cnf_matrix.sum(axis=1)[:, np.newaxis]\n",
        "sns.heatmap(cm_normalized, annot=True, fmt='.3f')"
      ]
    },
    {
      "cell_type": "markdown",
      "metadata": {
        "id": "W9yK4551JjX9"
      },
      "source": [
        "## lstm模型"
      ]
    },
    {
      "cell_type": "markdown",
      "metadata": {
        "id": "XZehcMCoJlQO"
      },
      "source": [
        "### 构建模型"
      ]
    },
    {
      "cell_type": "code",
      "execution_count": null,
      "metadata": {
        "id": "24AyYsLLJoYx"
      },
      "outputs": [],
      "source": [
        "class LSTMModel(nn.Module):\n",
        "    def __init__(self,):\n",
        "        super().__init__()\n",
        "        self.nor = nn.BatchNorm1d(dim_num)\n",
        "        self.lstm = nn.LSTM(dim_num,8)\n",
        "        self.out = nn.Linear(8, nb_class)\n",
        "        self.flatten = nn.Flatten()\n",
        "\n",
        "    def forward(self, x):\n",
        "        x = self.nor(x)\n",
        "        x,_ = self.lstm(x)\n",
        "        x = self.flatten(x)\n",
        "        x = self.out(x)\n",
        "\n",
        "        return x\n",
        "lstm_model = LSTMModel().to(device)\n",
        "# text_cnn(text)[0].shape,text_cnn(text)[1].shape,text_cnn(text)[2].shape\n",
        "\n",
        "lstm_model(b_x.to(device)).shape"
      ]
    },
    {
      "cell_type": "markdown",
      "metadata": {
        "id": "Km3NsaXaJp23"
      },
      "source": [
        "### 准备损失函数和优化器"
      ]
    },
    {
      "cell_type": "code",
      "execution_count": null,
      "metadata": {
        "id": "SBsNA9HKJudz"
      },
      "outputs": [],
      "source": [
        "loss_fn = nn.CrossEntropyLoss()\n",
        "optimizer = torch.optim.Adam(lstm_model.parameters(), lr=1e-1)"
      ]
    },
    {
      "cell_type": "markdown",
      "metadata": {
        "id": "I0f01STwJvXb"
      },
      "source": [
        "### 训练和评估"
      ]
    },
    {
      "cell_type": "code",
      "execution_count": null,
      "metadata": {
        "id": "KeTiNFYNJxeO"
      },
      "outputs": [],
      "source": [
        "epochs = 2\n",
        "train_loss_list = []\n",
        "train_acc_list = []\n",
        "test_loss_list = []\n",
        "test_acc_list = []\n",
        "for t in range(epochs):\n",
        "    print(f\"Epoch {t+1}\\n-------------------------------\")\n",
        "    train(train_dl, lstm_model, loss_fn, optimizer)\n",
        "\n",
        "    train_loss, train_correct = test(train_dl, lstm_model, loss_fn)\n",
        "    test_loss, test_correct = test(test_dl, lstm_model, loss_fn)\n",
        "    train_loss_list.append(train_loss)\n",
        "    train_acc_list.append(train_correct)\n",
        "    test_loss_list.append(test_loss)\n",
        "    test_acc_list.append(test_correct)\n",
        "print(\"Done!\")"
      ]
    },
    {
      "cell_type": "markdown",
      "metadata": {
        "id": "5ZLMcITMJyZM"
      },
      "source": [
        "### 可视化训练过程"
      ]
    },
    {
      "cell_type": "code",
      "execution_count": null,
      "metadata": {
        "id": "oHk5G3hOJ1fp"
      },
      "outputs": [],
      "source": [
        "acc = train_acc_list\n",
        "val_acc = test_acc_list\n",
        "\n",
        "loss = train_loss_list\n",
        "val_loss = test_loss_list\n",
        "epochs_range = range(epochs)\n",
        "\n",
        "plt.figure(figsize=(16, 8))\n",
        "plt.subplot(1, 2, 1)\n",
        "plt.plot(epochs_range, acc, label='Training Accuracy')\n",
        "plt.plot(epochs_range, val_acc, label='Validation Accuracy')\n",
        "plt.legend(loc='lower right')\n",
        "plt.title('Training and Validation Accuracy')\n",
        "\n",
        "plt.subplot(1, 2, 2)\n",
        "plt.plot(epochs_range, loss, label='Training Loss')\n",
        "plt.plot(epochs_range, val_loss, label='Validation Loss')\n",
        "plt.legend(loc='upper right')\n",
        "plt.title('Training and Validation Loss')\n",
        "plt.show()"
      ]
    },
    {
      "cell_type": "markdown",
      "metadata": {
        "id": "Py_NysVMJ2ZZ"
      },
      "source": [
        "### 统计分析"
      ]
    },
    {
      "cell_type": "code",
      "execution_count": null,
      "metadata": {
        "id": "UiQJUwi7J4Uj"
      },
      "outputs": [],
      "source": [
        "predict_list = []\n",
        "label_list = []\n",
        "predict_pro_list = []\n",
        "m_softmax = nn.Softmax(dim=1)\n",
        "for (x, y) in test_dl:\n",
        "    x = x.to(device)\n",
        "    y = y.to(device)\n",
        "\n",
        "    predict_score = lstm_model(x)\n",
        "    predict_pro = m_softmax(predict_score)\n",
        "    predict_label = np.argmax(predict_score.detach().cpu().numpy(),axis=1)\n",
        "\n",
        "    predict_pro_list.append(predict_pro.detach().cpu().numpy())\n",
        "    predict_list.append(predict_label)\n",
        "    label_list.append(y.detach().cpu().numpy())\n",
        "\n",
        "predict_pro_array = np.vstack(predict_pro_list)[:,1]\n",
        "predict_array = np.hstack(predict_list)\n",
        "label_array = np.hstack(label_list)\n",
        "predict_pro_array[:5],predict_array[:5],label_array[:5]"
      ]
    },
    {
      "cell_type": "markdown",
      "metadata": {
        "id": "Em4YGDQqJ5Lh"
      },
      "source": [
        "### 分类报告"
      ]
    },
    {
      "cell_type": "code",
      "execution_count": null,
      "metadata": {
        "id": "nPcsoUP_J6Yj"
      },
      "outputs": [],
      "source": [
        "print(classification_report(label_array, predict_array,digits=3))"
      ]
    },
    {
      "cell_type": "code",
      "execution_count": null,
      "metadata": {
        "id": "km3Sjpp4J9fl"
      },
      "outputs": [],
      "source": [
        "# 混淆矩阵\n",
        "cnf_matrix = confusion_matrix(label_array, predict_array)\n",
        "cnf_matrix"
      ]
    },
    {
      "cell_type": "code",
      "execution_count": null,
      "metadata": {
        "id": "mR-6DgebKAZb"
      },
      "outputs": [],
      "source": [
        "sns.heatmap(cnf_matrix, annot=True, fmt='g')"
      ]
    },
    {
      "cell_type": "code",
      "execution_count": null,
      "metadata": {
        "id": "Ka3y61DUKBn2"
      },
      "outputs": [],
      "source": [
        "cm_normalized = cnf_matrix.astype('float') / cnf_matrix.sum(axis=1)[:, np.newaxis]\n",
        "sns.heatmap(cm_normalized, annot=True, fmt='.3f')"
      ]
    },
    {
      "cell_type": "markdown",
      "metadata": {
        "id": "faZb4IBnJ8ye"
      },
      "source": [
        "## transformer"
      ]
    },
    {
      "cell_type": "code",
      "execution_count": null,
      "metadata": {
        "id": "wt6DkexbKN8w"
      },
      "outputs": [],
      "source": [
        "class TfBlock(nn.Module):\n",
        "    def __init__(self,):\n",
        "        super().__init__()\n",
        "        self.nor = nn.BatchNorm1d(dim_num)\n",
        "        # self.lstm = nn.LSTM(3,8)\n",
        "        encoder_layer = nn.TransformerEncoderLayer(d_model=dim_num, nhead=1)\n",
        "        self.transformer_encoder = nn.TransformerEncoder(encoder_layer, num_layers=3)\n",
        "        self.out = nn.Linear(dim_num, 100)\n",
        "        self.flatten = nn.Flatten()\n",
        "\n",
        "    def forward(self, x):\n",
        "        x = self.nor(x)\n",
        "        # print(x.shape)\n",
        "        x= self.transformer_encoder(x)\n",
        "        x = self.flatten(x)\n",
        "        x = self.out(x)\n",
        "\n",
        "        return x\n",
        "tf_block = TfBlock().to(device)\n",
        "# text_cnn(text)[0].shape,text_cnn(text)[1].shape,text_cnn(text)[2].shape\n",
        "\n",
        "tf_block(b_x.to(device)).shape"
      ]
    },
    {
      "cell_type": "markdown",
      "metadata": {
        "id": "Fj6TCpRGKNeq"
      },
      "source": [
        "## 合并大模型"
      ]
    },
    {
      "cell_type": "code",
      "execution_count": null,
      "metadata": {
        "id": "9TYG97ijKULh"
      },
      "outputs": [],
      "source": [
        "class bigModel(nn.Module):\n",
        "    def __init__(self, ):\n",
        "        super(bigModel, self).__init__()\n",
        "\n",
        "        self.dnn_block = dnn_block\n",
        "        self.lstm_block = lstm_block\n",
        "        self.tf_block = tf_block\n",
        "        self.fc1 = nn.Linear(300, 50)\n",
        "        self.fc2 = nn.Linear(50, nb_class)\n",
        "        self.dropout1 = nn.Dropout(0.2)\n",
        "        self.dropout2 = nn.Dropout(0.2)\n",
        "\n",
        "    def forward(self, x):\n",
        "        # input_ids, attention_mask = input_ids.to(device), attention_mask.to(device)\n",
        "        dnn_out = self.dnn_block(x)\n",
        "        lstm_out = self.lstm_block(x)\n",
        "        tf_out = self.tf_block(x)\n",
        "\n",
        "        x = torch.cat((dnn_out,lstm_out,tf_out), dim=1)\n",
        "        x = self.dropout1(x)\n",
        "        x = self.fc1(x)\n",
        "        x = self.dropout2(x)\n",
        "        x = self.fc2(x)\n",
        "        return x\n",
        "# 创建模型\n",
        "model_big = bigModel()\n",
        "model_big.to(device)\n",
        "model_big(b_x.to(device)).shape"
      ]
    },
    {
      "cell_type": "markdown",
      "metadata": {
        "id": "cbiOqTTmKVGT"
      },
      "source": [
        "### 准备损失函数和优化器"
      ]
    },
    {
      "cell_type": "code",
      "execution_count": null,
      "metadata": {
        "id": "zKd1n6BqKY1z"
      },
      "outputs": [],
      "source": [
        "loss_fn = nn.CrossEntropyLoss()\n",
        "optimizer = torch.optim.Adam(model_big.parameters(), lr=2e-5)"
      ]
    },
    {
      "cell_type": "markdown",
      "metadata": {
        "id": "u3_X7aH2KZib"
      },
      "source": [
        "### 训练和评估"
      ]
    },
    {
      "cell_type": "code",
      "execution_count": null,
      "metadata": {
        "id": "3PodYRr5Kbke"
      },
      "outputs": [],
      "source": [
        "epochs = 10\n",
        "train_loss_list = []\n",
        "train_acc_list = []\n",
        "test_loss_list = []\n",
        "test_acc_list = []\n",
        "for t in range(epochs):\n",
        "    print(f\"Epoch {t+1}\\n-------------------------------\")\n",
        "    train(train_dl, model_big, loss_fn, optimizer)\n",
        "\n",
        "    train_loss, train_correct = test(train_dl, model_big, loss_fn)\n",
        "    test_loss, test_correct = test(test_dl, model_big, loss_fn)\n",
        "    train_loss_list.append(train_loss)\n",
        "    train_acc_list.append(train_correct)\n",
        "    test_loss_list.append(test_loss)\n",
        "    test_acc_list.append(test_correct)\n",
        "print(\"Done!\")"
      ]
    },
    {
      "cell_type": "markdown",
      "metadata": {
        "id": "qeaWnp--KcZv"
      },
      "source": [
        "### 可视化训练过程"
      ]
    },
    {
      "cell_type": "code",
      "execution_count": null,
      "metadata": {
        "id": "MUCKt7klKfCI"
      },
      "outputs": [],
      "source": [
        "acc = train_acc_list\n",
        "val_acc = test_acc_list\n",
        "\n",
        "loss = train_loss_list\n",
        "val_loss = test_loss_list\n",
        "epochs_range = range(epochs)\n",
        "\n",
        "plt.figure(figsize=(16, 8))\n",
        "plt.subplot(1, 2, 1)\n",
        "plt.plot(epochs_range, acc, label='Training Accuracy')\n",
        "plt.plot(epochs_range, val_acc, label='Validation Accuracy')\n",
        "plt.legend(loc='lower right')\n",
        "plt.title('Training and Validation Accuracy')\n",
        "\n",
        "plt.subplot(1, 2, 2)\n",
        "plt.plot(epochs_range, loss, label='Training Loss')\n",
        "plt.plot(epochs_range, val_loss, label='Validation Loss')\n",
        "plt.legend(loc='upper right')\n",
        "plt.title('Training and Validation Loss')\n",
        "plt.show()"
      ]
    },
    {
      "cell_type": "markdown",
      "metadata": {
        "id": "6HzNcdKhKgAH"
      },
      "source": [
        "### 统计分析"
      ]
    },
    {
      "cell_type": "code",
      "execution_count": null,
      "metadata": {
        "id": "BBvhcMPYKhui"
      },
      "outputs": [],
      "source": [
        "predict_list = []\n",
        "label_list = []\n",
        "predict_pro_list = []\n",
        "m_softmax = nn.Softmax(dim=1)\n",
        "for (x, y) in test_dl:\n",
        "    x = x.to(device)\n",
        "    y = y.to(device)\n",
        "\n",
        "    predict_score = model_big(x)\n",
        "    predict_pro = m_softmax(predict_score)\n",
        "    predict_label = np.argmax(predict_score.detach().cpu().numpy(),axis=1)\n",
        "\n",
        "    predict_pro_list.append(predict_pro.detach().cpu().numpy())\n",
        "    predict_list.append(predict_label)\n",
        "    label_list.append(y.detach().cpu().numpy())\n",
        "\n",
        "predict_pro_array = np.vstack(predict_pro_list)[:,1]\n",
        "predict_array = np.hstack(predict_list)\n",
        "label_array = np.hstack(label_list)\n",
        "predict_pro_array[:5],predict_array[:5],label_array[:5]"
      ]
    },
    {
      "cell_type": "markdown",
      "metadata": {
        "id": "0-D9Qs_5Kihm"
      },
      "source": [
        "### 分类报告"
      ]
    },
    {
      "cell_type": "code",
      "execution_count": null,
      "metadata": {
        "id": "2OMpLHZ5KkTC"
      },
      "outputs": [],
      "source": [
        "print(classification_report(label_array, predict_array,digits=3))"
      ]
    },
    {
      "cell_type": "code",
      "execution_count": null,
      "metadata": {
        "id": "9P1JHbahKlQ5"
      },
      "outputs": [],
      "source": [
        "# 混淆矩阵"
      ]
    },
    {
      "cell_type": "code",
      "execution_count": null,
      "metadata": {
        "id": "8QDpHz24Kn1O"
      },
      "outputs": [],
      "source": [
        "cnf_matrix = confusion_matrix(label_array, predict_array)\n",
        "cnf_matrix"
      ]
    },
    {
      "cell_type": "code",
      "execution_count": null,
      "metadata": {
        "id": "iIU14dhtKoOA"
      },
      "outputs": [],
      "source": [
        "sns.heatmap(cnf_matrix, annot=True, fmt='g')"
      ]
    },
    {
      "cell_type": "code",
      "execution_count": null,
      "metadata": {
        "id": "VEjAlZemKpgT"
      },
      "outputs": [],
      "source": [
        "cm_normalized = cnf_matrix.astype('float') / cnf_matrix.sum(axis=1)[:, np.newaxis]\n",
        "sns.heatmap(cm_normalized, annot=True, fmt='.3f')"
      ]
    },
    {
      "cell_type": "markdown",
      "metadata": {
        "id": "Ymn5_jc3gu38"
      },
      "source": [
        "## CICIDS2017下载文件"
      ]
    },
    {
      "cell_type": "code",
      "execution_count": null,
      "metadata": {
        "id": "tlXY5dVuN6_Q"
      },
      "outputs": [],
      "source": [
        "!cp /content/drive/MyDrive/kaggle.json /content/"
      ]
    },
    {
      "cell_type": "code",
      "execution_count": null,
      "metadata": {
        "id": "RZmxWt_WODl-"
      },
      "outputs": [],
      "source": [
        "!mkdir -p ~/.kaggle\n",
        "\n",
        "!cp kaggle.json ~/.kaggle/\n",
        "\n",
        "!chmod 600 ~/.kaggle/kaggle.json"
      ]
    },
    {
      "cell_type": "code",
      "execution_count": null,
      "metadata": {
        "id": "B9Fj8MVWOFTq"
      },
      "outputs": [],
      "source": [
        "!cp /content/kaggle.json /content/drive/MyDrive/"
      ]
    },
    {
      "cell_type": "code",
      "execution_count": null,
      "metadata": {
        "colab": {
          "base_uri": "https://localhost:8080/"
        },
        "id": "DWmMmlHBOGxt",
        "outputId": "0df3a4dc-5b4c-47ac-9d79-fc0f8adaa287"
      },
      "outputs": [
        {
          "name": "stdout",
          "output_type": "stream",
          "text": [
            "Downloading cicids2017.zip to /content\n",
            " 99% 228M/230M [00:08<00:00, 36.1MB/s]\n",
            "100% 230M/230M [00:08<00:00, 29.6MB/s]\n"
          ]
        }
      ],
      "source": [
        "!kaggle datasets download -d cicdataset/cicids2017"
      ]
    },
    {
      "cell_type": "code",
      "execution_count": null,
      "metadata": {
        "colab": {
          "base_uri": "https://localhost:8080/"
        },
        "id": "YG0XrtMFOIqJ",
        "outputId": "2b1db3f1-c807-4b5a-bb8c-db9e75bf1c8d"
      },
      "outputs": [
        {
          "name": "stdout",
          "output_type": "stream",
          "text": [
            "Archive:  /content/cicids2017.zip\n",
            "  inflating: MachineLearningCSV.md5  \n",
            "  inflating: MachineLearningCSV/MachineLearningCVE/Friday-WorkingHours-Afternoon-DDos.pcap_ISCX.csv  \n",
            "  inflating: MachineLearningCSV/MachineLearningCVE/Friday-WorkingHours-Afternoon-PortScan.pcap_ISCX.csv  \n",
            "  inflating: MachineLearningCSV/MachineLearningCVE/Friday-WorkingHours-Morning.pcap_ISCX.csv  \n",
            "  inflating: MachineLearningCSV/MachineLearningCVE/Monday-WorkingHours.pcap_ISCX.csv  \n",
            "  inflating: MachineLearningCSV/MachineLearningCVE/Thursday-WorkingHours-Afternoon-Infilteration.pcap_ISCX.csv  \n",
            "  inflating: MachineLearningCSV/MachineLearningCVE/Thursday-WorkingHours-Morning-WebAttacks.pcap_ISCX.csv  \n",
            "  inflating: MachineLearningCSV/MachineLearningCVE/Tuesday-WorkingHours.pcap_ISCX.csv  \n",
            "  inflating: MachineLearningCSV/MachineLearningCVE/Wednesday-workingHours.pcap_ISCX.csv  \n"
          ]
        }
      ],
      "source": [
        "!unzip /content/cicids2017.zip"
      ]
    },
    {
      "cell_type": "code",
      "execution_count": null,
      "metadata": {
        "colab": {
          "base_uri": "https://localhost:8080/"
        },
        "id": "LaAMSC-dOOp1",
        "outputId": "a8680633-5007-40c9-feae-dfcdc7d24b0b"
      },
      "outputs": [
        {
          "name": "stdout",
          "output_type": "stream",
          "text": [
            "/content/MachineLearningCSV/MachineLearningCVE/Friday-WorkingHours-Afternoon-DDos.pcap_ISCX.csv\n",
            "/content/MachineLearningCSV/MachineLearningCVE/Wednesday-workingHours.pcap_ISCX.csv\n",
            "/content/MachineLearningCSV/MachineLearningCVE/Thursday-WorkingHours-Afternoon-Infilteration.pcap_ISCX.csv\n",
            "/content/MachineLearningCSV/MachineLearningCVE/Monday-WorkingHours.pcap_ISCX.csv\n",
            "/content/MachineLearningCSV/MachineLearningCVE/Friday-WorkingHours-Afternoon-PortScan.pcap_ISCX.csv\n",
            "/content/MachineLearningCSV/MachineLearningCVE/Thursday-WorkingHours-Morning-WebAttacks.pcap_ISCX.csv\n",
            "/content/MachineLearningCSV/MachineLearningCVE/Tuesday-WorkingHours.pcap_ISCX.csv\n",
            "/content/MachineLearningCSV/MachineLearningCVE/Friday-WorkingHours-Morning.pcap_ISCX.csv\n"
          ]
        }
      ],
      "source": [
        "import os\n",
        "csv_files = []\n",
        "for dirname, _, filenames in os.walk('/content/MachineLearningCSV/MachineLearningCVE'):\n",
        "    for filename in filenames:\n",
        "        csv_file = os.path.join(dirname, filename)\n",
        "        print(os.path.join(dirname, filename))\n",
        "        csv_files.append(csv_file)\n",
        "# csv_files"
      ]
    },
    {
      "cell_type": "code",
      "execution_count": null,
      "metadata": {
        "id": "Fhbb07XOOXpQ"
      },
      "outputs": [],
      "source": [
        "import pandas as pd\n",
        "import numpy as np"
      ]
    },
    {
      "cell_type": "code",
      "execution_count": null,
      "metadata": {
        "colab": {
          "base_uri": "https://localhost:8080/"
        },
        "id": "CyIb33WBOUjh",
        "outputId": "d82c62f4-8d38-4d48-923a-101eaf258ccd"
      },
      "outputs": [
        {
          "name": "stdout",
          "output_type": "stream",
          "text": [
            "original length of df_2017: 2830743\n",
            "after droping null values, the length of df_2017: 2827876\n"
          ]
        }
      ],
      "source": [
        "df_2017 = pd.concat([pd.read_csv(file) for file in csv_files], ignore_index=True)\n",
        "df_2017.columns = df_2017.columns.str.strip()\n",
        "print(\"original length of df_2017:\", len(df_2017))\n",
        "df_2017.replace([np.inf, -np.inf], np.nan, inplace=True)\n",
        "df_2017.dropna(inplace=True)\n",
        "print(\"after droping null values, the length of df_2017:\", len(df_2017))"
      ]
    },
    {
      "cell_type": "code",
      "execution_count": null,
      "metadata": {
        "id": "GkD-AyPzP71G"
      },
      "outputs": [],
      "source": [
        "df_2017.to_csv('/content/drive/MyDrive/df_2017.csv', index=False)\n"
      ]
    },
    {
      "cell_type": "code",
      "execution_count": null,
      "metadata": {
        "colab": {
          "base_uri": "https://localhost:8080/"
        },
        "id": "LPMDyszuRYzQ",
        "outputId": "02331dcf-4b3f-45f0-c7ee-bdab7b556df6"
      },
      "outputs": [
        {
          "name": "stdout",
          "output_type": "stream",
          "text": [
            "(array([0., 1., 2., 3., 4., 5., 6.]), array([2271320,  379737,      97,   23681,  158804,   13868,      11]))\n"
          ]
        }
      ],
      "source": [
        "import pandas as pd\n",
        "import numpy as np\n",
        "from sklearn.model_selection import train_test_split\n",
        "from sklearn.preprocessing import OrdinalEncoder\n",
        "from sklearn.impute import SimpleImputer\n",
        "from sklearn.pipeline import Pipeline\n",
        "from sklearn.compose import ColumnTransformer\n",
        "from sklearn.preprocessing import StandardScaler\n",
        "from sklearn.preprocessing import LabelEncoder\n",
        "\n",
        "\n",
        "# kddcup99 = pd.read_csv('/content/drive/MyDrive/df_2017.csv',encoding='gbk')\n",
        "df_2017 = pd.read_csv('/content/drive/MyDrive/df_2017.csv')\n",
        "df_2017.columns = df_2017.columns.str.strip()\n",
        "df_2017.replace([np.inf, -np.inf], np.nan, inplace=True)\n",
        "df_2017.dropna(inplace=True)\n",
        "\n",
        "# 定义一个标签映射函数，它将每个攻击类型标签映射到相应的类别\n",
        "def map_label_to_category(label):\n",
        "    probe_attacks = ['PortScan']\n",
        "    dos_attacks = ['DoS slowloris', 'DoS Slowhttptest', 'DoS Hulk', 'DoS GoldenEye','DDoS']\n",
        "    u2r_attacks = ['Heartbleed']\n",
        "    r2l_attacks = ['FTP-Patator', 'SSH-Patator', 'Web Attack – Brute Force',\n",
        "                   'Web Attack – XSS', 'Web Attack – Sql Injection', 'Infiltration']\n",
        "\n",
        "    if label in probe_attacks:\n",
        "        return 'Probe'\n",
        "    elif label in dos_attacks:\n",
        "        return 'DoS'\n",
        "    elif label in u2r_attacks:\n",
        "        return 'U2R'\n",
        "    elif label in r2l_attacks:\n",
        "        return 'R2L'\n",
        "    elif label == 'BENIGN':\n",
        "        return 'BENIGN'\n",
        "\n",
        "df_2017['label'] = df_2017['Label'].apply(map_label_to_category)\n",
        "# 检查新的类别分布\n",
        "category_counts = df_2017['label'].value_counts()\n",
        "df_2017['label'].value_counts()\n",
        "\n",
        "values_list = ['BENIGN','Probe', 'DoS', 'U2R','R2L']\n",
        "filtered_df = df_2017[df_2017['label'].isin(values_list)]\n",
        "\n",
        "\n",
        "# 假设你有一个DataFrame叫做df，其中包含了上图中的数据\n",
        "# 应用标签映射函数到数据集的每一行\n",
        "df_2017['label'] = df_2017['label'].apply(map_label_to_category)\n",
        "\n",
        "pd_train_v1 = pd.read_csv('/content/drive/MyDrive/CVUEBA.csv',encoding='gbk')\n",
        "pd_train_v1 = pd_train_v1.rename(columns={'attack': 'label'})\n",
        "\n",
        "\n",
        "def get_label(Label):\n",
        "    if Label == 0:\n",
        "        return 'Normal'\n",
        "    else:\n",
        "        return 'Malicious'\n",
        "\n",
        "pd_train_v1['label'] = pd_train_v1['label'].apply(get_label)\n",
        "# pd_train_v1.drop(columns=['day'],inplace=True)\n",
        "\n",
        "all_columns = set(filtered_df.columns) | set(pd_train_v1.columns)\n",
        "filtered_df_v1 = filtered_df.reindex(columns=all_columns)\n",
        "df_train_v2 = pd_train_v1.reindex(columns=all_columns)\n",
        "pd_final = pd.concat([filtered_df_v1, df_train_v2], ignore_index=True)\n",
        "\n",
        "nb_class = len(list(pd_final['label'].value_counts()))\n",
        "pd_mini = pd_final.sample(n=len(pd_final))\n",
        "\n",
        "object_cols = pd_mini.select_dtypes(include=['object']).columns.tolist()\n",
        "object_cols.remove('label')\n",
        "\n",
        "cat_si_step = ('si', SimpleImputer(strategy='constant', fill_value=-99))\n",
        "cat_ohe_step = ('ohe', OrdinalEncoder()) #离散数据整数化处理\n",
        "cat_steps = [cat_si_step, cat_ohe_step]\n",
        "\n",
        "cat_pipe = Pipeline(cat_steps)\n",
        "cat_cols = object_cols\n",
        "cat_transformers = [('cat', cat_pipe, cat_cols)]\n",
        "\n",
        "ct = ColumnTransformer(transformers=cat_transformers)\n",
        "\n",
        "\n",
        "for column_name in cat_cols:\n",
        "  pd_mini[column_name] = pd_mini[column_name].astype('str')\n",
        "X_kdd_transformed = ct.fit_transform(pd_mini)\n",
        "non_object_cols = pd_mini.select_dtypes(exclude=['object']).columns.tolist()\n",
        "num_cols = non_object_cols\n",
        "num_si_step = ('si', SimpleImputer(strategy='median'))\n",
        "num_ss_step = ('ss', StandardScaler()) #均值-标准差归一化\n",
        "num_steps = [num_si_step, num_ss_step]\n",
        "num_pipe = Pipeline(num_steps)\n",
        "num_transformers = [('num', num_pipe, num_cols)]\n",
        "ct = ColumnTransformer(transformers=num_transformers)\n",
        "X_num_transformed = ct.fit_transform(pd_mini)\n",
        "\n",
        "transformers = [('cat', cat_pipe, cat_cols),\n",
        "                ('num', num_pipe, num_cols)]\n",
        "\n",
        "ct = ColumnTransformer(transformers=transformers)\n",
        "datax = pd_mini.drop(columns=['label'])\n",
        "x_all = ct.fit_transform(datax)\n",
        "le = LabelEncoder()\n",
        "y_all = le.fit_transform(pd_mini['label'])\n",
        "y_all = y_all.reshape(-1,1)\n",
        "data = np.concatenate((y_all.reshape(-1,1),x_all),axis=1)\n",
        "c = []\n",
        "#重采样\n",
        "for i in range(172215):\n",
        "    if data[i,0] == 2:\n",
        "        data = np.concatenate((data,np.tile(data[i,:],(80,1))))\n",
        "    # if data[i, 0] == 5:\n",
        "    #     data = np.concatenate((data, np.tile(data[i, :], (10, 1))))\n",
        "    if data[i,0] == 6:\n",
        "        data = np.concatenate((data,np.tile(data[i,:],(80,1))))\n",
        "print(np.unique(data[:,0], return_counts=True))\n",
        "#转化为独热编码\n",
        "def one_hot_encode(labels, num_classes):\n",
        "    num_samples = len(labels)\n",
        "    one_hot_labels = np.zeros((num_samples, num_classes))\n",
        "    for i in range(num_samples):\n",
        "        one_hot_labels[i, labels[i]] = 1\n",
        "    return one_hot_labels\n",
        "\n",
        "num_classes = 7\n",
        "one_hot_labels = one_hot_encode(data[:,0].astype(int), num_classes)\n",
        "\n",
        "x_train_2017, x_test_2017, y_train_2017, y_test_2017 = train_test_split(data[:,1:], one_hot_labels,stratify=one_hot_labels, test_size=0.1, random_state=1)\n"
      ]
    },
    {
      "cell_type": "markdown",
      "metadata": {
        "id": "9IGX6eZfq45-"
      },
      "source": [
        "# CICIDS-2017"
      ]
    },
    {
      "cell_type": "markdown",
      "metadata": {
        "id": "N2r2FC4mSetN"
      },
      "source": [
        "## 降维"
      ]
    },
    {
      "cell_type": "code",
      "execution_count": null,
      "metadata": {
        "colab": {
          "base_uri": "https://localhost:8080/"
        },
        "id": "xoke_17lShC0",
        "outputId": "1f56ffeb-25a3-40c7-8479-9d5af592e268"
      },
      "outputs": [
        {
          "name": "stdout",
          "output_type": "stream",
          "text": [
            "x_train features: 106\n",
            "x_test features: 106\n",
            "y_train features: 7\n",
            "y_test features: 7\n"
          ]
        }
      ],
      "source": [
        "import numpy as np\n",
        "\n",
        "\n",
        "# 打印特征数量\n",
        "print('x_train features:', x_train_2017.shape[1] if x_train_2017.ndim > 1 else 1)\n",
        "print('x_test features:', x_test_2017.shape[1] if x_test_2017.ndim > 1 else 1)\n",
        "print('y_train features:', y_train_2017.shape[1] if y_train_2017.ndim > 1 else 1)\n",
        "print('y_test features:', y_test_2017.shape[1] if y_test_2017.ndim > 1 else 1)"
      ]
    },
    {
      "cell_type": "code",
      "execution_count": null,
      "metadata": {
        "colab": {
          "base_uri": "https://localhost:8080/"
        },
        "id": "kUz46P9wSpg9",
        "outputId": "b53626ac-9790-4d8c-dc24-807a3878120c"
      },
      "outputs": [
        {
          "name": "stdout",
          "output_type": "stream",
          "text": [
            "Feature ranking:\n",
            "1. feature 0 (importance: 0.9403794955706737)\n",
            "2. feature 3 (importance: 0.04650928699166425)\n",
            "3. feature 2 (importance: 0.006671500716841709)\n",
            "4. feature 1 (importance: 0.004727195409090137)\n",
            "5. feature 18 (importance: 0.0008551612643881949)\n",
            "6. feature 30 (importance: 0.000491593189222996)\n",
            "7. feature 57 (importance: 0.00015261413766369563)\n",
            "8. feature 24 (importance: 0.00012481296837093948)\n",
            "9. feature 35 (importance: 8.718141721143257e-06)\n",
            "10. feature 87 (importance: 7.895985539234111e-06)\n",
            "11. feature 55 (importance: 7.446675156002326e-06)\n",
            "12. feature 66 (importance: 3.744457975718299e-06)\n",
            "13. feature 47 (importance: 3.652267110985866e-06)\n",
            "14. feature 52 (importance: 3.421585400652593e-06)\n",
            "15. feature 92 (importance: 3.186478073642751e-06)\n",
            "16. feature 78 (importance: 3.036653941850986e-06)\n",
            "17. feature 26 (importance: 2.8633362441558557e-06)\n",
            "18. feature 27 (importance: 2.3680237011564787e-06)\n",
            "19. feature 32 (importance: 2.1559910114169065e-06)\n",
            "20. feature 62 (importance: 2.12973754446828e-06)\n",
            "21. feature 72 (importance: 2.095447986242847e-06)\n",
            "22. feature 81 (importance: 1.7915912139926133e-06)\n",
            "23. feature 70 (importance: 1.7766894136009575e-06)\n",
            "24. feature 14 (importance: 1.7530232723170327e-06)\n",
            "25. feature 43 (importance: 1.6905062799905118e-06)\n",
            "26. feature 8 (importance: 1.6396390541752515e-06)\n",
            "27. feature 56 (importance: 1.6177807758238615e-06)\n",
            "28. feature 94 (importance: 1.5545822622032857e-06)\n",
            "29. feature 29 (importance: 1.5197518859939242e-06)\n",
            "30. feature 97 (importance: 1.4745514534831235e-06)\n",
            "31. feature 82 (importance: 1.1971687338039615e-06)\n",
            "32. feature 11 (importance: 1.1140415384760932e-06)\n",
            "33. feature 68 (importance: 1.0245139262662396e-06)\n",
            "34. feature 19 (importance: 9.689775370608992e-07)\n",
            "35. feature 74 (importance: 9.473994086834772e-07)\n",
            "36. feature 100 (importance: 8.680822120602851e-07)\n",
            "37. feature 86 (importance: 8.650066958420706e-07)\n",
            "38. feature 84 (importance: 8.648034735633626e-07)\n",
            "39. feature 69 (importance: 8.449780317657212e-07)\n",
            "40. feature 50 (importance: 8.197580633589848e-07)\n",
            "41. feature 59 (importance: 8.146331140841695e-07)\n",
            "42. feature 25 (importance: 7.937701997865768e-07)\n",
            "43. feature 80 (importance: 7.574992304144437e-07)\n",
            "44. feature 46 (importance: 6.642269359436878e-07)\n",
            "45. feature 9 (importance: 6.598917868453589e-07)\n",
            "46. feature 91 (importance: 6.383309184599706e-07)\n",
            "47. feature 75 (importance: 5.730264502909997e-07)\n",
            "48. feature 65 (importance: 4.910382352674041e-07)\n",
            "49. feature 79 (importance: 4.803327332448478e-07)\n",
            "50. feature 28 (importance: 4.3812185193736763e-07)\n",
            "51. feature 49 (importance: 4.3216827502889e-07)\n",
            "52. feature 98 (importance: 4.128151982101417e-07)\n",
            "53. feature 54 (importance: 4.097765248224832e-07)\n",
            "54. feature 53 (importance: 4.094449269710144e-07)\n",
            "55. feature 73 (importance: 3.618492130530664e-07)\n",
            "56. feature 88 (importance: 2.749165430650385e-07)\n",
            "57. feature 67 (importance: 2.4276371352303163e-07)\n",
            "58. feature 99 (importance: 2.336899830853089e-07)\n",
            "59. feature 12 (importance: 2.3104931870027968e-07)\n",
            "60. feature 17 (importance: 2.1740261150608723e-07)\n",
            "61. feature 93 (importance: 2.1658791498935202e-07)\n",
            "62. feature 45 (importance: 2.0823830473221827e-07)\n",
            "63. feature 13 (importance: 2.0048538584428028e-07)\n",
            "64. feature 51 (importance: 1.556640837352951e-07)\n",
            "65. feature 58 (importance: 1.3647098976381097e-07)\n",
            "66. feature 96 (importance: 1.0121685052147972e-07)\n",
            "67. feature 42 (importance: 8.958382635341924e-08)\n",
            "68. feature 77 (importance: 8.88048028317459e-08)\n",
            "69. feature 15 (importance: 7.802570850031436e-08)\n",
            "70. feature 33 (importance: 6.828970411829516e-08)\n",
            "71. feature 37 (importance: 6.255763944843389e-08)\n",
            "72. feature 102 (importance: 5.804153637174908e-08)\n",
            "73. feature 38 (importance: 5.654486095818123e-08)\n",
            "74. feature 6 (importance: 4.560997764649857e-08)\n",
            "75. feature 7 (importance: 4.5606962370273174e-08)\n",
            "76. feature 85 (importance: 4.555806563010981e-08)\n",
            "77. feature 40 (importance: 4.099459196739249e-08)\n",
            "78. feature 16 (importance: 3.887628254899186e-08)\n",
            "79. feature 10 (importance: 1.8220192714177496e-08)\n",
            "80. feature 61 (importance: 0.0)\n",
            "81. feature 48 (importance: 0.0)\n",
            "82. feature 71 (importance: 0.0)\n",
            "83. feature 5 (importance: 0.0)\n",
            "84. feature 101 (importance: 0.0)\n",
            "85. feature 104 (importance: 0.0)\n",
            "86. feature 103 (importance: 0.0)\n",
            "87. feature 4 (importance: 0.0)\n",
            "88. feature 60 (importance: 0.0)\n",
            "89. feature 64 (importance: 0.0)\n",
            "90. feature 63 (importance: 0.0)\n",
            "91. feature 41 (importance: 0.0)\n",
            "92. feature 44 (importance: 0.0)\n",
            "93. feature 83 (importance: 0.0)\n",
            "94. feature 31 (importance: 0.0)\n",
            "95. feature 36 (importance: 0.0)\n",
            "96. feature 39 (importance: 0.0)\n",
            "97. feature 76 (importance: 0.0)\n",
            "98. feature 34 (importance: 0.0)\n",
            "99. feature 95 (importance: 0.0)\n",
            "100. feature 22 (importance: 0.0)\n",
            "101. feature 21 (importance: 0.0)\n",
            "102. feature 20 (importance: 0.0)\n",
            "103. feature 23 (importance: 0.0)\n",
            "104. feature 89 (importance: 0.0)\n",
            "105. feature 90 (importance: 0.0)\n",
            "106. feature 105 (importance: 0.0)\n"
          ]
        }
      ],
      "source": [
        "from sklearn.ensemble import RandomForestRegressor\n",
        "# 使用随机森林评估特征重要性\n",
        "rf = RandomForestRegressor()\n",
        "rf.fit(x_train_2017, y_train_2017)\n",
        "importances = rf.feature_importances_\n",
        "indices = np.argsort(importances)[::-1]\n",
        "print(\"Feature ranking:\")\n",
        "for f in range(x_train_2017.shape[1]):\n",
        "    print(f\"{f+1}. feature {indices[f]} (importance: {importances[indices[f]]})\")\n",
        "\n",
        "# 选择重要性最高的N个特征（这里N根据需要调整）\n",
        "N = 67\n",
        "selected_features_indices = indices[:N]\n"
      ]
    },
    {
      "cell_type": "markdown",
      "metadata": {
        "id": "h8-sGMjTSsf2"
      },
      "source": [
        "## 保存特征"
      ]
    },
    {
      "cell_type": "code",
      "execution_count": null,
      "metadata": {
        "colab": {
          "base_uri": "https://localhost:8080/"
        },
        "id": "jeFQIE_zSuQW",
        "outputId": "7fb5aaac-c261-4173-f63e-eb5319686d89"
      },
      "outputs": [
        {
          "name": "stdout",
          "output_type": "stream",
          "text": [
            "x_train features: 67\n"
          ]
        }
      ],
      "source": [
        "import numpy as np\n",
        "\n",
        "# 从 x_train 中选择重要性最高的 N 个特征\n",
        "x_train_2017 = x_train_2017[:, selected_features_indices]\n",
        "\n",
        "# 保存筛选出来的特征到新的文件\n",
        "np.save('/content/drive/MyDrive/x_train_2017.npy', x_train_2017)\n",
        "selected_features = np.load('/content/drive/MyDrive/x_train_2017.npy')\n",
        "print('x_train features:', x_train_2017.shape[1] if x_train_2017.ndim > 1 else 1)"
      ]
    },
    {
      "cell_type": "code",
      "execution_count": null,
      "metadata": {
        "colab": {
          "base_uri": "https://localhost:8080/"
        },
        "id": "E217itWRSwVL",
        "outputId": "2d698db3-cdfc-4e9d-9474-50bd95131ca7"
      },
      "outputs": [
        {
          "name": "stdout",
          "output_type": "stream",
          "text": [
            "x_train features: 67\n"
          ]
        }
      ],
      "source": [
        "# 从 x_train 中选择重要性最高的 N 个特征\n",
        "x_test_2017 = x_test_2017[:, selected_features_indices]\n",
        "\n",
        "# 保存筛选出来的特征到新的文件\n",
        "np.save('/content/drive/MyDrive/x_test_2017.npy', x_test_2017)\n",
        "selected_features = np.load('/content/drive/MyDrive/x_test_2017.npy')\n",
        "print('x_train features:', x_test_2017.shape[1] if x_test_2017.ndim > 1 else 1)"
      ]
    },
    {
      "cell_type": "code",
      "execution_count": null,
      "metadata": {
        "id": "SX6HBuGpzaFD"
      },
      "outputs": [],
      "source": [
        "# import numpy as np\n",
        "\n",
        "# # 从 x_train 中选择重要性最高的 N 个特征\n",
        "# y_train_2017 = y_train_2017[:, selected_features_indices]\n",
        "\n",
        "# # 保存筛选出来的特征到新的文件\n",
        "# np.save('/content/drive/MyDrive/y_train_2017.npy', y_train_2017)\n",
        "# selected_features = np.load('/content/drive/MyDrive/y_train_2017.npy')\n",
        "# print('x_train features:', y_train_2017.shape[1] if y_train_2017.ndim > 1 else 1)"
      ]
    },
    {
      "cell_type": "code",
      "execution_count": null,
      "metadata": {
        "id": "sx8ANoXRVLTj"
      },
      "outputs": [],
      "source": [
        "np.save('/content/drive/MyDrive/y_test_2017.npy', y_test_2017)\n",
        "np.save('/content/drive/MyDrive/y_train_2017.npy', y_train_2017)"
      ]
    },
    {
      "cell_type": "code",
      "execution_count": null,
      "metadata": {
        "id": "6muutZKmSy1a"
      },
      "outputs": [],
      "source": [
        "import numpy as np\n",
        "import pandas as pd\n",
        "import torch\n",
        "from torch.utils.data import TensorDataset\n",
        "import torch.nn as nn\n",
        "import torch.nn.functional as F\n",
        "from torch.utils.data import DataLoader\n",
        "import matplotlib.pyplot as plt\n",
        "from sklearn.metrics import confusion_matrix, f1_score\n",
        "import seaborn as sns"
      ]
    },
    {
      "cell_type": "markdown",
      "metadata": {
        "id": "WbpEOJ3_S6d_"
      },
      "source": [
        "## 模型"
      ]
    },
    {
      "cell_type": "code",
      "execution_count": null,
      "metadata": {
        "id": "aGrLm2eSRSsT"
      },
      "outputs": [],
      "source": [
        "import torch\n",
        "from torch.utils.data import TensorDataset, DataLoader\n",
        "import torch.nn as nn\n",
        "import torch.nn.functional as F\n",
        "import numpy as np"
      ]
    },
    {
      "cell_type": "code",
      "execution_count": null,
      "metadata": {
        "id": "j-g9ZPMsRbrt"
      },
      "outputs": [],
      "source": [
        "import pandas as pd"
      ]
    },
    {
      "cell_type": "code",
      "execution_count": null,
      "metadata": {
        "colab": {
          "base_uri": "https://localhost:8080/",
          "height": 1000
        },
        "id": "g9Wq0WwVS8q9",
        "outputId": "f678d8a6-5895-4ba2-972a-f925cc620a24"
      },
      "outputs": [
        {
          "name": "stdout",
          "output_type": "stream",
          "text": [
            "Using cuda device\n",
            "[1.79097743e-01 1.07123690e+00 4.19369367e+03 1.71778339e+01\n",
            " 2.56157456e+00 2.93328732e+01 3.69807532e+04]\n",
            "Epoch 1\n",
            "-------------------------------\n",
            "train 4.534847981975902 acc 90.56499891133252\n",
            "test 1502.593814575232 acc 97.91292071697477\n",
            "Higher accuracy found (97.91%). Model saved.\n",
            "Epoch 2\n",
            "-------------------------------\n",
            "train 5.044941626417769 acc 99.40314488330186\n",
            "test 5307.9123241925245 acc 98.79825251446873\n",
            "Higher accuracy found (98.80%). Model saved.\n",
            "Epoch 3\n",
            "-------------------------------\n",
            "train 3.2421415949559527 acc 99.82327688130715\n",
            "test 2221.773424250461 acc 99.22950497274822\n",
            "Higher accuracy found (99.23%). Model saved.\n",
            "Epoch 4\n",
            "-------------------------------\n",
            "train 2.086836539006505 acc 99.92211540187438\n",
            "test 963.4537844496776 acc 98.25391919986515\n",
            "Epoch 5\n",
            "-------------------------------\n",
            "train 1.1061512766480164 acc 99.9463080125146\n",
            "test 15827.0454487511 acc 98.31221554194528\n",
            "Epoch 6\n",
            "-------------------------------\n",
            "train 1.013843573016183 acc 99.95481444657842\n",
            "test 705.4772370053709 acc 99.17436927572062\n",
            "Epoch 7\n",
            "-------------------------------\n",
            "train 0.35362221820759965 acc 99.96105770093719\n",
            "test 6726.879255074223 acc 99.0166882058774\n",
            "Epoch 8\n",
            "-------------------------------\n",
            "train 0.12958605891673694 acc 99.96480365355245\n",
            "test 8214.948384918058 acc 98.47130134292297\n",
            "Epoch 9\n",
            "-------------------------------\n",
            "train 0.26862664068036635 acc 99.96784724005235\n",
            "test 857.5050728509648 acc 99.20983873686576\n",
            "Epoch 10\n",
            "-------------------------------\n",
            "train 0.0929479721406064 acc 99.96831548412926\n",
            "test 108693.7674770497 acc 98.61353037028712\n",
            "Epoch 11\n",
            "-------------------------------\n",
            "train 0.420353859040414 acc 99.97120298927018\n",
            "test 676.3356663882985 acc 97.76647749620723\n",
            "Epoch 12\n",
            "-------------------------------\n",
            "train 0.05176238203970502 acc 99.97409049441112\n",
            "test 559.8857591335641 acc 99.35241894701355\n",
            "Higher accuracy found (99.35%). Model saved.\n",
            "Epoch 13\n",
            "-------------------------------\n",
            "train 0.08522890479994677 acc 99.9756513080008\n",
            "test 479.1769606194624 acc 99.15575658818902\n",
            "Epoch 14\n",
            "-------------------------------\n",
            "train 0.20777085392491038 acc 99.97615857241746\n",
            "test 428.7707673752667 acc 99.55294431645783\n",
            "Higher accuracy found (99.55%). Model saved.\n",
            "Epoch 15\n",
            "-------------------------------\n",
            "train 0.04873965783490093 acc 99.97705604023153\n",
            "test 230.6638172705106 acc 98.82880541664325\n",
            "Epoch 16\n",
            "-------------------------------\n",
            "train 0.03563830207174302 acc 99.97717310125076\n",
            "test 102523.7963723733 acc 98.56050176996123\n",
            "Epoch 17\n",
            "-------------------------------\n",
            "train 0.14589066300988945 acc 99.97826567076355\n",
            "test 195.30866286156794 acc 98.71502219475192\n",
            "Epoch 18\n",
            "-------------------------------\n",
            "train 0.033019124605914406 acc 99.97974844367376\n",
            "test 336.9707963962666 acc 99.32011013092094\n",
            "Epoch 19\n",
            "-------------------------------\n",
            "train 0.05320465067656569 acc 99.97842175212251\n",
            "test 859.575052675306 acc 99.37840647300106\n",
            "Epoch 20\n",
            "-------------------------------\n",
            "train 0.03948054153438294 acc 99.97986550469298\n",
            "test 209.65813842357036 acc 99.02230713041524\n",
            "Epoch 21\n",
            "-------------------------------\n",
            "train 0.15550191395460078 acc 99.9802557080904\n",
            "test 120.15720793043633 acc 98.81932348148564\n",
            "Epoch 22\n",
            "-------------------------------\n",
            "train 0.05203938109072102 acc 99.9805288504686\n",
            "test 1883.0694606711752 acc 98.86392369500477\n",
            "Epoch 23\n",
            "-------------------------------\n",
            "train 0.05181945076824583 acc 99.98138729794293\n",
            "test 183.01735955350782 acc 99.0904365904366\n",
            "Epoch 24\n",
            "-------------------------------\n",
            "train 0.1014422987855186 acc 99.98095807420576\n",
            "test 20538.29982078798 acc 98.28622801595775\n",
            "Epoch 25\n",
            "-------------------------------\n",
            "train 0.0972573340913168 acc 99.98287007085314\n",
            "test 16440.190103487563 acc 99.08692476260043\n",
            "Epoch 26\n",
            "-------------------------------\n",
            "train 0.019074032291781062 acc 99.98115317590447\n",
            "test 10487.258938619783 acc 99.45636905096364\n",
            "Epoch 27\n",
            "-------------------------------\n",
            "train 0.025158608375085798 acc 99.98263594881467\n",
            "test 397.36528916938664 acc 99.24004045625668\n",
            "Epoch 28\n",
            "-------------------------------\n",
            "train 0.038917315727206386 acc 99.98236280643648\n",
            "test 111415.83255586353 acc 99.45110130920942\n",
            "Epoch 29\n",
            "-------------------------------\n",
            "train 0.1433992574652621 acc 99.98224574541726\n",
            "test 36986.475295386714 acc 98.33644715401472\n",
            "Epoch 30\n",
            "-------------------------------\n",
            "train 0.33650224733967615 acc 99.98341635560952\n",
            "test 218.92446280151938 acc 97.93750351182784\n",
            "Epoch 31\n",
            "-------------------------------\n",
            "train 0.02797451162928849 acc 99.98263594881467\n",
            "test 74.18833698716598 acc 99.48200539416756\n",
            "Epoch 32\n",
            "-------------------------------\n",
            "train 0.04347180100788608 acc 99.98318223357107\n",
            "test 6537.320610509477 acc 98.9404815418329\n",
            "Epoch 33\n",
            "-------------------------------\n",
            "train 0.13033224053745007 acc 99.98415774206462\n",
            "test 252.94294234912303 acc 99.02441422711694\n",
            "Epoch 34\n",
            "-------------------------------\n",
            "train 0.07665283191833326 acc 99.98517227089793\n",
            "test 125.67506891241892 acc 98.72028993650615\n",
            "Epoch 35\n",
            "-------------------------------\n",
            "train 0.04125450042391441 acc 99.98310419289159\n",
            "test 199.2489249068934 acc 99.27972411080519\n",
            "Epoch 36\n",
            "-------------------------------\n",
            "train 0.019994214201497607 acc 99.98388459968643\n",
            "test 1480.1588492963385 acc 99.40790582682475\n",
            "Epoch 37\n",
            "-------------------------------\n",
            "train 0.32269990464347936 acc 99.98513325055819\n",
            "test 1115.15257297061 acc 98.77577681631736\n",
            "Epoch 38\n",
            "-------------------------------\n",
            "train 0.03759841317492597 acc 99.98489912851973\n",
            "test 1078.5195192249412 acc 98.18333146035849\n",
            "Epoch 39\n",
            "-------------------------------\n",
            "train 0.14041453091102177 acc 99.98419676240437\n",
            "test 139.67908224407216 acc 99.42792324549082\n",
            "Epoch 40\n",
            "-------------------------------\n",
            "train 0.05324168118440683 acc 99.98540639293638\n",
            "test 15.545111851200755 acc 99.4089593751756\n",
            "Epoch 41\n",
            "-------------------------------\n",
            "train 0.024502192533290456 acc 99.98419676240437\n",
            "test 187.5664174104258 acc 99.53046861830646\n",
            "Epoch 42\n",
            "-------------------------------\n",
            "train 0.03771916268652276 acc 99.98536737259664\n",
            "test 12318.386311204493 acc 98.9313507894589\n",
            "Epoch 43\n",
            "-------------------------------\n",
            "train 0.12204018834117394 acc 99.98536737259664\n",
            "test 4205.427679254268 acc 99.00720627071978\n",
            "Epoch 44\n",
            "-------------------------------\n",
            "train 0.02143518061640301 acc 99.98513325055819\n",
            "test 173.7744259448955 acc 98.53978198572793\n",
            "Epoch 45\n",
            "-------------------------------\n",
            "train 0.0315724583743807 acc 99.98564051497483\n",
            "test 242.89055062939286 acc 98.93521380007867\n",
            "Epoch 46\n",
            "-------------------------------\n",
            "train 0.2573759147278417 acc 99.98517227089793\n",
            "test 209.84845228313685 acc 99.0883294937349\n",
            "Epoch 47\n",
            "-------------------------------\n",
            "train 0.38667676719733834 acc 99.98677210482737\n",
            "test 84.95713444118832 acc 98.2022953306737\n",
            "Epoch 48\n",
            "-------------------------------\n",
            "train 0.059767466076245675 acc 99.98614777939149\n",
            "test 807.5131703574123 acc 98.81862111591842\n",
            "Epoch 49\n",
            "-------------------------------\n",
            "train 0.1257290497730867 acc 99.9863428810902\n",
            "test 1000.2401257561603 acc 97.52626847221441\n",
            "Epoch 50\n",
            "-------------------------------\n",
            "train 0.088849756445913 acc 99.9858746370133\n",
            "test 6195.521584406604 acc 98.3543574759791\n",
            "Epoch 51\n",
            "-------------------------------\n",
            "train 0.06568922480318856 acc 99.98583561667354\n",
            "test 1050.6953134742835 acc 97.86902286902287\n",
            "Epoch 52\n",
            "-------------------------------\n",
            "train 0.08527623168073359 acc 99.9880987963786\n",
            "test 31.443757812311187 acc 99.35944260268585\n",
            "Epoch 53\n",
            "-------------------------------\n",
            "train 0.02944522797924707 acc 99.98661602346839\n",
            "test 11682.693929939762 acc 98.555234028207\n",
            "Epoch 54\n",
            "-------------------------------\n",
            "train 0.08455024448097508 acc 99.986069738712\n",
            "test 303.72686343726934 acc 98.92432713378659\n",
            "Epoch 55\n",
            "-------------------------------\n",
            "train 0.06103332177735721 acc 99.98903528453242\n",
            "test 49615.56949948433 acc 98.573495532955\n",
            "Epoch 56\n",
            "-------------------------------\n",
            "train 0.05314141878669468 acc 99.98681112516711\n",
            "test 1734.5255510778634 acc 98.5576923076923\n",
            "Epoch 57\n",
            "-------------------------------\n",
            "train 0.07734506010682216 acc 99.98825487773757\n",
            "test 1610.1405068540525 acc 99.26251615440805\n",
            "Epoch 58\n",
            "-------------------------------\n",
            "train 0.07294961112849095 acc 99.98696720652607\n",
            "test 50278.40780996832 acc 97.99123447772097\n",
            "Epoch 59\n",
            "-------------------------------\n",
            "train 0.0920645518229359 acc 99.98798173535937\n",
            "test 96.44251538955498 acc 99.42265550373658\n",
            "Epoch 60\n",
            "-------------------------------\n",
            "train 0.05561841980672424 acc 99.98677210482737\n",
            "test 187.91497789627283 acc 98.7051890768107\n",
            "Epoch 61\n",
            "-------------------------------\n",
            "train 0.40140468013393005 acc 99.98755251162221\n",
            "test 116.28444175123543 acc 99.07287745125583\n",
            "Epoch 62\n",
            "-------------------------------\n",
            "train 0.4903562381546142 acc 99.98591365735304\n",
            "test 126.16054711314256 acc 98.73152778558185\n",
            "Epoch 63\n",
            "-------------------------------\n",
            "train 0.04379462519618612 acc 99.98829389807732\n",
            "test 10727.196448761035 acc 97.94522953306738\n",
            "Epoch 64\n",
            "-------------------------------\n",
            "train 0.0885575697605388 acc 99.98673308448762\n",
            "test 1936.4638110879282 acc 96.07763948980165\n",
            "Epoch 65\n",
            "-------------------------------\n",
            "train 0.07101954291976144 acc 99.98751349128247\n",
            "test 5252.578659673333 acc 97.67762825195257\n",
            "Epoch 66\n",
            "-------------------------------\n",
            "train 0.04344039846743551 acc 99.98868410147473\n",
            "test 12070.593279388077 acc 97.28500589987077\n",
            "Epoch 67\n",
            "-------------------------------\n",
            "train 0.1102229920851956 acc 99.98712328788504\n",
            "test 2200.337487451728 acc 98.0288110355678\n",
            "Epoch 68\n",
            "-------------------------------\n",
            "train 0.0758850027714834 acc 99.98747447094273\n",
            "test 238.09850743944202 acc 98.65532112153734\n",
            "Epoch 69\n",
            "-------------------------------\n",
            "train 0.16133844748666776 acc 99.98778663366066\n",
            "test 40.06099216797127 acc 99.08868067651852\n",
            "Epoch 70\n",
            "-------------------------------\n",
            "train 0.20762996422484833 acc 99.98833291841706\n",
            "test 306.7083877601457 acc 98.75962240827106\n",
            "Epoch 71\n",
            "-------------------------------\n",
            "train 0.07714602392910863 acc 99.9880987963786\n",
            "test 141.01659672944578 acc 99.01598584031017\n",
            "Epoch 72\n",
            "-------------------------------\n",
            "train 0.09283101449897294 acc 99.98794271501963\n",
            "test 6299.827090772506 acc 97.71380007866495\n",
            "Epoch 73\n",
            "-------------------------------\n",
            "train 0.06511562117403477 acc 99.98903528453242\n",
            "test 205.29551442601857 acc 98.74943810754621\n",
            "Epoch 74\n",
            "-------------------------------\n",
            "train 0.14690495529219375 acc 99.9878256540004\n",
            "test 2969.171093117801 acc 98.41476091476092\n",
            "Epoch 75\n",
            "-------------------------------\n",
            "train 0.06492481731555062 acc 99.98907430487216\n",
            "test 5044.722107934637 acc 98.52152048097994\n",
            "Epoch 76\n",
            "-------------------------------\n",
            "train 0.20959805505750395 acc 99.9883719387568\n",
            "test 465.7382882566741 acc 99.08973422486936\n",
            "Epoch 77\n",
            "-------------------------------\n",
            "train 0.15409363966443543 acc 99.98794271501963\n",
            "test 36.14131864669963 acc 98.78596111704219\n",
            "Epoch 78\n",
            "-------------------------------\n",
            "train 0.5676123462597843 acc 99.98880116249396\n",
            "test 387.17376188947395 acc 98.30519188627297\n",
            "Epoch 79\n",
            "-------------------------------\n",
            "train 0.0942757972458122 acc 99.98802075569911\n",
            "test 474.6758961639316 acc 99.07182390290498\n",
            "Epoch 80\n",
            "-------------------------------\n",
            "train 0.09412547819468119 acc 99.98739643026325\n",
            "test 357.5938886842875 acc 99.02968196887116\n",
            "Epoch 81\n",
            "-------------------------------\n",
            "train 0.1273058347111059 acc 99.98755251162221\n",
            "test 290.6240412973037 acc 98.57560262965669\n",
            "Epoch 82\n",
            "-------------------------------\n",
            "train 0.08693803668089595 acc 99.98700622686582\n",
            "test 392.42951200384897 acc 98.85654885654886\n",
            "Epoch 83\n",
            "-------------------------------\n",
            "train 0.19330159133740213 acc 99.98880116249396\n",
            "test 209.85782839006492 acc 98.40949317300668\n",
            "Epoch 84\n",
            "-------------------------------\n",
            "train 0.2841872580820436 acc 99.98755251162221\n",
            "test 456.8394951553307 acc 98.72766477496208\n",
            "Epoch 85\n",
            "-------------------------------\n",
            "train 0.24482434364950503 acc 99.98692818618633\n",
            "test 601.2076869404116 acc 98.37191661515986\n",
            "Epoch 86\n",
            "-------------------------------\n",
            "train 0.165399540389096 acc 99.9888401828337\n",
            "test 10102.72774860975 acc 98.00071641287857\n",
            "Epoch 87\n",
            "-------------------------------\n",
            "train 0.1067735847545605 acc 99.98856704045551\n",
            "test 445.4718758540816 acc 99.03284261392369\n",
            "Epoch 88\n",
            "-------------------------------\n",
            "train 0.5301440767486816 acc 99.98829389807732\n",
            "test 1331.9793785091063 acc 98.05971512052594\n",
            "Epoch 89\n",
            "-------------------------------\n",
            "train 0.14089120280899498 acc 99.99079119982082\n",
            "test 1765.0424390784058 acc 97.83214867674327\n",
            "Epoch 90\n",
            "-------------------------------\n",
            "train 0.41355794687201475 acc 99.98899626419268\n",
            "test 609.5577037853675 acc 98.1559392032365\n",
            "Epoch 91\n",
            "-------------------------------\n",
            "train 0.15476690935299744 acc 99.98876214215421\n",
            "test 1375.2154011639352 acc 97.87710007304602\n",
            "Epoch 92\n",
            "-------------------------------\n",
            "train 0.10555828705603258 acc 99.98731838958375\n",
            "test 28563.44072378186 acc 97.13153902343092\n",
            "Epoch 93\n",
            "-------------------------------\n",
            "train 0.16598326647293649 acc 99.98786467434014\n",
            "test 2132.6508467617728 acc 97.72609147609148\n",
            "Epoch 94\n",
            "-------------------------------\n",
            "train 0.32323368158140686 acc 99.99020589472468\n",
            "test 555.2411770015784 acc 99.27164690678204\n",
            "Epoch 95\n",
            "-------------------------------\n",
            "train 0.18667605534626064 acc 99.98997177268623\n",
            "test 88.03062750988086 acc 98.43337360229252\n",
            "Epoch 96\n",
            "-------------------------------\n",
            "train 0.1087026898594852 acc 99.98829389807732\n",
            "test 429.8086917924787 acc 98.14259425745912\n",
            "Epoch 97\n",
            "-------------------------------\n",
            "train 0.18210575535873377 acc 99.98872312181447\n",
            "test 237.64766181939564 acc 98.9015002528516\n",
            "Epoch 98\n",
            "-------------------------------\n",
            "train 0.388438088850685 acc 99.98755251162221\n",
            "test 725.0186441629049 acc 99.3724363656796\n",
            "Epoch 99\n",
            "-------------------------------\n",
            "train 0.2889567566767535 acc 99.98778663366066\n",
            "test 776.7108373585676 acc 98.0635781311457\n",
            "Epoch 100\n",
            "-------------------------------\n",
            "train 0.19890058654118487 acc 99.98844997943628\n",
            "test 938.0723706725653 acc 98.88429229645446\n",
            "Epoch 101\n",
            "-------------------------------\n",
            "train 0.21840719963909386 acc 99.98887920317344\n",
            "test 359.90396581179084 acc 98.6384643479238\n",
            "Epoch 102\n",
            "-------------------------------\n",
            "train 0.09360635543778674 acc 99.99008883370546\n",
            "test 757.6771130685244 acc 98.46919424622128\n",
            "Epoch 103\n",
            "-------------------------------\n",
            "train 0.14587417461875607 acc 99.98989373200675\n",
            "test 3952.9897871171743 acc 98.06006630330954\n",
            "Epoch 104\n",
            "-------------------------------\n",
            "train 0.2086975139888648 acc 99.98946450826958\n",
            "test 773.4322028348957 acc 98.89272068326122\n",
            "Epoch 105\n",
            "-------------------------------\n",
            "train 0.22805539528624325 acc 99.98969863030804\n",
            "test 4020.56953062364 acc 98.04566780918132\n",
            "Epoch 106\n",
            "-------------------------------\n",
            "train 0.2898182170477554 acc 99.98934744725035\n",
            "test 12.621555024448169 acc 99.43986346013374\n",
            "Epoch 107\n",
            "-------------------------------\n",
            "train 0.17791662704602643 acc 99.98950352860932\n",
            "test 740.3784576627004 acc 99.07322863403944\n",
            "Epoch 108\n",
            "-------------------------------\n",
            "train 0.1644675995632029 acc 99.98833291841706\n",
            "test 806.7493139559934 acc 98.86497724335563\n",
            "Epoch 109\n",
            "-------------------------------\n",
            "train 0.21087811088070813 acc 99.98969863030804\n",
            "test 936.4586088871129 acc 98.50536607293364\n",
            "Epoch 110\n",
            "-------------------------------\n",
            "train 0.9903258174114279 acc 99.98919136589139\n",
            "test 907.3090998223032 acc 98.20931898634602\n",
            "Epoch 111\n",
            "-------------------------------\n",
            "train 0.2939809905121027 acc 99.98860606079525\n",
            "test 603.2481177476106 acc 98.08464909816261\n",
            "Epoch 112\n",
            "-------------------------------\n",
            "train 0.11866779171607092 acc 99.98930842691061\n",
            "test 112.92106788845437 acc 97.91467663089284\n",
            "Epoch 113\n",
            "-------------------------------\n",
            "train 0.46295439718139597 acc 99.99008883370546\n",
            "test 1446.982912554436 acc 98.55839467325954\n",
            "Epoch 114\n",
            "-------------------------------\n",
            "train 0.14032773080513647 acc 99.9878256540004\n",
            "test 994.9324944487709 acc 98.84179917963702\n",
            "Epoch 115\n",
            "-------------------------------\n",
            "train 0.22873341894293303 acc 99.98856704045551\n",
            "test 1020.9020857509935 acc 99.21194583356746\n",
            "Epoch 116\n",
            "-------------------------------\n",
            "train 0.16169901224156122 acc 99.98841095909654\n",
            "test 1700.8063824186017 acc 98.41827274259707\n",
            "Epoch 117\n",
            "-------------------------------\n",
            "train 1.4102416421733488 acc 99.98821585739783\n",
            "test 727.1045329745305 acc 98.69324886216778\n",
            "Epoch 118\n",
            "-------------------------------\n",
            "train 0.6086700798244397 acc 99.98813781671834\n",
            "test 887.8908945291038 acc 98.78244928920604\n",
            "Epoch 119\n",
            "-------------------------------\n",
            "train 0.3583005725631615 acc 99.98751349128247\n",
            "test 36.36742193929155 acc 99.18033938304208\n",
            "Epoch 120\n",
            "-------------------------------\n",
            "train 0.18138547624009815 acc 99.98985471166701\n",
            "test 292.0270960359735 acc 98.37577962577963\n",
            "Epoch 121\n",
            "-------------------------------\n",
            "train 0.1673950416479288 acc 99.9888401828337\n",
            "test 668.4037447412194 acc 98.58192391976176\n",
            "Epoch 122\n",
            "-------------------------------\n",
            "train 0.10237148789176374 acc 99.98844997943628\n",
            "test 890.0335623047124 acc 98.95804068101366\n",
            "Epoch 123\n",
            "-------------------------------\n",
            "train 1.1493813077288502 acc 99.98926940657087\n",
            "test 735.4594423858317 acc 99.24179637017475\n",
            "Epoch 124\n",
            "-------------------------------\n",
            "train 0.19617573074032685 acc 99.98985471166701\n",
            "test 363.28820478844347 acc 99.54802775748722\n",
            "Epoch 125\n",
            "-------------------------------\n",
            "train 0.4455502540292758 acc 99.98841095909654\n",
            "test 21.008523336417486 acc 99.42581614878912\n",
            "Epoch 126\n",
            "-------------------------------\n",
            "train 0.6701899109927364 acc 99.98825487773757\n",
            "test 830.1974534234944 acc 99.47849356633141\n",
            "Epoch 127\n",
            "-------------------------------\n",
            "train 0.1437421822312839 acc 99.98946450826958\n",
            "test 7353.262984745993 acc 97.9641934033826\n",
            "Epoch 128\n",
            "-------------------------------\n",
            "train 0.15418437247685612 acc 99.9880987963786\n",
            "test 4125.822154767852 acc 98.3680536045401\n",
            "Epoch 129\n",
            "-------------------------------\n",
            "train 0.2774472222599589 acc 99.98833291841706\n",
            "test 854.2014750214023 acc 99.28007529358881\n",
            "Epoch 130\n",
            "-------------------------------\n",
            "train 0.2979816464348311 acc 99.98852802011577\n",
            "test 1001.0801869102023 acc 98.98086756194864\n",
            "Epoch 131\n",
            "-------------------------------\n",
            "train 0.6591338277912232 acc 99.98907430487216\n",
            "test 820.734902303759 acc 99.39737034331628\n",
            "Epoch 132\n",
            "-------------------------------\n",
            "train 0.2992132812767686 acc 99.9883719387568\n",
            "test 230.94253504790768 acc 98.8667331572737\n",
            "Epoch 133\n",
            "-------------------------------\n",
            "train 0.1275708383838082 acc 99.98802075569911\n",
            "test 178.41053473226728 acc 99.43529808394673\n",
            "Epoch 134\n",
            "-------------------------------\n",
            "train 0.327011181272196 acc 99.9878256540004\n",
            "test 1078.0540343098849 acc 97.6621762094735\n",
            "Epoch 135\n",
            "-------------------------------\n",
            "train 0.2624367953341129 acc 99.9889182235132\n",
            "test 217.348018540668 acc 99.04724110805192\n",
            "Epoch 136\n",
            "-------------------------------\n",
            "train 0.15957795499206728 acc 99.98794271501963\n",
            "test 3138.5515618469794 acc 97.74400179805585\n",
            "Epoch 137\n",
            "-------------------------------\n",
            "train 0.4575856527420517 acc 99.98907430487216\n",
            "test 916.7287026248074 acc 98.52397876046524\n",
            "Epoch 138\n",
            "-------------------------------\n",
            "train 0.22013410746660675 acc 99.98774761332092\n",
            "test 2537.04874137031 acc 97.42477664774962\n",
            "Epoch 139\n",
            "-------------------------------\n",
            "train 0.2562822361694512 acc 99.98860606079525\n",
            "test 2581.917595877171 acc 97.99018092937011\n",
            "Epoch 140\n",
            "-------------------------------\n",
            "train 1.0738746027058197 acc 99.98860606079525\n",
            "test 369.8041817869126 acc 99.27129572399842\n",
            "Epoch 141\n",
            "-------------------------------\n",
            "train 0.20865965659940253 acc 99.98759153196195\n",
            "test 407.30082802015386 acc 97.6667415856605\n",
            "Epoch 142\n",
            "-------------------------------\n",
            "train 1.305939235306874 acc 99.98805977603885\n",
            "test 3160.9152396407485 acc 97.45041299095354\n",
            "Epoch 143\n",
            "-------------------------------\n",
            "train 0.39994418914794816 acc 99.98755251162221\n",
            "test 24559.460175236174 acc 98.03267404618757\n",
            "Epoch 144\n",
            "-------------------------------\n",
            "train 0.4066473497079853 acc 99.98821585739783\n",
            "test 27003.88076950559 acc 96.50854076529752\n",
            "Epoch 145\n",
            "-------------------------------\n",
            "train 0.8155904506178502 acc 99.98794271501963\n",
            "test 738.0293548515571 acc 98.77366971961567\n",
            "Epoch 146\n",
            "-------------------------------\n",
            "train 1.099250552464516 acc 99.98899626419268\n",
            "test 359.9236076986375 acc 99.48376130808563\n",
            "Epoch 147\n",
            "-------------------------------\n",
            "train 0.4544104994589995 acc 99.98696720652607\n",
            "test 154.2879582699817 acc 98.37718435691409\n",
            "Epoch 148\n",
            "-------------------------------\n",
            "train 0.8649042662167012 acc 99.98923038623113\n",
            "test 1157.691298215813 acc 97.41248525032309\n",
            "Epoch 149\n",
            "-------------------------------\n",
            "train 0.18693988389049698 acc 99.98852802011577\n",
            "test 286.96177286686344 acc 98.94399336966904\n",
            "Epoch 150\n",
            "-------------------------------\n",
            "train 0.39508612400687376 acc 99.98790369467989\n",
            "test 94.83085880197528 acc 97.59826094285553\n",
            "Epoch 151\n",
            "-------------------------------\n",
            "train 0.4729065201661956 acc 99.9878256540004\n",
            "test 690.541976698953 acc 98.19667640613586\n",
            "Epoch 152\n",
            "-------------------------------\n",
            "train 0.3972131123481363 acc 99.98856704045551\n",
            "test 327.4100469283405 acc 97.53539922458842\n",
            "Epoch 153\n",
            "-------------------------------\n",
            "train 0.9575160226059917 acc 99.98661602346839\n",
            "test 346.0818881887316 acc 98.18017081530596\n",
            "Epoch 154\n",
            "-------------------------------\n",
            "train 0.4838958345395558 acc 99.98876214215421\n",
            "test 1046.5300246601928 acc 99.44442883632072\n",
            "Epoch 155\n",
            "-------------------------------\n",
            "train 0.7314286121956132 acc 99.98681112516711\n",
            "test 913.9620105331162 acc 99.4693628139574\n",
            "Epoch 156\n",
            "-------------------------------\n",
            "train 0.2788081499720921 acc 99.98755251162221\n",
            "test 626.6655284969227 acc 99.33450862504917\n",
            "Epoch 157\n",
            "-------------------------------\n",
            "train 0.23328467059457245 acc 99.98677210482737\n",
            "test 3442.327526232427 acc 97.62108782379053\n",
            "Epoch 158\n",
            "-------------------------------\n",
            "train 0.21864462658246503 acc 99.98864508113499\n",
            "test 1113.8726161901557 acc 98.30624543462382\n",
            "Epoch 159\n",
            "-------------------------------\n",
            "train 0.18852058582691206 acc 99.98661602346839\n",
            "test 38246.02736599686 acc 97.71169298196325\n",
            "Epoch 160\n",
            "-------------------------------\n",
            "train 0.22209200515060143 acc 99.98724034890427\n",
            "test 1001.9953754389434 acc 98.43653424734505\n",
            "Epoch 161\n",
            "-------------------------------\n",
            "train 0.2705697305043143 acc 99.98618679973123\n",
            "test 332.35431056367554 acc 98.76769961229421\n",
            "Epoch 162\n",
            "-------------------------------\n",
            "train 0.33457720780514183 acc 99.98844997943628\n",
            "test 194.3946623283192 acc 99.20035680170815\n",
            "Epoch 163\n",
            "-------------------------------\n",
            "train 0.7668047978088433 acc 99.98833291841706\n",
            "test 728.772167503983 acc 99.51150474799124\n",
            "Epoch 164\n",
            "-------------------------------\n",
            "train 0.45549354451306107 acc 99.98657700312864\n",
            "test 1092.789798098414 acc 98.89869079058268\n",
            "Epoch 165\n",
            "-------------------------------\n",
            "train 0.3449192612977052 acc 99.98677210482737\n",
            "test 1001.5939752961079 acc 99.46374388941956\n",
            "Epoch 166\n",
            "-------------------------------\n",
            "train 0.31603204468668683 acc 99.987279369244\n",
            "test 607.7760669786225 acc 99.18666067314716\n",
            "Epoch 167\n",
            "-------------------------------\n",
            "train 0.3208407602393542 acc 99.98497716919921\n",
            "test 1105.7887758080356 acc 98.94364218688543\n",
            "Epoch 168\n",
            "-------------------------------\n",
            "train 0.6317626973755792 acc 99.98712328788504\n",
            "test 288.40686326319775 acc 99.1185312131258\n",
            "Epoch 169\n",
            "-------------------------------\n",
            "train 0.1735932483078589 acc 99.98751349128247\n",
            "test 836.5698271970917 acc 98.91660111254706\n",
            "Epoch 170\n",
            "-------------------------------\n",
            "train 0.4824645999409952 acc 99.98747447094273\n",
            "test 664.4364330861537 acc 97.8788559869641\n",
            "Epoch 171\n",
            "-------------------------------\n",
            "train 0.6524472309335552 acc 99.98673308448762\n",
            "test 5497.024989508792 acc 98.31116199359442\n",
            "Epoch 172\n",
            "-------------------------------\n",
            "train 0.396916781563377 acc 99.98673308448762\n",
            "test 506.9293103594545 acc 98.62406585379559\n",
            "Epoch 173\n",
            "-------------------------------\n",
            "train 1.0468541870648864 acc 99.98770859298118\n",
            "test 32678.724853757794 acc 98.01687082092488\n",
            "Epoch 174\n",
            "-------------------------------\n",
            "train 0.18909213553164786 acc 99.98696720652607\n",
            "test 1251.447911025229 acc 97.83320222509411\n",
            "Epoch 175\n",
            "-------------------------------\n",
            "train 1.5745008371981428 acc 99.98923038623113\n",
            "test 40535.6778397908 acc 97.97999662864528\n",
            "Epoch 176\n",
            "-------------------------------\n",
            "train 0.21094975152648376 acc 99.98696720652607\n",
            "test 430.03860286766974 acc 97.31836826431422\n",
            "Epoch 177\n",
            "-------------------------------\n",
            "train 0.9749708852165992 acc 99.98813781671834\n",
            "test 1365.851011351311 acc 98.64338090689442\n",
            "Epoch 178\n",
            "-------------------------------\n",
            "train 0.9718511700179187 acc 99.99024491506442\n",
            "test 1195.1455301540254 acc 99.12344777209643\n",
            "Epoch 179\n",
            "-------------------------------\n",
            "train 0.4035202442605812 acc 99.98665504380814\n",
            "test 1131.3455184224404 acc 99.25654604708659\n",
            "Epoch 180\n",
            "-------------------------------\n",
            "train 0.15849920938587056 acc 99.98739643026325\n",
            "test 619.0477050648822 acc 98.33434005731303\n",
            "Epoch 181\n",
            "-------------------------------\n",
            "train 0.4608625370163745 acc 99.98657700312864\n",
            "test 1331.0165049426762 acc 98.86322132943755\n",
            "Epoch 182\n",
            "-------------------------------\n",
            "train 0.63025351185942 acc 99.986069738712\n",
            "test 2539.8366796831615 acc 98.27955554306905\n",
            "Epoch 183\n",
            "-------------------------------\n",
            "train 0.4665280952875722 acc 99.98720132856452\n",
            "test 3390.3039378444323 acc 99.05883013991122\n",
            "Epoch 184\n",
            "-------------------------------\n",
            "train 0.2549023770171984 acc 99.98743545060299\n",
            "test 1636.3887941574885 acc 98.52538349159971\n",
            "Epoch 185\n",
            "-------------------------------\n",
            "train 0.6113879383901304 acc 99.98798173535937\n",
            "test 1291.2270022777698 acc 99.35874023711861\n",
            "Epoch 186\n",
            "-------------------------------\n",
            "train 0.1403101812264634 acc 99.98688916584659\n",
            "test 1557.8226927633877 acc 98.58648929594875\n",
            "Epoch 187\n",
            "-------------------------------\n",
            "train 0.2635084681192318 acc 99.98685014550685\n",
            "test 8057.169172416356 acc 97.16700848457606\n",
            "Epoch 188\n",
            "-------------------------------\n",
            "train 0.5369446545925368 acc 99.98567953531457\n",
            "test 20.57458858547109 acc 99.41914367590043\n",
            "Epoch 189\n",
            "-------------------------------\n",
            "train 1.3320413051682394 acc 99.98630386075045\n",
            "test 1157.732072981326 acc 98.47411080519188\n",
            "Epoch 190\n",
            "-------------------------------\n",
            "train 0.26556656657631034 acc 99.98696720652607\n",
            "test 9.658111397096805 acc 99.66145979659493\n",
            "Higher accuracy found (99.66%). Model saved.\n",
            "Epoch 191\n",
            "-------------------------------\n",
            "train 0.3230192178527465 acc 99.98583561667354\n",
            "test 347.3250485073455 acc 99.24495701522729\n",
            "Epoch 192\n",
            "-------------------------------\n",
            "train 0.764543679344066 acc 99.98603071837226\n",
            "test 44588.15259790657 acc 97.37455750969265\n",
            "Epoch 193\n",
            "-------------------------------\n",
            "train 0.35650898697154265 acc 99.98774761332092\n",
            "test 2253.566762236626 acc 98.00984716525257\n",
            "Epoch 194\n",
            "-------------------------------\n",
            "train 1.099402715617457 acc 99.9880987963786\n",
            "test 821.897024491444 acc 98.07235770073608\n",
            "Epoch 195\n",
            "-------------------------------\n",
            "train 0.9638557309617712 acc 99.98649896244916\n",
            "test 1515.0335199967938 acc 96.82495645333483\n",
            "Epoch 196\n",
            "-------------------------------\n",
            "train 0.8558059986410826 acc 99.98821585739783\n",
            "test 1415.8252134637585 acc 99.04513401135023\n",
            "Epoch 197\n",
            "-------------------------------\n",
            "train 0.19982237668521213 acc 99.9870842675453\n",
            "test 1284.4478383855344 acc 99.14030454570995\n",
            "Epoch 198\n",
            "-------------------------------\n",
            "train 0.3725598177597192 acc 99.98575757599406\n",
            "test 1559.4233528352654 acc 99.27410518626735\n",
            "Epoch 199\n",
            "-------------------------------\n",
            "train 0.30713381182503585 acc 99.98649896244916\n",
            "test 902.3201331609383 acc 99.21475529583638\n",
            "Epoch 200\n",
            "-------------------------------\n",
            "train 0.22808296651734822 acc 99.98626484041071\n",
            "test 129.45555157464474 acc 98.36173231443502\n"
          ]
        },
        {
          "data": {
            "image/png": "[encoded data removed]",
            "text/plain": [
              "<Figure size 1600x800 with 2 Axes>"
            ]
          },
          "metadata": {},
          "output_type": "display_data"
        },
        {
          "name": "stdout",
          "output_type": "stream",
          "text": [
            "预测正确率: 0.9966145979659493\n"
          ]
        }
      ],
      "source": [
        "x_train_2017 = np.load('/content/drive/MyDrive/x_train_2017.npy')\n",
        "x_test_2017 = np.load('/content/drive/MyDrive/x_test_2017.npy')\n",
        "y_train_2017 = np.load('/content/drive/MyDrive/y_train_2017.npy')\n",
        "y_test_2017 = np.load('/content/drive/MyDrive/y_test_2017.npy')\n",
        "\n",
        "\n",
        "if isinstance(x_train_2017, pd.DataFrame):\n",
        "    x_train_2017 = x_train_2017.values\n",
        "    x_test_2017 = x_test_2017.values\n",
        "\n",
        "if isinstance(y_train_2017, pd.DataFrame):\n",
        "    y_train_2 = y_train_2017.values\n",
        "    y_test_2 = y_test_2017.values\n",
        "\n",
        "train_ds = TensorDataset(torch.tensor(x_train_2017).float(), torch.tensor(y_train_2017).long())\n",
        "test_ds = TensorDataset(torch.tensor(x_test_2017).float(), torch.tensor(y_test_2017).long())\n",
        "\n",
        "\n",
        "class SelfAttention(nn.Module):\n",
        "    def __init__(self, dim):\n",
        "        super(SelfAttention, self).__init__()\n",
        "        self.query = nn.Linear(dim, dim)\n",
        "        self.key = nn.Linear(dim, dim)\n",
        "        self.value = nn.Linear(dim, dim)\n",
        "\n",
        "    def forward(self, x):\n",
        "        q = self.query(x)\n",
        "        k = self.key(x)\n",
        "        v = self.value(x)\n",
        "        attention = F.softmax(q @ k.transpose(-2, -1) / x.size(-1)**0.5, dim=-1)\n",
        "        return attention @ v\n",
        "class DNNModel(nn.Module):\n",
        "    def __init__(self, dim_num, nb_class, dropout_num, dropout_p):\n",
        "        super().__init__()\n",
        "        self.nor = nn.BatchNorm1d(dim_num)\n",
        "        self.attention = SelfAttention(dim_num)\n",
        "        self.lin1 = nn.Linear(dim_num, 512)  # Increase size\n",
        "        self.lin2 = nn.Linear(dim_num + 512, 256)  # Adjust accordingly\n",
        "        self.lin3 = nn.Linear(dim_num + 512 + 256, 128)  # Adjust accordingly\n",
        "        self.lin4 = nn.Linear(dim_num + 512 + 256 + 128, 64)  # Adjust accordingly\n",
        "        self.lin5 = nn.Linear(dim_num + 512 + 256 + 128 + 64, 32)  # Adjust accordingly\n",
        "        self.lin6 = nn.Linear(dim_num + 512 + 256 + 128 + 64 + 32, 16)  # New layer\n",
        "        self.lin7 = nn.Linear(dim_num + 512 + 256 + 128 + 64 + 32 + 16, 8)  # New layer\n",
        "        # Adjust final layer to include input from all previous layers\n",
        "        self.fc = nn.Linear(dim_num + 512 + 256 + 128 + 64 + 32 + 16 + 8, nb_class)\n",
        "        self.flatten = nn.Flatten()\n",
        "        self.dropouts = nn.ModuleList([nn.Dropout(dropout_p) for _ in range(dropout_num)])\n",
        "\n",
        "    def forward(self, x):\n",
        "        x = self.nor(x)\n",
        "        attention_out = self.attention(x) + x\n",
        "\n",
        "        out1 = F.relu(self.lin1(attention_out))\n",
        "        concat1 = torch.cat([attention_out, out1], dim=1)\n",
        "\n",
        "        out2 = F.relu(self.lin2(concat1))\n",
        "        concat2 = torch.cat([concat1, out2], dim=1)\n",
        "\n",
        "        out3 = F.relu(self.lin3(concat2))\n",
        "        concat3 = torch.cat([concat2, out3], dim=1)\n",
        "\n",
        "        out4 = F.relu(self.lin4(concat3))\n",
        "        concat4 = torch.cat([concat3, out4], dim=1)\n",
        "\n",
        "        out5 = F.relu(self.lin5(concat4))\n",
        "        concat5 = torch.cat([concat4, out5], dim=1)\n",
        "\n",
        "        out6 = F.relu(self.lin6(concat5))\n",
        "        concat6 = torch.cat([concat5, out6], dim=1)\n",
        "\n",
        "        out7 = F.relu(self.lin7(concat6))\n",
        "        concat7 = torch.cat([concat6, out7], dim=1)\n",
        "\n",
        "        flat_out = self.flatten(concat7)\n",
        "\n",
        "        if len(self.dropouts) == 0:\n",
        "            return self.fc(flat_out)\n",
        "        else:\n",
        "            out = None\n",
        "            for i, dropout in enumerate(self.dropouts):\n",
        "                if i == 0:\n",
        "                    out = dropout(flat_out)\n",
        "                    out = self.fc(out)\n",
        "                else:\n",
        "                    temp_out = dropout(flat_out)\n",
        "                    out += self.fc(temp_out)\n",
        "            return out / len(self.dropouts)\n",
        "\n",
        "batch_size = 512\n",
        "train_dl = DataLoader(train_ds, batch_size=batch_size, shuffle=True)\n",
        "test_dl = DataLoader(test_ds, batch_size=batch_size, shuffle=False)\n",
        "\n",
        "\n",
        "def train(dataloader, model, loss_fn, optimizer):\n",
        "    model.train()\n",
        "    total_loss = 0.0\n",
        "    correct = 0\n",
        "    total = 0\n",
        "\n",
        "    for inputs, labels in dataloader:\n",
        "        inputs, labels = inputs.to(device), labels.to(device)\n",
        "        optimizer.zero_grad()\n",
        "        outputs = model(inputs)\n",
        "        labels = labels.to(torch.float32)\n",
        "        loss = loss_fn(outputs, labels)  # 使用交叉熵损失函数计算损失\n",
        "        loss.backward()\n",
        "        optimizer.step()\n",
        "\n",
        "        total_loss += loss.item()\n",
        "        _, predicted = outputs.max(1)\n",
        "        total += labels.size(0)\n",
        "        correct += predicted.eq(labels.argmax(dim=1)).sum().item()\n",
        "\n",
        "    train_loss = total_loss / len(dataloader)\n",
        "    train_acc = 100. * correct / total\n",
        "    print('train', train_loss, 'acc', train_acc)\n",
        "    return train_loss, train_acc\n",
        "\n",
        "def test(dataloader, model, loss_fn):\n",
        "    model.eval()\n",
        "    total_loss = 0.0\n",
        "    correct = 0\n",
        "    total = 0\n",
        "\n",
        "    with torch.no_grad():\n",
        "        for inputs, labels in dataloader:\n",
        "            inputs, labels = inputs.to(device), labels.to(device)\n",
        "            outputs = model(inputs)\n",
        "            labels = labels.to(torch.float32)\n",
        "            loss = loss_fn(outputs, labels)\n",
        "\n",
        "            total_loss += loss.item()\n",
        "            _, predicted = outputs.max(1)\n",
        "            total += labels.size(0)\n",
        "            correct += predicted.eq(labels.argmax(dim=1)).sum().item()\n",
        "\n",
        "    test_loss = total_loss / len(dataloader)\n",
        "    test_acc = 100. * correct / total\n",
        "    print('test', test_loss, 'acc', test_acc)\n",
        "    return test_loss, test_acc\n",
        "\n",
        "\n",
        "device = \"cuda\" if torch.cuda.is_available() else \"mps\" if torch.backends.mps.is_available() else \"cpu\"\n",
        "print(f\"Using {device} device\")\n",
        "\n",
        "dnn_model = DNNModel(dim_num=67, nb_class=7, dropout_num=8, dropout_p=0.5).to(device)\n",
        "# [77054, 53700,  1377, 23681, 14077,  3569,  1287]\n",
        "samples_per_class = np.array([2271320,  379737,      97,   23681,  158804,   13868,      11])\n",
        "total_samples = samples_per_class.sum()\n",
        "weights = total_samples / (len(samples_per_class) * samples_per_class)\n",
        "print(weights)\n",
        "loss_fn = nn.CrossEntropyLoss(weight=torch.tensor(weights, dtype=torch.float).to(device))\n",
        "# loss_fn = nn.CrossEntropyLoss()\n",
        "optimizer = torch.optim.Adam(dnn_model.parameters(), lr= 1e-5, betas = (0.88, 0.98), weight_decay = 1e-6)\n",
        "\n",
        "\n",
        "epochs = 200\n",
        "train_loss_list = []\n",
        "train_acc_list = []\n",
        "test_loss_list = []\n",
        "test_acc_list = []\n",
        "\n",
        "best_accuracy = 0.0\n",
        "#\n",
        "for t in range(epochs):\n",
        "    print(f\"Epoch {t+1}\\n-------------------------------\")\n",
        "    train_loss, train_correct = train(train_dl, dnn_model, loss_fn, optimizer)\n",
        "    test_loss, test_correct = test(test_dl, dnn_model, loss_fn)\n",
        "\n",
        "    if test_correct > best_accuracy:\n",
        "        best_accuracy = test_correct\n",
        "        torch.save(dnn_model.state_dict(), '/content/drive/MyDrive/best_dnn_model_2.pth')\n",
        "        print(f\"Higher accuracy found ({best_accuracy:.2f}%). Model saved.\")\n",
        "\n",
        "    train_loss_list.append(train_loss)\n",
        "    train_acc_list.append(train_correct)\n",
        "    test_loss_list.append(test_loss)\n",
        "    test_acc_list.append(test_correct)\n",
        "\n",
        "acc = train_acc_list\n",
        "val_acc = test_acc_list\n",
        "\n",
        "loss = train_loss_list\n",
        "val_loss = test_loss_list\n",
        "epochs_range = range(epochs)\n",
        "\n",
        "plt.figure(figsize=(16, 8))\n",
        "plt.subplot(1, 2, 1)\n",
        "plt.plot(epochs_range, acc, label='Training Accuracy')\n",
        "plt.plot(epochs_range, val_acc, label='Validation Accuracy')\n",
        "plt.legend(loc='lower right')\n",
        "plt.title('Training and Validation Accuracy')\n",
        "\n",
        "plt.subplot(1, 2, 2)\n",
        "plt.plot(epochs_range, loss, label='Training Loss')\n",
        "plt.plot(epochs_range, val_loss, label='Validation Loss')\n",
        "plt.legend(loc='upper right')\n",
        "plt.title('Training and Validation Loss')\n",
        "plt.show()\n",
        "\n",
        "predict_list = []  # 存储预测结果\n",
        "label_list = []  # 存储真实标签\n",
        "predict_pro_list = []  # 存储预测概率\n",
        "\n",
        "# 创建模型实例\n",
        "\n",
        "# 加载最优模型参数\n",
        "dnn_model.load_state_dict(torch.load('/content/drive/MyDrive/best_dnn_model_2.pth'))\n",
        "dnn_model.eval()\n",
        "m_softmax = nn.Softmax(dim=1)  # 定义softmax函数用于计算概率\n",
        "\n",
        "\n",
        "# 遍历测试集\n",
        "for (x, y) in test_dl:\n",
        "    x = x.to(device)\n",
        "    y = y.to(device)\n",
        "\n",
        "    # 使用最优模型进行预测\n",
        "    predict_score = dnn_model(x)\n",
        "    predict_pro = m_softmax(predict_score)\n",
        "    predict_label = torch.argmax(predict_score, dim=1)\n",
        "    y = y.argmax(dim=1)\n",
        "    # 将预测结果和真实标签添加到相应的列表中\n",
        "    predict_list.append(predict_label.cpu().numpy())\n",
        "    label_list.append(y.cpu().numpy())\n",
        "\n",
        "# 将列表转换为数组\n",
        "predict_array = np.concatenate(predict_list)\n",
        "label_array = np.concatenate(label_list)\n",
        "\n",
        "# 将独热编码转换为位置索引\n",
        "\n",
        "# # 计算正确预测的样本数\n",
        "correct_predictions = (predict_array == label_array).sum()\n",
        "# # 计算总样本数\n",
        "total_samples = len(label_array)  # 使用 label_index 的长度\n",
        "# # 计算正确率\n",
        "accuracy = correct_predictions / total_samples\n",
        "#\n",
        "print(\"预测正确率:\", accuracy)\n",
        "#"
      ]
    },
    {
      "cell_type": "code",
      "execution_count": null,
      "metadata": {
        "colab": {
          "base_uri": "https://localhost:8080/"
        },
        "id": "mGT8UuNad6sh",
        "outputId": "e8153b43-5133-4bcc-da0c-2b8136638bd0"
      },
      "outputs": [
        {
          "name": "stdout",
          "output_type": "stream",
          "text": [
            "预测正确率: 0.9966145979659493\n"
          ]
        }
      ],
      "source": [
        "acc = train_acc_list\n",
        "val_acc = test_acc_list\n",
        "\n",
        "loss = train_loss_list\n",
        "val_loss = test_loss_list\n",
        "epochs_range = range(epochs)\n",
        "\n",
        "# plt.figure(figsize=(16, 8))\n",
        "# plt.subplot(1, 2, 1)\n",
        "# plt.plot(epochs_range, acc, label='Training Accuracy')\n",
        "# plt.plot(epochs_range, val_acc, label='Validation Accuracy')\n",
        "# plt.legend(loc='lower right')\n",
        "# plt.title('Training and Validation Accuracy')\n",
        "\n",
        "# plt.subplot(1, 2, 2)\n",
        "# plt.plot(epochs_range, loss, label='Training Loss')\n",
        "# plt.plot(epochs_range, val_loss, label='Validation Loss')\n",
        "# plt.legend(loc='upper right')\n",
        "# plt.title('Training and Validation Loss')\n",
        "# plt.show()\n",
        "\n",
        "predict_list = []  # 存储预测结果\n",
        "label_list = []  # 存储真实标签\n",
        "predict_pro_list = []  # 存储预测概率\n",
        "\n",
        "# 创建模型实例\n",
        "\n",
        "# 加载最优模型参数\n",
        "dnn_model.load_state_dict(torch.load('/content/drive/MyDrive/best_dnn_model_2.pth'))   #'/content/drive/MyDrive/best_dnn_model_2.pth'\n",
        "dnn_model.eval()\n",
        "m_softmax = nn.Softmax(dim=1)  # 定义softmax函数用于计算概率\n",
        "\n",
        "\n",
        "# 遍历测试集\n",
        "for (x, y) in test_dl:\n",
        "    x = x.to(device)\n",
        "    y = y.to(device)\n",
        "\n",
        "    # 使用最优模型进行预测\n",
        "    predict_score = dnn_model(x)\n",
        "    predict_pro = m_softmax(predict_score)\n",
        "    predict_label = torch.argmax(predict_score, dim=1)\n",
        "    y = y.argmax(dim=1)\n",
        "    # 将预测结果和真实标签添加到相应的列表中\n",
        "    predict_list.append(predict_label.cpu().numpy())\n",
        "    label_list.append(y.cpu().numpy())\n",
        "\n",
        "# 将列表转换为数组\n",
        "predict_array = np.concatenate(predict_list)\n",
        "label_array = np.concatenate(label_list)\n",
        "\n",
        "# 将独热编码转换为位置索引\n",
        "\n",
        "# # 计算正确预测的样本数\n",
        "correct_predictions = (predict_array == label_array).sum()\n",
        "# # 计算总样本数\n",
        "total_samples = len(label_array)  # 使用 label_index 的长度\n",
        "# # 计算正确率\n",
        "accuracy = correct_predictions / total_samples\n",
        "#\n",
        "print(\"预测正确率:\", accuracy)\n",
        "#"
      ]
    },
    {
      "cell_type": "code",
      "execution_count": null,
      "metadata": {
        "id": "o_8v2eXAgI6z"
      },
      "outputs": [],
      "source": [
        "predict_list = []  # 存储预测结果\n",
        "label_list = []  # 存储真实标签\n",
        "predict_pro_list = []  # 存储预测概率"
      ]
    },
    {
      "cell_type": "code",
      "execution_count": null,
      "metadata": {
        "id": "sfMvIjwAfs0O"
      },
      "outputs": [],
      "source": []
    },
    {
      "cell_type": "markdown",
      "metadata": {
        "id": "gljN8UyEftAb"
      },
      "source": [
        "## 分类报告"
      ]
    },
    {
      "cell_type": "code",
      "execution_count": null,
      "metadata": {
        "colab": {
          "base_uri": "https://localhost:8080/"
        },
        "id": "x2ePjJwGftAb",
        "outputId": "315a549b-0a6b-4274-ad5e-e3445b431f17"
      },
      "outputs": [
        {
          "name": "stdout",
          "output_type": "stream",
          "text": [
            "预测正确率: 0.9966\n",
            "分类报告:\n",
            "              precision    recall  f1-score   support\n",
            "\n",
            "           0     0.9994    0.9985    0.9990    227132\n",
            "           1     0.9980    0.9918    0.9949     37974\n",
            "           2     0.2800    0.7000    0.4000        10\n",
            "           3     0.8597    0.9704    0.9117      2368\n",
            "           4     0.9834    0.9883    0.9858     15880\n",
            "           5     0.9306    0.9567    0.9435      1387\n",
            "           6     0.0000    0.0000    0.0000         1\n",
            "\n",
            "    accuracy                         0.9966    284752\n",
            "   macro avg     0.7216    0.8008    0.7478    284752\n",
            "weighted avg     0.9968    0.9966    0.9967    284752\n",
            "\n",
            "混淆矩阵:\n",
            "[[226799     22     10    157    143      1      0]\n",
            " [    88  37663      3    129     79     12      0]\n",
            " [     0      3      7      0      0      0      0]\n",
            " [    30      6      5   2298     27      2      0]\n",
            " [    13      6      0     83  15694     84      0]\n",
            " [     2     36      0      6     16   1327      0]\n",
            " [     0      1      0      0      0      0      0]]\n"
          ]
        },
        {
          "name": "stderr",
          "output_type": "stream",
          "text": [
            "/usr/local/lib/python3.10/dist-packages/sklearn/metrics/_classification.py:1344: UndefinedMetricWarning: Precision and F-score are ill-defined and being set to 0.0 in labels with no predicted samples. Use `zero_division` parameter to control this behavior.\n",
            "  _warn_prf(average, modifier, msg_start, len(result))\n",
            "/usr/local/lib/python3.10/dist-packages/sklearn/metrics/_classification.py:1344: UndefinedMetricWarning: Precision and F-score are ill-defined and being set to 0.0 in labels with no predicted samples. Use `zero_division` parameter to control this behavior.\n",
            "  _warn_prf(average, modifier, msg_start, len(result))\n",
            "/usr/local/lib/python3.10/dist-packages/sklearn/metrics/_classification.py:1344: UndefinedMetricWarning: Precision and F-score are ill-defined and being set to 0.0 in labels with no predicted samples. Use `zero_division` parameter to control this behavior.\n",
            "  _warn_prf(average, modifier, msg_start, len(result))\n"
          ]
        }
      ],
      "source": [
        "import numpy as np\n",
        "from sklearn.metrics import classification_report, confusion_matrix\n",
        "\n",
        "# 确保之前的代码已经执行，此处不再重复\n",
        "\n",
        "# 将列表转换为数组\n",
        "# predict_array = np.concatenate(predict_list)\n",
        "# label_array = np.concatenate(label_list)\n",
        "\n",
        "# 计算正确预测的样本数\n",
        "correct_predictions = (predict_array == label_array).sum()\n",
        "# 计算总样本数\n",
        "total_samples = len(label_array)\n",
        "# 计算正确率\n",
        "accuracy = correct_predictions / total_samples\n",
        "print(\"预测正确率: {:.4f}\".format(accuracy))\n",
        "\n",
        "# 打印分类报告\n",
        "# 在classification_report中设置digits参数为4，以设置小数点后四位的精度\n",
        "print(\"分类报告:\")\n",
        "print(classification_report(label_array, predict_array, digits=4))\n",
        "\n",
        "# 计算并打印混淆矩阵\n",
        "# 注意：混淆矩阵是整数，所以不需要设置小数位数\n",
        "print(\"混淆矩阵:\")\n",
        "cm = confusion_matrix(label_array, predict_array)\n",
        "print(cm)"
      ]
    },
    {
      "cell_type": "code",
      "execution_count": null,
      "metadata": {
        "colab": {
          "base_uri": "https://localhost:8080/"
        },
        "id": "Y82kEwMqftAc",
        "outputId": "ea07eb5b-49ba-4ba2-d21d-6c2cbe2ffe22"
      },
      "outputs": [
        {
          "name": "stdout",
          "output_type": "stream",
          "text": [
            "混淆矩阵:\n",
            "假警报率: 0.0023\n"
          ]
        }
      ],
      "source": [
        "0.0020# 计算并打印混淆矩阵\n",
        "print(\"混淆矩阵:\")\n",
        "cm = confusion_matrix(label_array, predict_array)\n",
        "\n",
        "# 计算假警报率\n",
        "FP = cm[1][0]\n",
        "TN = cm[1][1]\n",
        "false_alarm_rate = FP / (FP + TN)\n",
        "print(\"假警报率: {:.4f}\".format(false_alarm_rate))\n"
      ]
    },
    {
      "cell_type": "code",
      "execution_count": null,
      "metadata": {
        "colab": {
          "base_uri": "https://localhost:8080/"
        },
        "id": "BWURcb0JftAc",
        "outputId": "edfdb508-18cd-45eb-d4e0-e945e298758a"
      },
      "outputs": [
        {
          "name": "stdout",
          "output_type": "stream",
          "text": [
            "混淆矩阵:\n",
            "检测率: 0.9999\n"
          ]
        }
      ],
      "source": [
        "# 计算并打印混淆矩阵\n",
        "print(\"混淆矩阵:\")\n",
        "cm = confusion_matrix(label_array, predict_array)\n",
        "\n",
        "# 计算检测率\n",
        "TP = cm[0][0]\n",
        "FN = cm[0][1]\n",
        "detection_rate = TP / (TP + FN)\n",
        "print(\"检测率: {:.4f}\".format(detection_rate))\n"
      ]
    },
    {
      "cell_type": "code",
      "execution_count": null,
      "metadata": {
        "colab": {
          "base_uri": "https://localhost:8080/"
        },
        "id": "FrTWIuQIftAc",
        "outputId": "a405d1b3-e2db-4cb3-e400-493a448b7ba6"
      },
      "outputs": [
        {
          "name": "stdout",
          "output_type": "stream",
          "text": [
            "混淆矩阵:\n",
            "假负例率: 0.0001\n"
          ]
        }
      ],
      "source": [
        "# 计算并打印混淆矩阵\n",
        "print(\"混淆矩阵:\")\n",
        "cm = confusion_matrix(label_array, predict_array)\n",
        "\n",
        "# 计算假负例率\n",
        "TP = cm[0][0]\n",
        "FN = cm[0][1]\n",
        "false_negative_rate = FN / (TP + FN)\n",
        "print(\"假负例率: {:.4f}\".format(false_negative_rate))\n"
      ]
    },
    {
      "cell_type": "code",
      "execution_count": null,
      "metadata": {
        "colab": {
          "base_uri": "https://localhost:8080/",
          "height": 624
        },
        "id": "I7vvVZiNftAc",
        "outputId": "3e29bad7-8027-4c9d-b592-829a01345b41"
      },
      "outputs": [
        {
          "data": {
            "image/png": "[encoded data removed]",
            "text/plain": [
              "<Figure size 1000x700 with 2 Axes>"
            ]
          },
          "metadata": {},
          "output_type": "display_data"
        }
      ],
      "source": [
        "import numpy as np\n",
        "import matplotlib.pyplot as plt\n",
        "import seaborn as sns\n",
        "from sklearn.metrics import confusion_matrix\n",
        "\n",
        "import numpy as np\n",
        "\n",
        "# 计算混淆矩阵\n",
        "cm = confusion_matrix(label_array, predict_array)\n",
        "\n",
        "# 将混淆矩阵转换为正确率矩阵\n",
        "cm_rate = cm.astype('float') / cm.sum(axis=1)[:, np.newaxis]\n",
        "\n",
        "# 绘制热图\n",
        "plt.figure(figsize=(10, 7))\n",
        "sns.heatmap(cm_rate, annot=True, fmt='.4f', cmap='Blues')\n",
        "plt.ylabel('Actual label')\n",
        "plt.xlabel('Predicted label')\n",
        "# 保存图像\n",
        "# plt.savefig('/content/drive/MyDrive/Figure/confusion_matrix_NSL-KDD.png')  # 指定保存路径和文件名\n",
        "\n",
        "# 显示图像\n",
        "plt.show()\n"
      ]
    },
    {
      "cell_type": "code",
      "execution_count": null,
      "metadata": {
        "colab": {
          "base_uri": "https://localhost:8080/"
        },
        "id": "0if5H6DQftAc",
        "outputId": "ac58df71-d371-44e8-fa5a-34599358e33c"
      },
      "outputs": [
        {
          "name": "stdout",
          "output_type": "stream",
          "text": [
            "Accuracy: 0.9966145979659493\n",
            "Precision: 0.9968113530903544\n",
            "Recall: 0.9966145979659493\n",
            "F1-Score: 0.9966792809770283\n"
          ]
        },
        {
          "name": "stderr",
          "output_type": "stream",
          "text": [
            "/usr/local/lib/python3.10/dist-packages/sklearn/metrics/_classification.py:1344: UndefinedMetricWarning: Precision is ill-defined and being set to 0.0 in labels with no predicted samples. Use `zero_division` parameter to control this behavior.\n",
            "  _warn_prf(average, modifier, msg_start, len(result))\n"
          ]
        }
      ],
      "source": [
        "from sklearn.metrics import precision_score, recall_score, f1_score, accuracy_score\n",
        "# Assuming predict_array and label_array are already defined as shown in your code\n",
        "\n",
        "# Calculate Accuracy\n",
        "accuracy = accuracy_score(label_array, predict_array)\n",
        "print(\"Accuracy:\", accuracy)\n",
        "\n",
        "# Calculate Precision\n",
        "precision = precision_score(label_array, predict_array, average='weighted')\n",
        "print(\"Precision:\", precision)\n",
        "\n",
        "# Calculate Recall\n",
        "recall = recall_score(label_array, predict_array, average='weighted')\n",
        "print(\"Recall:\", recall)\n",
        "\n",
        "# Calculate F1-Score\n",
        "f1 = f1_score(label_array, predict_array, average='weighted')\n",
        "print(\"F1-Score:\", f1)\n"
      ]
    },
    {
      "cell_type": "code",
      "execution_count": null,
      "metadata": {
        "colab": {
          "base_uri": "https://localhost:8080/"
        },
        "id": "TLN7Klu0hPdb",
        "outputId": "4d462b0f-351d-44ae-c760-f15251d52ff4"
      },
      "outputs": [
        {
          "name": "stdout",
          "output_type": "stream",
          "text": [
            "类别0的准确率: 0.9985\n",
            "类别1的准确率: 0.9918\n",
            "类别2的准确率: 0.7000\n",
            "类别3的准确率: 0.9704\n",
            "类别4的准确率: 0.9883\n",
            "类别5的准确率: 0.9567\n",
            "类别6的准确率: 0.0000\n"
          ]
        }
      ],
      "source": [
        "# 分类准确率\n",
        "from sklearn.metrics import confusion_matrix\n",
        "\n",
        "\n",
        "# 计算每个类别的准确率\n",
        "class_accuracy = cm.diagonal() / cm.sum(axis=1)\n",
        "for i, accuracy in enumerate(class_accuracy):\n",
        "    print(\"类别{}的准确率: {:.4f}\".format(i, accuracy))\n",
        "\n"
      ]
    },
    {
      "cell_type": "code",
      "execution_count": null,
      "metadata": {
        "colab": {
          "base_uri": "https://localhost:8080/",
          "height": 542
        },
        "id": "a9VSEaRBPegb",
        "outputId": "ce1fd01c-24af-4432-a1ac-ccb7644cf0c3"
      },
      "outputs": [
        {
          "data": {
            "image/png": "[encoded data removed]",
            "text/plain": [
              "<Figure size 800x600 with 1 Axes>"
            ]
          },
          "metadata": {},
          "output_type": "display_data"
        }
      ],
      "source": [
        "import matplotlib.pyplot as plt\n",
        "\n",
        "# Accuracy data for NSL-KDD and KDDCup99\n",
        "nsl_kdd_accuracies = [0.9904, 0.9948, 0.9896, 0.9922, 0.9899, 0.9918, 0.9915, 0.9892, 0.9879, 0.9927]\n",
        "kddcup99_accuracies = [0.9860, 0.9798, 0.9841, 0.9821, 0.9809, 0.9732, 0.9854, 0.9716, 0.9829, 0.9802]\n",
        "\n",
        "# Set up the plot\n",
        "plt.figure(figsize=(8, 6))\n",
        "rounds = range(1, 11)  # 10 rounds of experiments\n",
        "\n",
        "# Plotting the lines with specified colors\n",
        "plt.plot(rounds, nsl_kdd_accuracies, 'o-', color='red', label='NSL-KDD')  # Red for NSL-KDD\n",
        "plt.plot(rounds, kddcup99_accuracies, 's-', color='black', label='KDDCup99')  # Black for KDDCup99\n",
        "\n",
        "# Adding labels and adjusting y-axis\n",
        "plt.xlabel('Experimental Rounds')\n",
        "plt.ylabel('Accuracy')\n",
        "plt.xticks(range(1, 11))  # Ensure the x-axis labels match the number of rounds\n",
        "# plt.ylim(0.910, 0.970)  # Adjust y-axis range\n",
        "# plt.yticks([0.910, 0.920, 0.930, 0.940, 0.950, 0.960, 0.970])  # Set specific ticks for y-axis\n",
        "plt.legend()\n",
        "\n",
        "# Remove gridlines\n",
        "plt.grid(False)\n",
        "\n",
        "# Show the plot\n",
        "plt.show()\n",
        "\n",
        "\n",
        "\n"
      ]
    }
  ],
  "metadata": {
    "accelerator": "GPU",
    "colab": {
      "collapsed_sections": [
        "Ox4RojhzF26z",
        "fdnH0zhVMajj",
        "Z6uFhC4KQzxq",
        "JKavtetHRZrv",
        "XuBquPwRRYqN",
        "TSkaSUS8RMeq",
        "ayI_BdiER6VK",
        "EgCE7qr5SFI8",
        "hIr709NUGtwa"
      ],
      "gpuType": "V100",
      "machine_shape": "hm",
      "toc_visible": true,
      "provenance": []
    },
    "kernelspec": {
      "display_name": "Python 3",
      "name": "python3"
    },
    "language_info": {
      "name": "python"
    }
  },
  "nbformat": 4,
  "nbformat_minor": 0
}